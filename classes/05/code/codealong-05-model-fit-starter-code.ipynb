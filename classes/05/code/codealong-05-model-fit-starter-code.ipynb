{
 "cells": [
  {
   "cell_type": "markdown",
   "metadata": {},
   "source": [
    "# DS-SF-27 | Codealong 05 | Model Fit"
   ]
  },
  {
   "cell_type": "code",
   "execution_count": 1,
   "metadata": {
    "collapsed": true
   },
   "outputs": [],
   "source": [
    "import os\n",
    "\n",
    "import pandas as pd\n",
    "pd.set_option('display.max_rows', 10)\n",
    "pd.set_option('display.notebook_repr_html', True)\n",
    "pd.set_option('display.max_columns', 10)\n",
    "\n",
    "# TODO\n",
    "import statsmodels.formula.api as smf\n",
    "import matplotlib.pyplot as plt\n",
    "%matplotlib inline\n",
    "plt.style.use('ggplot')"
   ]
  },
  {
   "cell_type": "code",
   "execution_count": 2,
   "metadata": {
    "collapsed": false
   },
   "outputs": [],
   "source": [
    "df = pd.read_csv(os.path.join('..', 'datasets', 'zillow-05.csv'), index_col = 'ID')"
   ]
  },
  {
   "cell_type": "code",
   "execution_count": 3,
   "metadata": {
    "collapsed": false
   },
   "outputs": [
    {
     "data": {
      "text/html": [
       "<div>\n",
       "<table border=\"1\" class=\"dataframe\">\n",
       "  <thead>\n",
       "    <tr style=\"text-align: right;\">\n",
       "      <th></th>\n",
       "      <th>Address</th>\n",
       "      <th>DateOfSale</th>\n",
       "      <th>SalePrice</th>\n",
       "      <th>IsAStudio</th>\n",
       "      <th>BedCount</th>\n",
       "      <th>...</th>\n",
       "      <th>Size</th>\n",
       "      <th>LotSize</th>\n",
       "      <th>BuiltInYear</th>\n",
       "      <th>M1</th>\n",
       "      <th>M2</th>\n",
       "    </tr>\n",
       "    <tr>\n",
       "      <th>ID</th>\n",
       "      <th></th>\n",
       "      <th></th>\n",
       "      <th></th>\n",
       "      <th></th>\n",
       "      <th></th>\n",
       "      <th></th>\n",
       "      <th></th>\n",
       "      <th></th>\n",
       "      <th></th>\n",
       "      <th></th>\n",
       "      <th></th>\n",
       "    </tr>\n",
       "  </thead>\n",
       "  <tbody>\n",
       "    <tr>\n",
       "      <th>15063471</th>\n",
       "      <td>55 Vandewater St APT 9, San Francisco, CA</td>\n",
       "      <td>12/4/15</td>\n",
       "      <td>710000.0</td>\n",
       "      <td>0.0</td>\n",
       "      <td>1.0</td>\n",
       "      <td>...</td>\n",
       "      <td>550.0</td>\n",
       "      <td>NaN</td>\n",
       "      <td>1980.0</td>\n",
       "      <td>1.099658</td>\n",
       "      <td>0.097627</td>\n",
       "    </tr>\n",
       "    <tr>\n",
       "      <th>15063505</th>\n",
       "      <td>740 Francisco St, San Francisco, CA</td>\n",
       "      <td>11/30/15</td>\n",
       "      <td>2150000.0</td>\n",
       "      <td>0.0</td>\n",
       "      <td>NaN</td>\n",
       "      <td>...</td>\n",
       "      <td>1430.0</td>\n",
       "      <td>2435.0</td>\n",
       "      <td>1948.0</td>\n",
       "      <td>3.687657</td>\n",
       "      <td>0.430379</td>\n",
       "    </tr>\n",
       "    <tr>\n",
       "      <th>15063609</th>\n",
       "      <td>819 Francisco St, San Francisco, CA</td>\n",
       "      <td>11/12/15</td>\n",
       "      <td>5600000.0</td>\n",
       "      <td>0.0</td>\n",
       "      <td>2.0</td>\n",
       "      <td>...</td>\n",
       "      <td>2040.0</td>\n",
       "      <td>3920.0</td>\n",
       "      <td>1976.0</td>\n",
       "      <td>8.975475</td>\n",
       "      <td>0.205527</td>\n",
       "    </tr>\n",
       "    <tr>\n",
       "      <th>15064044</th>\n",
       "      <td>199 Chestnut St APT 5, San Francisco, CA</td>\n",
       "      <td>12/11/15</td>\n",
       "      <td>1500000.0</td>\n",
       "      <td>0.0</td>\n",
       "      <td>1.0</td>\n",
       "      <td>...</td>\n",
       "      <td>1060.0</td>\n",
       "      <td>NaN</td>\n",
       "      <td>1930.0</td>\n",
       "      <td>2.317325</td>\n",
       "      <td>0.089766</td>\n",
       "    </tr>\n",
       "    <tr>\n",
       "      <th>15064257</th>\n",
       "      <td>111 Chestnut St APT 403, San Francisco, CA</td>\n",
       "      <td>1/15/16</td>\n",
       "      <td>970000.0</td>\n",
       "      <td>0.0</td>\n",
       "      <td>2.0</td>\n",
       "      <td>...</td>\n",
       "      <td>1299.0</td>\n",
       "      <td>NaN</td>\n",
       "      <td>1993.0</td>\n",
       "      <td>1.380945</td>\n",
       "      <td>-0.152690</td>\n",
       "    </tr>\n",
       "  </tbody>\n",
       "</table>\n",
       "<p>5 rows × 11 columns</p>\n",
       "</div>"
      ],
      "text/plain": [
       "                                             Address DateOfSale  SalePrice  \\\n",
       "ID                                                                           \n",
       "15063471   55 Vandewater St APT 9, San Francisco, CA    12/4/15   710000.0   \n",
       "15063505         740 Francisco St, San Francisco, CA   11/30/15  2150000.0   \n",
       "15063609         819 Francisco St, San Francisco, CA   11/12/15  5600000.0   \n",
       "15064044    199 Chestnut St APT 5, San Francisco, CA   12/11/15  1500000.0   \n",
       "15064257  111 Chestnut St APT 403, San Francisco, CA    1/15/16   970000.0   \n",
       "\n",
       "          IsAStudio  BedCount    ...       Size  LotSize  BuiltInYear  \\\n",
       "ID                               ...                                    \n",
       "15063471        0.0       1.0    ...      550.0      NaN       1980.0   \n",
       "15063505        0.0       NaN    ...     1430.0   2435.0       1948.0   \n",
       "15063609        0.0       2.0    ...     2040.0   3920.0       1976.0   \n",
       "15064044        0.0       1.0    ...     1060.0      NaN       1930.0   \n",
       "15064257        0.0       2.0    ...     1299.0      NaN       1993.0   \n",
       "\n",
       "                M1        M2  \n",
       "ID                            \n",
       "15063471  1.099658  0.097627  \n",
       "15063505  3.687657  0.430379  \n",
       "15063609  8.975475  0.205527  \n",
       "15064044  2.317325  0.089766  \n",
       "15064257  1.380945 -0.152690  \n",
       "\n",
       "[5 rows x 11 columns]"
      ]
     },
     "execution_count": 3,
     "metadata": {},
     "output_type": "execute_result"
    }
   ],
   "source": [
    "df.head()"
   ]
  },
  {
   "cell_type": "markdown",
   "metadata": {},
   "source": [
    "We are using our usual SF housing dataset but we added two new variables `M1` and `M2` to it."
   ]
  },
  {
   "cell_type": "markdown",
   "metadata": {},
   "source": [
    "## Exploratory Data Analysis on `M1` and `M2` on how they relate to `SalePrice`"
   ]
  },
  {
   "cell_type": "markdown",
   "metadata": {},
   "source": [
    "#### Correlation"
   ]
  },
  {
   "cell_type": "code",
   "execution_count": 10,
   "metadata": {
    "collapsed": false
   },
   "outputs": [
    {
     "data": {
      "text/html": [
       "<div>\n",
       "<table border=\"1\" class=\"dataframe\">\n",
       "  <thead>\n",
       "    <tr style=\"text-align: right;\">\n",
       "      <th></th>\n",
       "      <th>SalePrice</th>\n",
       "      <th>M1</th>\n",
       "      <th>M2</th>\n",
       "    </tr>\n",
       "  </thead>\n",
       "  <tbody>\n",
       "    <tr>\n",
       "      <th>SalePrice</th>\n",
       "      <td>1.000000</td>\n",
       "      <td>0.970612</td>\n",
       "      <td>0.022003</td>\n",
       "    </tr>\n",
       "    <tr>\n",
       "      <th>M1</th>\n",
       "      <td>0.970612</td>\n",
       "      <td>1.000000</td>\n",
       "      <td>0.166624</td>\n",
       "    </tr>\n",
       "    <tr>\n",
       "      <th>M2</th>\n",
       "      <td>0.022003</td>\n",
       "      <td>0.166624</td>\n",
       "      <td>1.000000</td>\n",
       "    </tr>\n",
       "  </tbody>\n",
       "</table>\n",
       "</div>"
      ],
      "text/plain": [
       "           SalePrice        M1        M2\n",
       "SalePrice   1.000000  0.970612  0.022003\n",
       "M1          0.970612  1.000000  0.166624\n",
       "M2          0.022003  0.166624  1.000000"
      ]
     },
     "execution_count": 10,
     "metadata": {},
     "output_type": "execute_result"
    }
   ],
   "source": [
    "df[['SalePrice', 'M1', 'M2']].corr()"
   ]
  },
  {
   "cell_type": "markdown",
   "metadata": {},
   "source": [
    "#### Scatter plots"
   ]
  },
  {
   "cell_type": "code",
   "execution_count": 14,
   "metadata": {
    "collapsed": false
   },
   "outputs": [
    {
     "data": {
      "text/plain": [
       "<matplotlib.axes._subplots.AxesSubplot at 0x115277110>"
      ]
     },
     "execution_count": 14,
     "metadata": {},
     "output_type": "execute_result"
    },
    {
     "data": {
      "image/png": "[encoded data removed]",
      "text/plain": [
       "<matplotlib.figure.Figure at 0x115236c10>"
      ]
     },
     "metadata": {},
     "output_type": "display_data"
    }
   ],
   "source": [
    "df.plot(kind = 'scatter', x = 'M1', y = 'SalePrice', s = 100, figsize = (8, 8))"
   ]
  },
  {
   "cell_type": "code",
   "execution_count": 15,
   "metadata": {
    "collapsed": false
   },
   "outputs": [
    {
     "data": {
      "text/plain": [
       "<matplotlib.axes._subplots.AxesSubplot at 0x1152710d0>"
      ]
     },
     "execution_count": 15,
     "metadata": {},
     "output_type": "execute_result"
    },
    {
     "data": {
      "image/png": "[encoded data removed]",
      "text/plain": [
       "<matplotlib.figure.Figure at 0x11840c5d0>"
      ]
     },
     "metadata": {},
     "output_type": "display_data"
    }
   ],
   "source": [
    "df[ ['SalePrice', 'M2'] ].plot(kind = 'scatter', x = 'M2', y = 'SalePrice', s = 100, figsize = (8, 8))"
   ]
  },
  {
   "cell_type": "markdown",
   "metadata": {},
   "source": [
    "## Your first Machine Learning Models!"
   ]
  },
  {
   "cell_type": "markdown",
   "metadata": {},
   "source": [
    "### Machine Learning Model #1 | `SalePrice` as a function of `M1`"
   ]
  },
  {
   "cell_type": "code",
   "execution_count": 17,
   "metadata": {
    "collapsed": false
   },
   "outputs": [],
   "source": [
    "X = df[['M1']]\n",
    "y = df.SalePrice\n",
    "\n",
    "model = smf.OLS(y,X).fit()"
   ]
  },
  {
   "cell_type": "code",
   "execution_count": 18,
   "metadata": {
    "collapsed": false
   },
   "outputs": [
    {
     "data": {
      "text/html": [
       "<table class=\"simpletable\">\n",
       "<caption>OLS Regression Results</caption>\n",
       "<tr>\n",
       "  <th>Dep. Variable:</th>        <td>SalePrice</td>    <th>  R-squared:         </th> <td>   0.963</td> \n",
       "</tr>\n",
       "<tr>\n",
       "  <th>Model:</th>                   <td>OLS</td>       <th>  Adj. R-squared:    </th> <td>   0.963</td> \n",
       "</tr>\n",
       "<tr>\n",
       "  <th>Method:</th>             <td>Least Squares</td>  <th>  F-statistic:       </th> <td>2.567e+04</td>\n",
       "</tr>\n",
       "<tr>\n",
       "  <th>Date:</th>             <td>Thu, 22 Sep 2016</td> <th>  Prob (F-statistic):</th>  <td>  0.00</td>  \n",
       "</tr>\n",
       "<tr>\n",
       "  <th>Time:</th>                 <td>19:17:11</td>     <th>  Log-Likelihood:    </th> <td> -14393.</td> \n",
       "</tr>\n",
       "<tr>\n",
       "  <th>No. Observations:</th>      <td>  1000</td>      <th>  AIC:               </th> <td>2.879e+04</td>\n",
       "</tr>\n",
       "<tr>\n",
       "  <th>Df Residuals:</th>          <td>   999</td>      <th>  BIC:               </th> <td>2.879e+04</td>\n",
       "</tr>\n",
       "<tr>\n",
       "  <th>Df Model:</th>              <td>     1</td>      <th>                     </th>     <td> </td>    \n",
       "</tr>\n",
       "<tr>\n",
       "  <th>Covariance Type:</th>      <td>nonrobust</td>    <th>                     </th>     <td> </td>    \n",
       "</tr>\n",
       "</table>\n",
       "<table class=\"simpletable\">\n",
       "<tr>\n",
       "   <td></td>     <th>coef</th>     <th>std err</th>      <th>t</th>      <th>P>|t|</th> <th>[95.0% Conf. Int.]</th> \n",
       "</tr>\n",
       "<tr>\n",
       "  <th>M1</th> <td> 6.241e+05</td> <td> 3894.990</td> <td>  160.228</td> <td> 0.000</td> <td> 6.16e+05  6.32e+05</td>\n",
       "</tr>\n",
       "</table>\n",
       "<table class=\"simpletable\">\n",
       "<tr>\n",
       "  <th>Omnibus:</th>       <td>1044.296</td> <th>  Durbin-Watson:     </th>  <td>   1.921</td> \n",
       "</tr>\n",
       "<tr>\n",
       "  <th>Prob(Omnibus):</th>  <td> 0.000</td>  <th>  Jarque-Bera (JB):  </th> <td>901486.247</td>\n",
       "</tr>\n",
       "<tr>\n",
       "  <th>Skew:</th>           <td> 3.948</td>  <th>  Prob(JB):          </th>  <td>    0.00</td> \n",
       "</tr>\n",
       "<tr>\n",
       "  <th>Kurtosis:</th>       <td>149.879</td> <th>  Cond. No.          </th>  <td>    1.00</td> \n",
       "</tr>\n",
       "</table>"
      ],
      "text/plain": [
       "<class 'statsmodels.iolib.summary.Summary'>\n",
       "\"\"\"\n",
       "                            OLS Regression Results                            \n",
       "==============================================================================\n",
       "Dep. Variable:              SalePrice   R-squared:                       0.963\n",
       "Model:                            OLS   Adj. R-squared:                  0.963\n",
       "Method:                 Least Squares   F-statistic:                 2.567e+04\n",
       "Date:                Thu, 22 Sep 2016   Prob (F-statistic):               0.00\n",
       "Time:                        19:17:11   Log-Likelihood:                -14393.\n",
       "No. Observations:                1000   AIC:                         2.879e+04\n",
       "Df Residuals:                     999   BIC:                         2.879e+04\n",
       "Df Model:                           1                                         \n",
       "Covariance Type:            nonrobust                                         \n",
       "==============================================================================\n",
       "                 coef    std err          t      P>|t|      [95.0% Conf. Int.]\n",
       "------------------------------------------------------------------------------\n",
       "M1          6.241e+05   3894.990    160.228      0.000      6.16e+05  6.32e+05\n",
       "==============================================================================\n",
       "Omnibus:                     1044.296   Durbin-Watson:                   1.921\n",
       "Prob(Omnibus):                  0.000   Jarque-Bera (JB):           901486.247\n",
       "Skew:                           3.948   Prob(JB):                         0.00\n",
       "Kurtosis:                     149.879   Cond. No.                         1.00\n",
       "==============================================================================\n",
       "\n",
       "Warnings:\n",
       "[1] Standard Errors assume that the covariance matrix of the errors is correctly specified.\n",
       "\"\"\""
      ]
     },
     "execution_count": 18,
     "metadata": {},
     "output_type": "execute_result"
    }
   ],
   "source": [
    "model.summary()"
   ]
  },
  {
   "cell_type": "markdown",
   "metadata": {},
   "source": [
    "### Machine Learning Model #2 | `SalePrice` as a function of `M2`"
   ]
  },
  {
   "cell_type": "code",
   "execution_count": 19,
   "metadata": {
    "collapsed": false
   },
   "outputs": [],
   "source": [
    "X = df[['M2']]\n",
    "y = df.SalePrice\n",
    "\n",
    "model = smf.OLS(y,X).fit()"
   ]
  },
  {
   "cell_type": "code",
   "execution_count": 20,
   "metadata": {
    "collapsed": false
   },
   "outputs": [
    {
     "data": {
      "text/html": [
       "<table class=\"simpletable\">\n",
       "<caption>OLS Regression Results</caption>\n",
       "<tr>\n",
       "  <th>Dep. Variable:</th>        <td>SalePrice</td>    <th>  R-squared:         </th> <td>   0.000</td> \n",
       "</tr>\n",
       "<tr>\n",
       "  <th>Model:</th>                   <td>OLS</td>       <th>  Adj. R-squared:    </th> <td>  -0.001</td> \n",
       "</tr>\n",
       "<tr>\n",
       "  <th>Method:</th>             <td>Least Squares</td>  <th>  F-statistic:       </th> <td> 0.06941</td> \n",
       "</tr>\n",
       "<tr>\n",
       "  <th>Date:</th>             <td>Thu, 22 Sep 2016</td> <th>  Prob (F-statistic):</th>  <td> 0.792</td>  \n",
       "</tr>\n",
       "<tr>\n",
       "  <th>Time:</th>                 <td>19:18:01</td>     <th>  Log-Likelihood:    </th> <td> -16036.</td> \n",
       "</tr>\n",
       "<tr>\n",
       "  <th>No. Observations:</th>      <td>  1000</td>      <th>  AIC:               </th> <td>3.207e+04</td>\n",
       "</tr>\n",
       "<tr>\n",
       "  <th>Df Residuals:</th>          <td>   999</td>      <th>  BIC:               </th> <td>3.208e+04</td>\n",
       "</tr>\n",
       "<tr>\n",
       "  <th>Df Model:</th>              <td>     1</td>      <th>                     </th>     <td> </td>    \n",
       "</tr>\n",
       "<tr>\n",
       "  <th>Covariance Type:</th>      <td>nonrobust</td>    <th>                     </th>     <td> </td>    \n",
       "</tr>\n",
       "</table>\n",
       "<table class=\"simpletable\">\n",
       "<tr>\n",
       "   <td></td>     <th>coef</th>     <th>std err</th>      <th>t</th>      <th>P>|t|</th> <th>[95.0% Conf. Int.]</th> \n",
       "</tr>\n",
       "<tr>\n",
       "  <th>M2</th> <td> 3.195e+04</td> <td> 1.21e+05</td> <td>    0.263</td> <td> 0.792</td> <td>-2.06e+05   2.7e+05</td>\n",
       "</tr>\n",
       "</table>\n",
       "<table class=\"simpletable\">\n",
       "<tr>\n",
       "  <th>Omnibus:</th>       <td>1664.600</td> <th>  Durbin-Watson:     </th>  <td>   0.971</td> \n",
       "</tr>\n",
       "<tr>\n",
       "  <th>Prob(Omnibus):</th>  <td> 0.000</td>  <th>  Jarque-Bera (JB):  </th> <td>986904.813</td>\n",
       "</tr>\n",
       "<tr>\n",
       "  <th>Skew:</th>           <td>10.532</td>  <th>  Prob(JB):          </th>  <td>    0.00</td> \n",
       "</tr>\n",
       "<tr>\n",
       "  <th>Kurtosis:</th>       <td>155.453</td> <th>  Cond. No.          </th>  <td>    1.00</td> \n",
       "</tr>\n",
       "</table>"
      ],
      "text/plain": [
       "<class 'statsmodels.iolib.summary.Summary'>\n",
       "\"\"\"\n",
       "                            OLS Regression Results                            \n",
       "==============================================================================\n",
       "Dep. Variable:              SalePrice   R-squared:                       0.000\n",
       "Model:                            OLS   Adj. R-squared:                 -0.001\n",
       "Method:                 Least Squares   F-statistic:                   0.06941\n",
       "Date:                Thu, 22 Sep 2016   Prob (F-statistic):              0.792\n",
       "Time:                        19:18:01   Log-Likelihood:                -16036.\n",
       "No. Observations:                1000   AIC:                         3.207e+04\n",
       "Df Residuals:                     999   BIC:                         3.208e+04\n",
       "Df Model:                           1                                         \n",
       "Covariance Type:            nonrobust                                         \n",
       "==============================================================================\n",
       "                 coef    std err          t      P>|t|      [95.0% Conf. Int.]\n",
       "------------------------------------------------------------------------------\n",
       "M2          3.195e+04   1.21e+05      0.263      0.792     -2.06e+05   2.7e+05\n",
       "==============================================================================\n",
       "Omnibus:                     1664.600   Durbin-Watson:                   0.971\n",
       "Prob(Omnibus):                  0.000   Jarque-Bera (JB):           986904.813\n",
       "Skew:                          10.532   Prob(JB):                         0.00\n",
       "Kurtosis:                     155.453   Cond. No.                         1.00\n",
       "==============================================================================\n",
       "\n",
       "Warnings:\n",
       "[1] Standard Errors assume that the covariance matrix of the errors is correctly specified.\n",
       "\"\"\""
      ]
     },
     "execution_count": 20,
     "metadata": {},
     "output_type": "execute_result"
    }
   ],
   "source": [
    "model.summary()"
   ]
  }
 ],
 "metadata": {
  "anaconda-cloud": {},
  "kernelspec": {
   "display_name": "Python [conda root]",
   "language": "python",
   "name": "conda-root-py"
  },
  "language_info": {
   "codemirror_mode": {
    "name": "ipython",
    "version": 2
   },
   "file_extension": ".py",
   "mimetype": "text/x-python",
   "name": "python",
   "nbconvert_exporter": "python",
   "pygments_lexer": "ipython2",
   "version": "2.7.3"
  }
 },
 "nbformat": 4,
 "nbformat_minor": 0
}
