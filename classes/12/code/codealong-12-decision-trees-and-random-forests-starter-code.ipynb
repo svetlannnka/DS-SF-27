{
 "cells": [
  {
   "cell_type": "markdown",
   "metadata": {},
   "source": [
    "# DS-SF-27 | Codealong 12 | Decision Trees and Random Forests"
   ]
  },
  {
   "cell_type": "code",
   "execution_count": 1,
   "metadata": {
    "collapsed": true
   },
   "outputs": [],
   "source": [
    "import os\n",
    "\n",
    "import numpy as np\n",
    "import pandas as pd\n",
    "pd.set_option('display.max_rows', 10)\n",
    "pd.set_option('display.notebook_repr_html', True)\n",
    "pd.set_option('display.max_columns', 10)\n",
    "\n",
    "import matplotlib.pyplot as plt\n",
    "%matplotlib inline\n",
    "plt.style.use('ggplot')\n",
    "\n",
    "import math"
   ]
  },
  {
   "cell_type": "markdown",
   "metadata": {},
   "source": [
    "## Part A - The 2008 Democratic Primaries"
   ]
  },
  {
   "cell_type": "markdown",
   "metadata": {},
   "source": [
    "(dataset adapted from http://www.stat.ucla.edu/~cocteau/primaries.csv)"
   ]
  },
  {
   "cell_type": "code",
   "execution_count": 2,
   "metadata": {
    "collapsed": false
   },
   "outputs": [],
   "source": [
    "df = pd.read_csv(os.path.join('..', 'datasets', '2008-democrat-primaries.csv'))"
   ]
  },
  {
   "cell_type": "code",
   "execution_count": 3,
   "metadata": {
    "collapsed": false
   },
   "outputs": [
    {
     "data": {
      "text/plain": [
       "Index([u'fips', u'county_name', u'state_postal', u'region', u'election_date',\n",
       "       u'racetype', u'tvotes', u'clinton', u'obama', u'edwards', u'margin',\n",
       "       u'winner', u'POP05_SQMI', u'popUnder30_00', u'pop65up_00',\n",
       "       u'presVote04', u'kerry04', u'Bush04', u'pres04margin', u'pres04winner',\n",
       "       u'pop06', u'pop00', u'hisp06', u'white06', u'black06', u'indian06',\n",
       "       u'asian06', u'hawaii06', u'mixed06', u'pct_less_30k', u'pct_more_100k',\n",
       "       u'pct_hs_grad', u'pct_labor_force', u'pct_homeowner', u'unempFeb07',\n",
       "       u'unempFeb08', u'unempChg', u'pctUnins00', u'subForPctHomes',\n",
       "       u'poverty05', u'median_hhi05', u'Catholic', u'So.Bapt.Conv',\n",
       "       u'Un.Methodist', u'E.L.C.A.', u'Construction', u'Manufacturing',\n",
       "       u'FinancialActivities', u'GoodsProducing', u'ServiceProviding'],\n",
       "      dtype='object')"
      ]
     },
     "execution_count": 3,
     "metadata": {},
     "output_type": "execute_result"
    }
   ],
   "source": [
    "df.columns"
   ]
  },
  {
   "cell_type": "code",
   "execution_count": 4,
   "metadata": {
    "collapsed": false
   },
   "outputs": [
    {
     "data": {
      "text/plain": [
       "array(['obama', 'clinton', nan], dtype=object)"
      ]
     },
     "execution_count": 4,
     "metadata": {},
     "output_type": "execute_result"
    }
   ],
   "source": [
    "df.winner.unique()"
   ]
  },
  {
   "cell_type": "code",
   "execution_count": 5,
   "metadata": {
    "collapsed": true
   },
   "outputs": [],
   "source": [
    "df['c'] = (df.winner == 'obama')"
   ]
  },
  {
   "cell_type": "markdown",
   "metadata": {
    "collapsed": true
   },
   "source": [
    "### First cut: Is a county more than 20% black?"
   ]
  },
  {
   "cell_type": "code",
   "execution_count": 8,
   "metadata": {
    "collapsed": false
   },
   "outputs": [],
   "source": [
    "df['pct_black06'] = df['black06'] / df['pop06']"
   ]
  },
  {
   "cell_type": "code",
   "execution_count": 9,
   "metadata": {
    "collapsed": false
   },
   "outputs": [
    {
     "data": {
      "text/plain": [
       "0    0.172109\n",
       "1    0.096363\n",
       "2    0.462710\n",
       "3    0.219021\n",
       "4    0.015451\n",
       "Name: pct_black06, dtype: float64"
      ]
     },
     "execution_count": 9,
     "metadata": {},
     "output_type": "execute_result"
    }
   ],
   "source": [
    "df.pct_black06.head()"
   ]
  },
  {
   "cell_type": "code",
   "execution_count": 10,
   "metadata": {
    "collapsed": true
   },
   "outputs": [],
   "source": [
    "parent_df = df"
   ]
  },
  {
   "cell_type": "code",
   "execution_count": 11,
   "metadata": {
    "collapsed": true
   },
   "outputs": [],
   "source": [
    "left_child_df = parent_df[parent_df.pct_black06 <= .2]"
   ]
  },
  {
   "cell_type": "code",
   "execution_count": 12,
   "metadata": {
    "collapsed": true
   },
   "outputs": [],
   "source": [
    "right_child_df = parent_df.drop(left_child_df.index)"
   ]
  },
  {
   "cell_type": "markdown",
   "metadata": {
    "collapsed": true
   },
   "source": [
    "#### First cut/right node"
   ]
  },
  {
   "cell_type": "code",
   "execution_count": 13,
   "metadata": {
    "collapsed": false
   },
   "outputs": [
    {
     "data": {
      "text/plain": [
       "381"
      ]
     },
     "execution_count": 13,
     "metadata": {},
     "output_type": "execute_result"
    }
   ],
   "source": [
    "(right_child_df.c == 1).sum()"
   ]
  },
  {
   "cell_type": "code",
   "execution_count": 15,
   "metadata": {
    "collapsed": false
   },
   "outputs": [
    {
     "data": {
      "text/plain": [
       "70"
      ]
     },
     "execution_count": 15,
     "metadata": {},
     "output_type": "execute_result"
    }
   ],
   "source": [
    "(right_child_df.c == 0).sum()"
   ]
  },
  {
   "cell_type": "code",
   "execution_count": null,
   "metadata": {
    "collapsed": true
   },
   "outputs": [],
   "source": []
  },
  {
   "cell_type": "code",
   "execution_count": 16,
   "metadata": {
    "collapsed": false
   },
   "outputs": [],
   "source": [
    "def obama_vs_clinton(df):\n",
    "    obama = (df.c == 1).sum()\n",
    "    clinton = (df.c == 0).sum()\n",
    "    if obama > clinton:\n",
    "        print 'Obama wins these counties {} to {}.'.format(obama, clinton)\n",
    "    elif clinton > obama:\n",
    "        print 'Clinton wins these counties {} to {}.'.format(clinton, obama)\n",
    "    else:\n",
    "        print 'Obama and Clinton tie in these counties {} {}.'.format(obama, clinton)"
   ]
  },
  {
   "cell_type": "code",
   "execution_count": 17,
   "metadata": {
    "collapsed": false
   },
   "outputs": [
    {
     "name": "stdout",
     "output_type": "stream",
     "text": [
      "Obama wins these counties 381 to 70.\n"
     ]
    }
   ],
   "source": [
    "obama_vs_clinton(right_child_df)"
   ]
  },
  {
   "cell_type": "markdown",
   "metadata": {},
   "source": [
    "### Second cut: Is high school graduation rate higher than 78%?"
   ]
  },
  {
   "cell_type": "code",
   "execution_count": 18,
   "metadata": {
    "collapsed": true
   },
   "outputs": [],
   "source": [
    "parent_df = left_child_df\n",
    "left_child_df = parent_df[parent_df.pct_hs_grad <= .78]\n",
    "right_child_df = df.drop(left_child_df.index)"
   ]
  },
  {
   "cell_type": "code",
   "execution_count": 19,
   "metadata": {
    "collapsed": false
   },
   "outputs": [
    {
     "name": "stdout",
     "output_type": "stream",
     "text": [
      "Clinton wins these counties 714 to 93.\n"
     ]
    }
   ],
   "source": [
    "obama_vs_clinton(left_child_df)"
   ]
  },
  {
   "cell_type": "markdown",
   "metadata": {},
   "source": [
    "### Third cut: Is high school graduation rate higher than 87%?"
   ]
  },
  {
   "cell_type": "code",
   "execution_count": 20,
   "metadata": {
    "collapsed": true
   },
   "outputs": [],
   "source": [
    "parent_df = right_child_df\n",
    "left_child_df = parent_df[parent_df.pct_hs_grad <= .87]\n",
    "right_child_df = parent_df.drop(left_child_df.index)"
   ]
  },
  {
   "cell_type": "code",
   "execution_count": 21,
   "metadata": {
    "collapsed": false
   },
   "outputs": [
    {
     "name": "stdout",
     "output_type": "stream",
     "text": [
      "Obama wins these counties 183 to 36.\n"
     ]
    }
   ],
   "source": [
    "obama_vs_clinton(right_child_df)"
   ]
  },
  {
   "cell_type": "markdown",
   "metadata": {},
   "source": [
    "## Part B - Building the 2008 Democratic Primaries Decision Tree by Hand"
   ]
  },
  {
   "cell_type": "code",
   "execution_count": 22,
   "metadata": {
    "collapsed": false
   },
   "outputs": [],
   "source": [
    "class Node:\n",
    "\n",
    "    @staticmethod\n",
    "    def root(root_df):\n",
    "        cs = sorted(set(root_df.c))\n",
    "        return Node(cs, root_df)\n",
    "\n",
    "    def decision(self, left_filter):\n",
    "        # Collect the observations for which the decision split is true and\n",
    "        # create the corresponding left node\n",
    "\n",
    "        left_filter = left_filter(self.df)\n",
    "        left_df = self.df[left_filter]\n",
    "        self.left = Node(self.cs, left_df)\n",
    "\n",
    "        # Same thing on the right side but for the observations that don't\n",
    "        # satisfy the decision split (the \"else\")\n",
    "\n",
    "        right_df = self.df.drop(left_df.index)\n",
    "        self.right = Node(self.cs, right_df)\n",
    "\n",
    "        # The entropy after the decision split is the weighted average of the\n",
    "        # children entropy\n",
    "\n",
    "        self.after = (self.left.samples * self.left.before\n",
    "                      + self.right.samples * self.right.before) / self.samples\n",
    "\n",
    "        # The information gain corresponds to the entropy lost between the\n",
    "        # parent node (this node and the \"before\") and its child (the \"after\")\n",
    "\n",
    "        self.information_gain = self.before - self.after\n",
    "\n",
    "        return self\n",
    "\n",
    "    def __init__(self, cs, df):\n",
    "        self.cs = cs\n",
    "        self.df = df\n",
    "\n",
    "        # Counts of the remaining observations in the subspace per classes\n",
    "        self.counts = [(self.df.c == c).sum() for c in self.cs]\n",
    "\n",
    "        # Number of observations in the subspace\n",
    "        self.samples = sum(self.counts)\n",
    "\n",
    "        # For empty subspaces, probabilties and entropy are set to zero\n",
    "        if self.samples == 0:\n",
    "            self.probabilities = [.0 for count in self.counts]\n",
    "            self.before = .0\n",
    "        else:\n",
    "            self.probabilities = [1. * count / self.samples for count in self.counts]\n",
    "            self.before = - sum(map(lambda p: p * math.log(p, 2),\n",
    "                                    filter(lambda p : p > .0, self.probabilities)))\n",
    "\n",
    "    def status(self):\n",
    "        print 'classes                       =', self.cs\n",
    "        print 'before:'\n",
    "        print \"\\tparent:\"\n",
    "        print \"\\t\\tsamples       =\", self.samples\n",
    "        print \"\\t\\tcounts        =\", self.counts\n",
    "        print \"\\t\\tprobabilities =\", self.probabilities\n",
    "        print \"\\t\\tentropy       =\", self.before\n",
    "        print 'after:'\n",
    "        print \"\\tleft child:\"\n",
    "        print \"\\t\\tsamples       =\", self.left.samples\n",
    "        print \"\\t\\tcounts        =\", self.left.counts\n",
    "        print \"\\t\\tprobabilities =\", self.left.probabilities\n",
    "        print \"\\t\\tentropy       =\", self.left.before\n",
    "        print \"\\tright child:\"\n",
    "        print \"\\t\\tsamples       =\", self.right.samples\n",
    "        print \"\\t\\tcounts        =\", self.right.counts\n",
    "        print \"\\t\\tprobabilities =\", self.right.probabilities\n",
    "        print \"\\t\\tentropy       =\", self.right.before\n",
    "        print\n",
    "        print 'before entropy                =', self.before\n",
    "        print 'after entropy                 =', self.after\n",
    "        print 'information gain              =', self.information_gain"
   ]
  },
  {
   "cell_type": "code",
   "execution_count": 23,
   "metadata": {
    "collapsed": true
   },
   "outputs": [],
   "source": [
    "df.c = df.winner"
   ]
  },
  {
   "cell_type": "markdown",
   "metadata": {},
   "source": [
    "### First cut"
   ]
  },
  {
   "cell_type": "code",
   "execution_count": 24,
   "metadata": {
    "collapsed": false
   },
   "outputs": [],
   "source": [
    "node = Node.root(df)"
   ]
  },
  {
   "cell_type": "markdown",
   "metadata": {
    "collapsed": true
   },
   "source": [
    "#### Candidate #1: Is a county more than 20% black?"
   ]
  },
  {
   "cell_type": "code",
   "execution_count": 26,
   "metadata": {
    "collapsed": false
   },
   "outputs": [
    {
     "name": "stdout",
     "output_type": "stream",
     "text": [
      "classes                       = [nan, 'clinton', 'obama']\n",
      "before:\n",
      "\tparent:\n",
      "\t\tsamples       = 2241\n",
      "\t\tcounts        = [0, 1210, 1031]\n",
      "\t\tprobabilities = [0.0, 0.5399375278893351, 0.46006247211066487]\n",
      "\t\tentropy       = 0.995392878882\n",
      "after:\n",
      "\tleft child:\n",
      "\t\tsamples       = 1791\n",
      "\t\tcounts        = [0, 1141, 650]\n",
      "\t\tprobabilities = [0.0, 0.637074260189838, 0.3629257398101619]\n",
      "\t\tentropy       = 0.945085004347\n",
      "\tright child:\n",
      "\t\tsamples       = 450\n",
      "\t\tcounts        = [0, 69, 381]\n",
      "\t\tprobabilities = [0.0, 0.15333333333333332, 0.8466666666666667]\n",
      "\t\tentropy       = 0.6181194891\n",
      "\n",
      "before entropy                = 0.995392878882\n",
      "after entropy                 = 0.879429278394\n",
      "information gain              = 0.115963600488\n"
     ]
    }
   ],
   "source": [
    "node.decision(lambda df: df.pct_black06<= .2).status()"
   ]
  },
  {
   "cell_type": "markdown",
   "metadata": {
    "collapsed": true
   },
   "source": [
    "#### Candidate #2: Is high school graduation rate higher than 78%?"
   ]
  },
  {
   "cell_type": "code",
   "execution_count": 27,
   "metadata": {
    "collapsed": false
   },
   "outputs": [
    {
     "name": "stdout",
     "output_type": "stream",
     "text": [
      "classes                       = [nan, 'clinton', 'obama']\n",
      "before:\n",
      "\tparent:\n",
      "\t\tsamples       = 2241\n",
      "\t\tcounts        = [0, 1210, 1031]\n",
      "\t\tprobabilities = [0.0, 0.5399375278893351, 0.46006247211066487]\n",
      "\t\tentropy       = 0.995392878882\n",
      "after:\n",
      "\tleft child:\n",
      "\t\tsamples       = 1167\n",
      "\t\tcounts        = [0, 774, 393]\n",
      "\t\tprobabilities = [0.0, 0.6632390745501285, 0.33676092544987146]\n",
      "\t\tentropy       = 0.92168535501\n",
      "\tright child:\n",
      "\t\tsamples       = 1074\n",
      "\t\tcounts        = [0, 436, 638]\n",
      "\t\tprobabilities = [0.0, 0.4059590316573557, 0.5940409683426443]\n",
      "\t\tentropy       = 0.974329848577\n",
      "\n",
      "before entropy                = 0.995392878882\n",
      "after entropy                 = 0.946915246171\n",
      "information gain              = 0.0484776327111\n"
     ]
    }
   ],
   "source": [
    "node.decision(lambda df: df.pct_hs_grad <= .78).status()"
   ]
  },
  {
   "cell_type": "markdown",
   "metadata": {
    "collapsed": true
   },
   "source": [
    "#### Candidate #3: Is high school graduation rate higher than 87%?"
   ]
  },
  {
   "cell_type": "code",
   "execution_count": 28,
   "metadata": {
    "collapsed": false
   },
   "outputs": [
    {
     "name": "stdout",
     "output_type": "stream",
     "text": [
      "classes                       = [nan, 'clinton', 'obama']\n",
      "before:\n",
      "\tparent:\n",
      "\t\tsamples       = 2241\n",
      "\t\tcounts        = [0, 1210, 1031]\n",
      "\t\tprobabilities = [0.0, 0.5399375278893351, 0.46006247211066487]\n",
      "\t\tentropy       = 0.995392878882\n",
      "after:\n",
      "\tleft child:\n",
      "\t\tsamples       = 2024\n",
      "\t\tcounts        = [0, 1176, 848]\n",
      "\t\tprobabilities = [0.0, 0.5810276679841897, 0.4189723320158103]\n",
      "\t\tentropy       = 0.980972219459\n",
      "\tright child:\n",
      "\t\tsamples       = 217\n",
      "\t\tcounts        = [0, 34, 183]\n",
      "\t\tprobabilities = [0.0, 0.15668202764976957, 0.8433179723502304]\n",
      "\t\tentropy       = 0.62631249047\n",
      "\n",
      "before entropy                = 0.995392878882\n",
      "after entropy                 = 0.94662988961\n",
      "information gain              = 0.0487629892719\n"
     ]
    }
   ],
   "source": [
    "node.decision(lambda df: df.pct_hs_grad <= .87).status()"
   ]
  },
  {
   "cell_type": "markdown",
   "metadata": {},
   "source": [
    "### Second cut"
   ]
  },
  {
   "cell_type": "code",
   "execution_count": null,
   "metadata": {
    "collapsed": true
   },
   "outputs": [],
   "source": [
    "# TODO"
   ]
  },
  {
   "cell_type": "markdown",
   "metadata": {},
   "source": [
    "### Third cut"
   ]
  },
  {
   "cell_type": "code",
   "execution_count": null,
   "metadata": {
    "collapsed": false
   },
   "outputs": [],
   "source": [
    "# TODO"
   ]
  }
 ],
 "metadata": {
  "anaconda-cloud": {},
  "kernelspec": {
   "display_name": "Python [Root]",
   "language": "python",
   "name": "Python [Root]"
  },
  "language_info": {
   "codemirror_mode": {
    "name": "ipython",
    "version": 2
   },
   "file_extension": ".py",
   "mimetype": "text/x-python",
   "name": "python",
   "nbconvert_exporter": "python",
   "pygments_lexer": "ipython2",
   "version": "2.7.12"
  }
 },
 "nbformat": 4,
 "nbformat_minor": 0
}
