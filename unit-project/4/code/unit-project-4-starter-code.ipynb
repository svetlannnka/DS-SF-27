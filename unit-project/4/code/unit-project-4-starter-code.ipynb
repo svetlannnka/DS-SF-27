{
 "cells": [
  {
   "cell_type": "markdown",
   "metadata": {},
   "source": [
    "# DS-SF-27 | Unit Project 4: Notebook with Executive Summary\n",
    "\n",
    "In this project, you will summarize and present your analysis from Unit Projects 1-3."
   ]
  },
  {
   "cell_type": "markdown",
   "metadata": {},
   "source": [
    "> ## Question 1.  Introduction\n",
    "> Write a problem statement for this project."
   ]
  },
  {
   "cell_type": "markdown",
   "metadata": {},
   "source": [
    "Answer: Using data from the UCLA admissions dataset, determine if there is an association between admission into UCLA and the prestige of a student's undergraduate school."
   ]
  },
  {
   "cell_type": "markdown",
   "metadata": {},
   "source": [
    "> ## Question 2.  Dataset\n",
    "> Write up a description of your data and any cleaning that was completed."
   ]
  },
  {
   "cell_type": "markdown",
   "metadata": {},
   "source": [
    "Answer: \n",
    "Dataset has 4 variables: GRE, GPA, prestige and admit. GRE, GPA, and prestige are our predictors for student admission. Data is normaly distrubited.\n",
    "Dataset contained 400 rows, during EDA 3 rows with missing data were dropped."
   ]
  },
  {
   "cell_type": "markdown",
   "metadata": {
    "collapsed": true
   },
   "source": [
    "> ## Question 3.  Demo\n",
    "> Provide a table that explains the data by admission status."
   ]
  },
  {
   "cell_type": "code",
   "execution_count": 3,
   "metadata": {
    "collapsed": false
   },
   "outputs": [
    {
     "data": {
      "text/html": [
       "<div>\n",
       "<table border=\"1\" class=\"dataframe\">\n",
       "  <thead>\n",
       "    <tr style=\"text-align: right;\">\n",
       "      <th>admit</th>\n",
       "      <th>0</th>\n",
       "      <th>1</th>\n",
       "    </tr>\n",
       "    <tr>\n",
       "      <th>prestige</th>\n",
       "      <th></th>\n",
       "      <th></th>\n",
       "    </tr>\n",
       "  </thead>\n",
       "  <tbody>\n",
       "    <tr>\n",
       "      <th>1.0</th>\n",
       "      <td>28</td>\n",
       "      <td>33</td>\n",
       "    </tr>\n",
       "    <tr>\n",
       "      <th>2.0</th>\n",
       "      <td>95</td>\n",
       "      <td>53</td>\n",
       "    </tr>\n",
       "    <tr>\n",
       "      <th>3.0</th>\n",
       "      <td>93</td>\n",
       "      <td>28</td>\n",
       "    </tr>\n",
       "    <tr>\n",
       "      <th>4.0</th>\n",
       "      <td>55</td>\n",
       "      <td>12</td>\n",
       "    </tr>\n",
       "  </tbody>\n",
       "</table>\n",
       "</div>"
      ],
      "text/plain": [
       "admit      0   1\n",
       "prestige        \n",
       "1.0       28  33\n",
       "2.0       95  53\n",
       "3.0       93  28\n",
       "4.0       55  12"
      ]
     },
     "execution_count": 3,
     "metadata": {},
     "output_type": "execute_result"
    }
   ],
   "source": [
    "import os\n",
    "import pandas as pd\n",
    "df = pd.read_csv(os.path.join('..', '..', 'dataset', 'ucla-admissions.csv'))\n",
    "df.dropna(inplace = True)\n",
    "pd.crosstab(df.prestige, df.admit)"
   ]
  },
  {
   "cell_type": "markdown",
   "metadata": {},
   "source": [
    "> ## Question 4. Methods\n",
    "> Write up the methods used in your analysis."
   ]
  },
  {
   "cell_type": "markdown",
   "metadata": {},
   "source": [
    "Answer: \n",
    "<ol>\n",
    "<li>We used one-hot encoding for prestige feature, new prestige binary variables were added to the dataset and old redundant prestige feature was removed. \n",
    "We got 4 new variables and used 3 of them for the model. So we didn't assume that prestige changed proportionally and we were able to build more accurate model.</li> \n",
    "<li>We created multiple frequency tables for new prestige variables and calculated odd ratios of students being admitted from schoold of different prestige level. This helped us to get a better understanding of expected outcomes.</li>\n",
    "<li>We used a logistic regression model predicting admission into UCLA using gre, gpa, and the prestige of the undergraduate schools. We used statmodels and sklearn libraries to build logistic regression models in order to compare the results.</li>\n",
    "</ol>"
   ]
  },
  {
   "cell_type": "markdown",
   "metadata": {},
   "source": [
    "> ## Question 5. Results\n",
    "> Write up your results."
   ]
  },
  {
   "cell_type": "markdown",
   "metadata": {},
   "source": [
    "Answer: the score of Logistic Regression model built with sklearn was about 71%.\n",
    "If we know student's gre, gpa, and the prestige of the undergraduate schools, we can now predict his admition with 71% accurasy."
   ]
  },
  {
   "cell_type": "markdown",
   "metadata": {},
   "source": [
    "> ## Question 6. Visuals\n",
    "> Provide a table or visualization of these results."
   ]
  },
  {
   "cell_type": "markdown",
   "metadata": {},
   "source": [
    "Answer: odds ratios comparison for the different variables calculated with statsmodels and sklearn.\n",
    "\n",
    "<table style =\"width: 500px; border-collapse: collapse; border: 2px solid white\">\n",
    "   <tr>\n",
    "    <th></th><th>statsmodel</th><th>sklearn</th>\n",
    "   </tr>\n",
    "   <tr>\n",
    "    <td>Intercept</td><td>0.020716</td><td>0.029754</td>\n",
    "   </tr>\n",
    "      <tr>\n",
    "    <td>GRE</td><td>1.002221</td><td>1.002161</td>\n",
    "   </tr>\n",
    "      <tr>\n",
    "    <td>GPA</td><td>2.180027</td><td>1.960413</td>\n",
    "   </tr>\n",
    "      <tr>\n",
    "    <td>prestige_2</td><td>\t0.506548</td><td>0.533219</td>\n",
    "   </tr>\n",
    "      <tr>\n",
    "    <td>prestige_3</td><td>0.262192</td><td>0.285867</td>\n",
    "   </tr>\n",
    "   <tr>\n",
    "    <td>prestige_4</td><td>\t0.211525</td><td>0.208297</td>\n",
    "   </tr>\n",
    "</table>"
   ]
  },
  {
   "cell_type": "markdown",
   "metadata": {},
   "source": [
    "> ## Question 7.  Discussion\n",
    "> Write up your discussion and future steps."
   ]
  },
  {
   "cell_type": "markdown",
   "metadata": {},
   "source": [
    "Answer: <br> After calculating probability of admission for students with the same GPA and GRE (GRE of 800 and a GPA of 4) we found out that if he/she come from a tier-1, tier-2, tier-3, or tier-4 undergraduate school, the probability of getting admitted is increasing. The results are very close in both models. This shows that our hypothesis was correct. Students who attended a more prestigious undergraduate institution are more likely to be admitted to a graduate school. \n",
    "<br>As far as future steps, we can probably try some feature engineering to make our current model more accurate, but not sure what we can build and if we see any significant model score improvement. \n",
    "<br>I think, it would be interesting to collect/anayze more data that can influence student admission in general. I believe, there can be other important factors except for gpa, gre and prestige. Also, it'd be interesting to break schools by location and see how admission rate changes.\n"
   ]
  }
 ],
 "metadata": {
  "kernelspec": {
   "display_name": "Python [Root]",
   "language": "python",
   "name": "Python [Root]"
  },
  "language_info": {
   "codemirror_mode": {
    "name": "ipython",
    "version": 2
   },
   "file_extension": ".py",
   "mimetype": "text/x-python",
   "name": "python",
   "nbconvert_exporter": "python",
   "pygments_lexer": "ipython2",
   "version": "2.7.12"
  }
 },
 "nbformat": 4,
 "nbformat_minor": 0
}
