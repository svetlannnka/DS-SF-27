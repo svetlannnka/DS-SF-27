{
 "cells": [
  {
   "cell_type": "markdown",
   "metadata": {},
   "source": [
    "# Final Project 3. EDA."
   ]
  },
  {
   "cell_type": "code",
   "execution_count": 998,
   "metadata": {
    "collapsed": true
   },
   "outputs": [],
   "source": [
    "import os\n",
    "import pandas as pd\n",
    "import matplotlib.pyplot as plt\n",
    "import seaborn as sns\n",
    "import statsmodels.api as sm\n",
    "import numpy as np\n",
    "\n",
    "from sklearn import preprocessing, neighbors, grid_search, tree, ensemble, metrics, cross_validation, externals\n",
    "\n",
    "pd.set_option('display.max_rows', 10)\n",
    "pd.set_option('display.max_columns', 10)\n",
    "pd.set_option('display.notebook_repr_html', True)\n",
    "\n",
    "%matplotlib inline\n",
    "plt.style.use('ggplot')\n",
    "from sklearn import linear_model"
   ]
  },
  {
   "cell_type": "markdown",
   "metadata": {},
   "source": [
    "<i>Problem: I am still trying to predict if user becomes a paid customer based on his activity and Whil sign up info. </i>"
   ]
  },
  {
   "cell_type": "markdown",
   "metadata": {},
   "source": [
    "<i>In order to create the dataset there was some SQL preprocessing done:\n",
    "<ul>\n",
    "<li>Removed users who didn't complete sign up, on-boarding, or spent less than 15 sec watching content</li>\n",
    "<li>Removed corporate users and Whil internal users</li>\n",
    "<li>Removed test users from the dataset</li>\n",
    "<li>Counted the total amount of sessions and series completed for each user during the trial period</li>\n",
    "<li>Counted the duration of all watched content for each user (during trial), transformed into seconds</li>\n",
    "<li>Converted experience level from json to text format.</li>\n",
    "</ul></i>\n"
   ]
  },
  {
   "cell_type": "markdown",
   "metadata": {},
   "source": [
    "<i>Note: I updated the data dictionary in final project 2.</i>"
   ]
  },
  {
   "cell_type": "code",
   "execution_count": 999,
   "metadata": {
    "collapsed": false
   },
   "outputs": [
    {
     "data": {
      "text/html": [
       "<div>\n",
       "<table border=\"1\" class=\"dataframe\">\n",
       "  <thead>\n",
       "    <tr style=\"text-align: right;\">\n",
       "      <th></th>\n",
       "      <th>user_id</th>\n",
       "      <th>sec</th>\n",
       "      <th>sessions_completed</th>\n",
       "      <th>series_completed</th>\n",
       "      <th>gender</th>\n",
       "      <th>experience_level</th>\n",
       "      <th>estimate_birth_day</th>\n",
       "      <th>focus</th>\n",
       "      <th>subscribed</th>\n",
       "    </tr>\n",
       "  </thead>\n",
       "  <tbody>\n",
       "    <tr>\n",
       "      <th>0</th>\n",
       "      <td>16</td>\n",
       "      <td>225</td>\n",
       "      <td>1</td>\n",
       "      <td>0</td>\n",
       "      <td>m</td>\n",
       "      <td>low</td>\n",
       "      <td>1982-03-14 04:32:24.435+00</td>\n",
       "      <td>mindfulness</td>\n",
       "      <td>1.0</td>\n",
       "    </tr>\n",
       "    <tr>\n",
       "      <th>1</th>\n",
       "      <td>41</td>\n",
       "      <td>1795</td>\n",
       "      <td>1</td>\n",
       "      <td>0</td>\n",
       "      <td>f</td>\n",
       "      <td>medium</td>\n",
       "      <td>1969-04-21 13:25:48.392+00</td>\n",
       "      <td>yoga</td>\n",
       "      <td>NaN</td>\n",
       "    </tr>\n",
       "    <tr>\n",
       "      <th>2</th>\n",
       "      <td>104</td>\n",
       "      <td>3750</td>\n",
       "      <td>9</td>\n",
       "      <td>2</td>\n",
       "      <td>f</td>\n",
       "      <td>high</td>\n",
       "      <td>1958-04-24 20:23:59.469+00</td>\n",
       "      <td>mindfulness</td>\n",
       "      <td>1.0</td>\n",
       "    </tr>\n",
       "    <tr>\n",
       "      <th>3</th>\n",
       "      <td>131</td>\n",
       "      <td>635</td>\n",
       "      <td>2</td>\n",
       "      <td>0</td>\n",
       "      <td>f</td>\n",
       "      <td>medium</td>\n",
       "      <td>1968-04-27 23:50:42.827+00</td>\n",
       "      <td>mindfulness</td>\n",
       "      <td>NaN</td>\n",
       "    </tr>\n",
       "    <tr>\n",
       "      <th>4</th>\n",
       "      <td>155</td>\n",
       "      <td>810</td>\n",
       "      <td>4</td>\n",
       "      <td>0</td>\n",
       "      <td>f</td>\n",
       "      <td>high</td>\n",
       "      <td>1963-04-25 20:15:37.788+00</td>\n",
       "      <td>mindfulness</td>\n",
       "      <td>1.0</td>\n",
       "    </tr>\n",
       "  </tbody>\n",
       "</table>\n",
       "</div>"
      ],
      "text/plain": [
       "   user_id   sec  sessions_completed  series_completed gender  \\\n",
       "0       16   225                   1                 0      m   \n",
       "1       41  1795                   1                 0      f   \n",
       "2      104  3750                   9                 2      f   \n",
       "3      131   635                   2                 0      f   \n",
       "4      155   810                   4                 0      f   \n",
       "\n",
       "  experience_level          estimate_birth_day        focus  subscribed  \n",
       "0              low  1982-03-14 04:32:24.435+00  mindfulness         1.0  \n",
       "1           medium  1969-04-21 13:25:48.392+00         yoga         NaN  \n",
       "2             high  1958-04-24 20:23:59.469+00  mindfulness         1.0  \n",
       "3           medium  1968-04-27 23:50:42.827+00  mindfulness         NaN  \n",
       "4             high  1963-04-25 20:15:37.788+00  mindfulness         1.0  "
      ]
     },
     "execution_count": 999,
     "metadata": {},
     "output_type": "execute_result"
    }
   ],
   "source": [
    "df = pd.read_csv(os.path.join('..', 'Dataset', 'QueryResults.csv'))\n",
    "\n",
    "df.head()"
   ]
  },
  {
   "cell_type": "code",
   "execution_count": 1000,
   "metadata": {
    "collapsed": false
   },
   "outputs": [
    {
     "name": "stdout",
     "output_type": "stream",
     "text": [
      "Rows total:  18730\n"
     ]
    }
   ],
   "source": [
    "print 'Rows total: ', len(df)"
   ]
  },
  {
   "cell_type": "markdown",
   "metadata": {},
   "source": [
    "<h3><i>Missing data:</i></h3> "
   ]
  },
  {
   "cell_type": "code",
   "execution_count": 1001,
   "metadata": {
    "collapsed": false
   },
   "outputs": [
    {
     "data": {
      "text/plain": [
       "user_id                   0\n",
       "sec                       0\n",
       "sessions_completed        0\n",
       "series_completed          0\n",
       "gender                    0\n",
       "experience_level          0\n",
       "estimate_birth_day    11753\n",
       "focus                     0\n",
       "subscribed            17593\n",
       "dtype: int64"
      ]
     },
     "execution_count": 1001,
     "metadata": {},
     "output_type": "execute_result"
    }
   ],
   "source": [
    "df.isnull().sum()"
   ]
  },
  {
   "cell_type": "markdown",
   "metadata": {},
   "source": [
    "<h4><i>estimate_birth_day:</i></h4> "
   ]
  },
  {
   "cell_type": "code",
   "execution_count": 1002,
   "metadata": {
    "collapsed": false
   },
   "outputs": [
    {
     "name": "stdout",
     "output_type": "stream",
     "text": [
      "Rows total:  18730\n",
      "Amount of users with missing DoB 11753\n",
      "Percent of users with missing DoB:  62\n"
     ]
    }
   ],
   "source": [
    "print 'Rows total: ', len(df)\n",
    "print 'Amount of users with missing DoB', df.estimate_birth_day.isnull().sum()\n",
    "print 'Percent of users with missing DoB: ', df.estimate_birth_day.isnull().sum()*100/len(df)"
   ]
  },
  {
   "cell_type": "markdown",
   "metadata": {},
   "source": [
    "<i>Looks like I will not use estimate_birth_day.</i>"
   ]
  },
  {
   "cell_type": "code",
   "execution_count": 1003,
   "metadata": {
    "collapsed": false
   },
   "outputs": [
    {
     "data": {
      "text/html": [
       "<div>\n",
       "<table border=\"1\" class=\"dataframe\">\n",
       "  <thead>\n",
       "    <tr style=\"text-align: right;\">\n",
       "      <th></th>\n",
       "      <th>user_id</th>\n",
       "      <th>sec</th>\n",
       "      <th>sessions_completed</th>\n",
       "      <th>series_completed</th>\n",
       "      <th>gender</th>\n",
       "      <th>experience_level</th>\n",
       "      <th>focus</th>\n",
       "      <th>subscribed</th>\n",
       "    </tr>\n",
       "  </thead>\n",
       "  <tbody>\n",
       "    <tr>\n",
       "      <th>0</th>\n",
       "      <td>16</td>\n",
       "      <td>225</td>\n",
       "      <td>1</td>\n",
       "      <td>0</td>\n",
       "      <td>m</td>\n",
       "      <td>low</td>\n",
       "      <td>mindfulness</td>\n",
       "      <td>1.0</td>\n",
       "    </tr>\n",
       "    <tr>\n",
       "      <th>1</th>\n",
       "      <td>41</td>\n",
       "      <td>1795</td>\n",
       "      <td>1</td>\n",
       "      <td>0</td>\n",
       "      <td>f</td>\n",
       "      <td>medium</td>\n",
       "      <td>yoga</td>\n",
       "      <td>NaN</td>\n",
       "    </tr>\n",
       "    <tr>\n",
       "      <th>2</th>\n",
       "      <td>104</td>\n",
       "      <td>3750</td>\n",
       "      <td>9</td>\n",
       "      <td>2</td>\n",
       "      <td>f</td>\n",
       "      <td>high</td>\n",
       "      <td>mindfulness</td>\n",
       "      <td>1.0</td>\n",
       "    </tr>\n",
       "    <tr>\n",
       "      <th>3</th>\n",
       "      <td>131</td>\n",
       "      <td>635</td>\n",
       "      <td>2</td>\n",
       "      <td>0</td>\n",
       "      <td>f</td>\n",
       "      <td>medium</td>\n",
       "      <td>mindfulness</td>\n",
       "      <td>NaN</td>\n",
       "    </tr>\n",
       "    <tr>\n",
       "      <th>4</th>\n",
       "      <td>155</td>\n",
       "      <td>810</td>\n",
       "      <td>4</td>\n",
       "      <td>0</td>\n",
       "      <td>f</td>\n",
       "      <td>high</td>\n",
       "      <td>mindfulness</td>\n",
       "      <td>1.0</td>\n",
       "    </tr>\n",
       "  </tbody>\n",
       "</table>\n",
       "</div>"
      ],
      "text/plain": [
       "   user_id   sec  sessions_completed  series_completed gender  \\\n",
       "0       16   225                   1                 0      m   \n",
       "1       41  1795                   1                 0      f   \n",
       "2      104  3750                   9                 2      f   \n",
       "3      131   635                   2                 0      f   \n",
       "4      155   810                   4                 0      f   \n",
       "\n",
       "  experience_level        focus  subscribed  \n",
       "0              low  mindfulness         1.0  \n",
       "1           medium         yoga         NaN  \n",
       "2             high  mindfulness         1.0  \n",
       "3           medium  mindfulness         NaN  \n",
       "4             high  mindfulness         1.0  "
      ]
     },
     "execution_count": 1003,
     "metadata": {},
     "output_type": "execute_result"
    }
   ],
   "source": [
    "df.drop(['estimate_birth_day'], axis = 1, inplace = True)\n",
    "df.head()"
   ]
  },
  {
   "cell_type": "markdown",
   "metadata": {},
   "source": [
    "<h4><i>subscribed:</i></h4> "
   ]
  },
  {
   "cell_type": "code",
   "execution_count": 1004,
   "metadata": {
    "collapsed": false
   },
   "outputs": [
    {
     "data": {
      "text/plain": [
       "array([  1.,  nan,   0.])"
      ]
     },
     "execution_count": 1004,
     "metadata": {},
     "output_type": "execute_result"
    }
   ],
   "source": [
    "df.subscribed.unique()"
   ]
  },
  {
   "cell_type": "markdown",
   "metadata": {},
   "source": [
    "<i>In fact all NaNs here are users that didn't sibscribe. 0s are users who subscribed but then cancelled subscription via support, and 1s are subscribed users. Let's turn them into a binary value.</i>"
   ]
  },
  {
   "cell_type": "code",
   "execution_count": 1005,
   "metadata": {
    "collapsed": true
   },
   "outputs": [],
   "source": [
    "def subscribe(row):\n",
    "    if row.subscribed == 1:\n",
    "        return 1\n",
    "    else:\n",
    "        return 0\n",
    "   \n",
    "experience = df.apply(subscribe, axis = 1)\n",
    "\n",
    "cat=experience.rename(\"subscribedYN\")\n",
    "\n",
    "df=df.join(cat)"
   ]
  },
  {
   "cell_type": "code",
   "execution_count": 1006,
   "metadata": {
    "collapsed": false
   },
   "outputs": [
    {
     "data": {
      "text/html": [
       "<div>\n",
       "<table border=\"1\" class=\"dataframe\">\n",
       "  <thead>\n",
       "    <tr style=\"text-align: right;\">\n",
       "      <th></th>\n",
       "      <th>user_id</th>\n",
       "      <th>sec</th>\n",
       "      <th>sessions_completed</th>\n",
       "      <th>series_completed</th>\n",
       "      <th>gender</th>\n",
       "      <th>experience_level</th>\n",
       "      <th>focus</th>\n",
       "      <th>subscribedYN</th>\n",
       "    </tr>\n",
       "  </thead>\n",
       "  <tbody>\n",
       "    <tr>\n",
       "      <th>0</th>\n",
       "      <td>16</td>\n",
       "      <td>225</td>\n",
       "      <td>1</td>\n",
       "      <td>0</td>\n",
       "      <td>m</td>\n",
       "      <td>low</td>\n",
       "      <td>mindfulness</td>\n",
       "      <td>1</td>\n",
       "    </tr>\n",
       "    <tr>\n",
       "      <th>1</th>\n",
       "      <td>41</td>\n",
       "      <td>1795</td>\n",
       "      <td>1</td>\n",
       "      <td>0</td>\n",
       "      <td>f</td>\n",
       "      <td>medium</td>\n",
       "      <td>yoga</td>\n",
       "      <td>0</td>\n",
       "    </tr>\n",
       "    <tr>\n",
       "      <th>2</th>\n",
       "      <td>104</td>\n",
       "      <td>3750</td>\n",
       "      <td>9</td>\n",
       "      <td>2</td>\n",
       "      <td>f</td>\n",
       "      <td>high</td>\n",
       "      <td>mindfulness</td>\n",
       "      <td>1</td>\n",
       "    </tr>\n",
       "    <tr>\n",
       "      <th>3</th>\n",
       "      <td>131</td>\n",
       "      <td>635</td>\n",
       "      <td>2</td>\n",
       "      <td>0</td>\n",
       "      <td>f</td>\n",
       "      <td>medium</td>\n",
       "      <td>mindfulness</td>\n",
       "      <td>0</td>\n",
       "    </tr>\n",
       "    <tr>\n",
       "      <th>4</th>\n",
       "      <td>155</td>\n",
       "      <td>810</td>\n",
       "      <td>4</td>\n",
       "      <td>0</td>\n",
       "      <td>f</td>\n",
       "      <td>high</td>\n",
       "      <td>mindfulness</td>\n",
       "      <td>1</td>\n",
       "    </tr>\n",
       "  </tbody>\n",
       "</table>\n",
       "</div>"
      ],
      "text/plain": [
       "   user_id   sec  sessions_completed  series_completed gender  \\\n",
       "0       16   225                   1                 0      m   \n",
       "1       41  1795                   1                 0      f   \n",
       "2      104  3750                   9                 2      f   \n",
       "3      131   635                   2                 0      f   \n",
       "4      155   810                   4                 0      f   \n",
       "\n",
       "  experience_level        focus  subscribedYN  \n",
       "0              low  mindfulness             1  \n",
       "1           medium         yoga             0  \n",
       "2             high  mindfulness             1  \n",
       "3           medium  mindfulness             0  \n",
       "4             high  mindfulness             1  "
      ]
     },
     "execution_count": 1006,
     "metadata": {},
     "output_type": "execute_result"
    }
   ],
   "source": [
    "df.drop(['subscribed'], axis = 1, inplace = True)\n",
    "df.head()"
   ]
  },
  {
   "cell_type": "code",
   "execution_count": 1007,
   "metadata": {
    "collapsed": false
   },
   "outputs": [
    {
     "name": "stdout",
     "output_type": "stream",
     "text": [
      "Total users subscribed:  1099\n",
      "% of subscribed users among all users: 5.86759209824\n"
     ]
    }
   ],
   "source": [
    "print 'Total users subscribed: ', df.subscribedYN.sum()\n",
    "print '% of subscribed users among all users:', df.subscribedYN.sum()*100.0/len(df)"
   ]
  },
  {
   "cell_type": "code",
   "execution_count": 1008,
   "metadata": {
    "collapsed": false
   },
   "outputs": [
    {
     "data": {
      "text/plain": [
       "user_id               0\n",
       "sec                   0\n",
       "sessions_completed    0\n",
       "series_completed      0\n",
       "gender                0\n",
       "experience_level      0\n",
       "focus                 0\n",
       "subscribedYN          0\n",
       "dtype: int64"
      ]
     },
     "execution_count": 1008,
     "metadata": {},
     "output_type": "execute_result"
    }
   ],
   "source": [
    "df.isnull().sum()"
   ]
  },
  {
   "cell_type": "markdown",
   "metadata": {},
   "source": [
    "<h3><i> For better analysis, let's transform gender, experiense_level, focus into numeric values: </i></h3>"
   ]
  },
  {
   "cell_type": "code",
   "execution_count": 1009,
   "metadata": {
    "collapsed": false
   },
   "outputs": [
    {
     "data": {
      "text/plain": [
       "array(['low', 'medium', 'high', 'none'], dtype=object)"
      ]
     },
     "execution_count": 1009,
     "metadata": {},
     "output_type": "execute_result"
    }
   ],
   "source": [
    "df.experience_level.unique()"
   ]
  },
  {
   "cell_type": "code",
   "execution_count": 1010,
   "metadata": {
    "collapsed": false
   },
   "outputs": [],
   "source": [
    "def exp_lvl(row):\n",
    "    if row.experience_level == 'none':\n",
    "        return 0\n",
    "    elif row.experience_level == 'low':\n",
    "        return 1\n",
    "    elif row.experience_level == 'medium':\n",
    "        return 2\n",
    "    else:\n",
    "        return 3\n",
    "   \n",
    "experience = df.apply(exp_lvl, axis = 1)\n",
    "\n",
    "cat=experience.rename(\"experience\")\n",
    "\n",
    "df=df.join(cat)  "
   ]
  },
  {
   "cell_type": "code",
   "execution_count": 1011,
   "metadata": {
    "collapsed": false
   },
   "outputs": [
    {
     "data": {
      "text/plain": [
       "array(['mindfulness', 'yoga'], dtype=object)"
      ]
     },
     "execution_count": 1011,
     "metadata": {},
     "output_type": "execute_result"
    }
   ],
   "source": [
    "df.focus.unique()"
   ]
  },
  {
   "cell_type": "code",
   "execution_count": 1012,
   "metadata": {
    "collapsed": false,
    "scrolled": true
   },
   "outputs": [],
   "source": [
    "def focus_n(row):\n",
    "    if row.focus == 'yoga':\n",
    "        return 1\n",
    "    else:\n",
    "        return 0\n",
    "    \n",
    "focus_n = df.apply(focus_n, axis = 1)\n",
    "\n",
    "cat=focus_n.rename(\"focus_n\")\n",
    "\n",
    "df=df.join(cat)"
   ]
  },
  {
   "cell_type": "code",
   "execution_count": 1013,
   "metadata": {
    "collapsed": false
   },
   "outputs": [
    {
     "data": {
      "text/plain": [
       "array(['m', 'f'], dtype=object)"
      ]
     },
     "execution_count": 1013,
     "metadata": {},
     "output_type": "execute_result"
    }
   ],
   "source": [
    "df.gender.unique()"
   ]
  },
  {
   "cell_type": "code",
   "execution_count": 1014,
   "metadata": {
    "collapsed": true
   },
   "outputs": [],
   "source": [
    "def gender_n(row):\n",
    "    if row.gender == 'm':\n",
    "        return 1\n",
    "    else:\n",
    "        return 0\n",
    "    \n",
    "focus_n = df.apply(gender_n, axis = 1)\n",
    "\n",
    "cat=focus_n.rename('gender_n')\n",
    "\n",
    "df=df.join(cat)"
   ]
  },
  {
   "cell_type": "code",
   "execution_count": 1015,
   "metadata": {
    "collapsed": false,
    "scrolled": true
   },
   "outputs": [
    {
     "data": {
      "text/plain": [
       "Index([u'user_id', u'sec', u'sessions_completed', u'series_completed',\n",
       "       u'gender', u'experience_level', u'focus', u'subscribedYN',\n",
       "       u'experience', u'focus_n', u'gender_n'],\n",
       "      dtype='object')"
      ]
     },
     "execution_count": 1015,
     "metadata": {},
     "output_type": "execute_result"
    }
   ],
   "source": [
    "df.columns"
   ]
  },
  {
   "cell_type": "markdown",
   "metadata": {},
   "source": [
    "<h3><i>Let's drop old columns, and also user_id column, we don't need it. And let's change the order of columns.</i></h3>"
   ]
  },
  {
   "cell_type": "code",
   "execution_count": 1016,
   "metadata": {
    "collapsed": false
   },
   "outputs": [],
   "source": [
    "df = df[['sec','sessions_completed','series_completed','experience','focus_n','gender_n','subscribedYN']]"
   ]
  },
  {
   "cell_type": "code",
   "execution_count": 1017,
   "metadata": {
    "collapsed": false
   },
   "outputs": [
    {
     "data": {
      "text/html": [
       "<div>\n",
       "<table border=\"1\" class=\"dataframe\">\n",
       "  <thead>\n",
       "    <tr style=\"text-align: right;\">\n",
       "      <th></th>\n",
       "      <th>sec</th>\n",
       "      <th>sessions_completed</th>\n",
       "      <th>series_completed</th>\n",
       "      <th>experience</th>\n",
       "      <th>focus_n</th>\n",
       "      <th>gender_n</th>\n",
       "      <th>subscribedYN</th>\n",
       "    </tr>\n",
       "  </thead>\n",
       "  <tbody>\n",
       "    <tr>\n",
       "      <th>0</th>\n",
       "      <td>225</td>\n",
       "      <td>1</td>\n",
       "      <td>0</td>\n",
       "      <td>1</td>\n",
       "      <td>0</td>\n",
       "      <td>1</td>\n",
       "      <td>1</td>\n",
       "    </tr>\n",
       "    <tr>\n",
       "      <th>1</th>\n",
       "      <td>1795</td>\n",
       "      <td>1</td>\n",
       "      <td>0</td>\n",
       "      <td>2</td>\n",
       "      <td>1</td>\n",
       "      <td>0</td>\n",
       "      <td>0</td>\n",
       "    </tr>\n",
       "    <tr>\n",
       "      <th>2</th>\n",
       "      <td>3750</td>\n",
       "      <td>9</td>\n",
       "      <td>2</td>\n",
       "      <td>3</td>\n",
       "      <td>0</td>\n",
       "      <td>0</td>\n",
       "      <td>1</td>\n",
       "    </tr>\n",
       "    <tr>\n",
       "      <th>3</th>\n",
       "      <td>635</td>\n",
       "      <td>2</td>\n",
       "      <td>0</td>\n",
       "      <td>2</td>\n",
       "      <td>0</td>\n",
       "      <td>0</td>\n",
       "      <td>0</td>\n",
       "    </tr>\n",
       "    <tr>\n",
       "      <th>4</th>\n",
       "      <td>810</td>\n",
       "      <td>4</td>\n",
       "      <td>0</td>\n",
       "      <td>3</td>\n",
       "      <td>0</td>\n",
       "      <td>0</td>\n",
       "      <td>1</td>\n",
       "    </tr>\n",
       "  </tbody>\n",
       "</table>\n",
       "</div>"
      ],
      "text/plain": [
       "    sec  sessions_completed  series_completed  experience  focus_n  gender_n  \\\n",
       "0   225                   1                 0           1        0         1   \n",
       "1  1795                   1                 0           2        1         0   \n",
       "2  3750                   9                 2           3        0         0   \n",
       "3   635                   2                 0           2        0         0   \n",
       "4   810                   4                 0           3        0         0   \n",
       "\n",
       "   subscribedYN  \n",
       "0             1  \n",
       "1             0  \n",
       "2             1  \n",
       "3             0  \n",
       "4             1  "
      ]
     },
     "execution_count": 1017,
     "metadata": {},
     "output_type": "execute_result"
    }
   ],
   "source": [
    "df.head()"
   ]
  },
  {
   "cell_type": "markdown",
   "metadata": {},
   "source": [
    "<h3><i>Plots and summary: </i></h3>"
   ]
  },
  {
   "cell_type": "code",
   "execution_count": 1018,
   "metadata": {
    "collapsed": false
   },
   "outputs": [
    {
     "data": {
      "text/html": [
       "<div>\n",
       "<table border=\"1\" class=\"dataframe\">\n",
       "  <thead>\n",
       "    <tr style=\"text-align: right;\">\n",
       "      <th></th>\n",
       "      <th>sec</th>\n",
       "      <th>sessions_completed</th>\n",
       "      <th>series_completed</th>\n",
       "      <th>experience</th>\n",
       "      <th>focus_n</th>\n",
       "      <th>gender_n</th>\n",
       "      <th>subscribedYN</th>\n",
       "    </tr>\n",
       "  </thead>\n",
       "  <tbody>\n",
       "    <tr>\n",
       "      <th>count</th>\n",
       "      <td>18730.000000</td>\n",
       "      <td>18730.000000</td>\n",
       "      <td>18730.000000</td>\n",
       "      <td>18730.000000</td>\n",
       "      <td>18730.000000</td>\n",
       "      <td>18730.000000</td>\n",
       "      <td>18730.000000</td>\n",
       "    </tr>\n",
       "    <tr>\n",
       "      <th>mean</th>\n",
       "      <td>1187.645489</td>\n",
       "      <td>4.660812</td>\n",
       "      <td>0.094447</td>\n",
       "      <td>1.104004</td>\n",
       "      <td>0.102776</td>\n",
       "      <td>0.357501</td>\n",
       "      <td>0.058676</td>\n",
       "    </tr>\n",
       "    <tr>\n",
       "      <th>std</th>\n",
       "      <td>2233.733290</td>\n",
       "      <td>6.087137</td>\n",
       "      <td>0.772198</td>\n",
       "      <td>0.919802</td>\n",
       "      <td>0.303675</td>\n",
       "      <td>0.479277</td>\n",
       "      <td>0.235023</td>\n",
       "    </tr>\n",
       "    <tr>\n",
       "      <th>min</th>\n",
       "      <td>15.000000</td>\n",
       "      <td>1.000000</td>\n",
       "      <td>0.000000</td>\n",
       "      <td>0.000000</td>\n",
       "      <td>0.000000</td>\n",
       "      <td>0.000000</td>\n",
       "      <td>0.000000</td>\n",
       "    </tr>\n",
       "    <tr>\n",
       "      <th>25%</th>\n",
       "      <td>130.000000</td>\n",
       "      <td>2.000000</td>\n",
       "      <td>0.000000</td>\n",
       "      <td>0.000000</td>\n",
       "      <td>0.000000</td>\n",
       "      <td>0.000000</td>\n",
       "      <td>0.000000</td>\n",
       "    </tr>\n",
       "    <tr>\n",
       "      <th>50%</th>\n",
       "      <td>480.000000</td>\n",
       "      <td>3.000000</td>\n",
       "      <td>0.000000</td>\n",
       "      <td>1.000000</td>\n",
       "      <td>0.000000</td>\n",
       "      <td>0.000000</td>\n",
       "      <td>0.000000</td>\n",
       "    </tr>\n",
       "    <tr>\n",
       "      <th>75%</th>\n",
       "      <td>1260.000000</td>\n",
       "      <td>5.000000</td>\n",
       "      <td>0.000000</td>\n",
       "      <td>2.000000</td>\n",
       "      <td>0.000000</td>\n",
       "      <td>1.000000</td>\n",
       "      <td>0.000000</td>\n",
       "    </tr>\n",
       "    <tr>\n",
       "      <th>max</th>\n",
       "      <td>57985.000000</td>\n",
       "      <td>146.000000</td>\n",
       "      <td>35.000000</td>\n",
       "      <td>3.000000</td>\n",
       "      <td>1.000000</td>\n",
       "      <td>1.000000</td>\n",
       "      <td>1.000000</td>\n",
       "    </tr>\n",
       "  </tbody>\n",
       "</table>\n",
       "</div>"
      ],
      "text/plain": [
       "                sec  sessions_completed  series_completed    experience  \\\n",
       "count  18730.000000        18730.000000      18730.000000  18730.000000   \n",
       "mean    1187.645489            4.660812          0.094447      1.104004   \n",
       "std     2233.733290            6.087137          0.772198      0.919802   \n",
       "min       15.000000            1.000000          0.000000      0.000000   \n",
       "25%      130.000000            2.000000          0.000000      0.000000   \n",
       "50%      480.000000            3.000000          0.000000      1.000000   \n",
       "75%     1260.000000            5.000000          0.000000      2.000000   \n",
       "max    57985.000000          146.000000         35.000000      3.000000   \n",
       "\n",
       "            focus_n      gender_n  subscribedYN  \n",
       "count  18730.000000  18730.000000  18730.000000  \n",
       "mean       0.102776      0.357501      0.058676  \n",
       "std        0.303675      0.479277      0.235023  \n",
       "min        0.000000      0.000000      0.000000  \n",
       "25%        0.000000      0.000000      0.000000  \n",
       "50%        0.000000      0.000000      0.000000  \n",
       "75%        0.000000      1.000000      0.000000  \n",
       "max        1.000000      1.000000      1.000000  "
      ]
     },
     "execution_count": 1018,
     "metadata": {},
     "output_type": "execute_result"
    }
   ],
   "source": [
    "df.describe()"
   ]
  },
  {
   "cell_type": "code",
   "execution_count": 1019,
   "metadata": {
    "collapsed": false
   },
   "outputs": [
    {
     "data": {
      "text/html": [
       "<div>\n",
       "<table border=\"1\" class=\"dataframe\">\n",
       "  <thead>\n",
       "    <tr style=\"text-align: right;\">\n",
       "      <th></th>\n",
       "      <th>sec</th>\n",
       "      <th>sessions_completed</th>\n",
       "      <th>series_completed</th>\n",
       "      <th>experience</th>\n",
       "      <th>focus_n</th>\n",
       "      <th>gender_n</th>\n",
       "      <th>subscribedYN</th>\n",
       "    </tr>\n",
       "  </thead>\n",
       "  <tbody>\n",
       "    <tr>\n",
       "      <th>sec</th>\n",
       "      <td>1.000000</td>\n",
       "      <td>0.815377</td>\n",
       "      <td>0.485237</td>\n",
       "      <td>0.143535</td>\n",
       "      <td>0.016027</td>\n",
       "      <td>0.003248</td>\n",
       "      <td>0.459421</td>\n",
       "    </tr>\n",
       "    <tr>\n",
       "      <th>sessions_completed</th>\n",
       "      <td>0.815377</td>\n",
       "      <td>1.000000</td>\n",
       "      <td>0.552268</td>\n",
       "      <td>0.097124</td>\n",
       "      <td>-0.038563</td>\n",
       "      <td>0.018690</td>\n",
       "      <td>0.358653</td>\n",
       "    </tr>\n",
       "    <tr>\n",
       "      <th>series_completed</th>\n",
       "      <td>0.485237</td>\n",
       "      <td>0.552268</td>\n",
       "      <td>1.000000</td>\n",
       "      <td>0.039392</td>\n",
       "      <td>0.001637</td>\n",
       "      <td>-0.003956</td>\n",
       "      <td>0.192762</td>\n",
       "    </tr>\n",
       "    <tr>\n",
       "      <th>experience</th>\n",
       "      <td>0.143535</td>\n",
       "      <td>0.097124</td>\n",
       "      <td>0.039392</td>\n",
       "      <td>1.000000</td>\n",
       "      <td>0.152501</td>\n",
       "      <td>-0.016522</td>\n",
       "      <td>0.226416</td>\n",
       "    </tr>\n",
       "    <tr>\n",
       "      <th>focus_n</th>\n",
       "      <td>0.016027</td>\n",
       "      <td>-0.038563</td>\n",
       "      <td>0.001637</td>\n",
       "      <td>0.152501</td>\n",
       "      <td>1.000000</td>\n",
       "      <td>0.000664</td>\n",
       "      <td>0.050908</td>\n",
       "    </tr>\n",
       "    <tr>\n",
       "      <th>gender_n</th>\n",
       "      <td>0.003248</td>\n",
       "      <td>0.018690</td>\n",
       "      <td>-0.003956</td>\n",
       "      <td>-0.016522</td>\n",
       "      <td>0.000664</td>\n",
       "      <td>1.000000</td>\n",
       "      <td>-0.018436</td>\n",
       "    </tr>\n",
       "    <tr>\n",
       "      <th>subscribedYN</th>\n",
       "      <td>0.459421</td>\n",
       "      <td>0.358653</td>\n",
       "      <td>0.192762</td>\n",
       "      <td>0.226416</td>\n",
       "      <td>0.050908</td>\n",
       "      <td>-0.018436</td>\n",
       "      <td>1.000000</td>\n",
       "    </tr>\n",
       "  </tbody>\n",
       "</table>\n",
       "</div>"
      ],
      "text/plain": [
       "                         sec  sessions_completed  series_completed  \\\n",
       "sec                 1.000000            0.815377          0.485237   \n",
       "sessions_completed  0.815377            1.000000          0.552268   \n",
       "series_completed    0.485237            0.552268          1.000000   \n",
       "experience          0.143535            0.097124          0.039392   \n",
       "focus_n             0.016027           -0.038563          0.001637   \n",
       "gender_n            0.003248            0.018690         -0.003956   \n",
       "subscribedYN        0.459421            0.358653          0.192762   \n",
       "\n",
       "                    experience   focus_n  gender_n  subscribedYN  \n",
       "sec                   0.143535  0.016027  0.003248      0.459421  \n",
       "sessions_completed    0.097124 -0.038563  0.018690      0.358653  \n",
       "series_completed      0.039392  0.001637 -0.003956      0.192762  \n",
       "experience            1.000000  0.152501 -0.016522      0.226416  \n",
       "focus_n               0.152501  1.000000  0.000664      0.050908  \n",
       "gender_n             -0.016522  0.000664  1.000000     -0.018436  \n",
       "subscribedYN          0.226416  0.050908 -0.018436      1.000000  "
      ]
     },
     "execution_count": 1019,
     "metadata": {},
     "output_type": "execute_result"
    }
   ],
   "source": [
    "df.corr()"
   ]
  },
  {
   "cell_type": "markdown",
   "metadata": {},
   "source": [
    "<h4><i>Boxplots:</i></h4> "
   ]
  },
  {
   "cell_type": "code",
   "execution_count": 984,
   "metadata": {
    "collapsed": false
   },
   "outputs": [
    {
     "data": {
      "text/plain": [
       "<matplotlib.axes._subplots.AxesSubplot at 0x19199f4d0>"
      ]
     },
     "execution_count": 984,
     "metadata": {},
     "output_type": "execute_result"
    },
    {
     "data": {
      "image/png": "[encoded data removed]",
      "text/plain": [
       "<matplotlib.figure.Figure at 0x191990e50>"
      ]
     },
     "metadata": {},
     "output_type": "display_data"
    }
   ],
   "source": [
    "df.sec.plot(kind = 'box')"
   ]
  },
  {
   "cell_type": "code",
   "execution_count": 985,
   "metadata": {
    "collapsed": false
   },
   "outputs": [
    {
     "data": {
      "text/plain": [
       "<matplotlib.axes._subplots.AxesSubplot at 0x1919bd2d0>"
      ]
     },
     "execution_count": 985,
     "metadata": {},
     "output_type": "execute_result"
    },
    {
     "data": {
      "image/png": "[encoded data removed]",
      "text/plain": [
       "<matplotlib.figure.Figure at 0x18a325110>"
      ]
     },
     "metadata": {},
     "output_type": "display_data"
    }
   ],
   "source": [
    "df.sessions_completed.plot(kind = 'box')"
   ]
  },
  {
   "cell_type": "markdown",
   "metadata": {},
   "source": [
    "<i>Most of the users have very low activity.</i>"
   ]
  },
  {
   "cell_type": "code",
   "execution_count": 986,
   "metadata": {
    "collapsed": false
   },
   "outputs": [
    {
     "data": {
      "text/plain": [
       "<matplotlib.axes._subplots.AxesSubplot at 0x18fa5e610>"
      ]
     },
     "execution_count": 986,
     "metadata": {},
     "output_type": "execute_result"
    },
    {
     "data": {
      "image/png": "[encoded data removed]",
      "text/plain": [
       "<matplotlib.figure.Figure at 0x1925e5e10>"
      ]
     },
     "metadata": {},
     "output_type": "display_data"
    }
   ],
   "source": [
    "df.experience.plot(kind = 'box')"
   ]
  },
  {
   "cell_type": "markdown",
   "metadata": {},
   "source": [
    "<h4><i>Plotting the histograms:</i></h4>"
   ]
  },
  {
   "cell_type": "code",
   "execution_count": 987,
   "metadata": {
    "collapsed": false
   },
   "outputs": [
    {
     "data": {
      "text/plain": [
       "<matplotlib.axes._subplots.AxesSubplot at 0x18f82ed10>"
      ]
     },
     "execution_count": 987,
     "metadata": {},
     "output_type": "execute_result"
    },
    {
     "data": {
      "image/png": "[encoded data removed]",
      "text/plain": [
       "<matplotlib.figure.Figure at 0x1926b2d10>"
      ]
     },
     "metadata": {},
     "output_type": "display_data"
    }
   ],
   "source": [
    "df.subscribedYN.plot(kind = 'hist', color='#55bd88', range = (0, 1), bins = 2)"
   ]
  },
  {
   "cell_type": "code",
   "execution_count": 988,
   "metadata": {
    "collapsed": false
   },
   "outputs": [
    {
     "data": {
      "text/plain": [
       "<matplotlib.axes._subplots.AxesSubplot at 0x192a31990>"
      ]
     },
     "execution_count": 988,
     "metadata": {},
     "output_type": "execute_result"
    },
    {
     "data": {
      "image/png": "[encoded data removed]",
      "text/plain": [
       "<matplotlib.figure.Figure at 0x1905d83d0>"
      ]
     },
     "metadata": {},
     "output_type": "display_data"
    }
   ],
   "source": [
    "df.experience.plot(kind = 'hist', color='#55bd88')"
   ]
  },
  {
   "cell_type": "code",
   "execution_count": 989,
   "metadata": {
    "collapsed": false
   },
   "outputs": [
    {
     "data": {
      "text/plain": [
       "<matplotlib.axes._subplots.AxesSubplot at 0x192a0fcd0>"
      ]
     },
     "execution_count": 989,
     "metadata": {},
     "output_type": "execute_result"
    },
    {
     "data": {
      "image/png": "[encoded data removed]",
      "text/plain": [
       "<matplotlib.figure.Figure at 0x192b80b10>"
      ]
     },
     "metadata": {},
     "output_type": "display_data"
    }
   ],
   "source": [
    "df.sec.plot(kind = 'hist', color='#55bd88')"
   ]
  },
  {
   "cell_type": "code",
   "execution_count": 1030,
   "metadata": {
    "collapsed": false
   },
   "outputs": [
    {
     "data": {
      "text/plain": [
       "<matplotlib.axes._subplots.AxesSubplot at 0x193b34390>"
      ]
     },
     "execution_count": 1030,
     "metadata": {},
     "output_type": "execute_result"
    },
    {
     "data": {
      "image/png": "[encoded data removed]",
      "text/plain": [
       "<matplotlib.figure.Figure at 0x194a55d10>"
      ]
     },
     "metadata": {},
     "output_type": "display_data"
    }
   ],
   "source": [
    "df.gender_n.plot(kind = 'hist', color='#55bd88')"
   ]
  },
  {
   "cell_type": "code",
   "execution_count": 1031,
   "metadata": {
    "collapsed": false
   },
   "outputs": [
    {
     "data": {
      "text/plain": [
       "<matplotlib.axes._subplots.AxesSubplot at 0x194d67f90>"
      ]
     },
     "execution_count": 1031,
     "metadata": {},
     "output_type": "execute_result"
    },
    {
     "data": {
      "image/png": "[encoded data removed]",
      "text/plain": [
       "<matplotlib.figure.Figure at 0x194862c50>"
      ]
     },
     "metadata": {},
     "output_type": "display_data"
    }
   ],
   "source": [
    "df.focus_n.plot(kind = 'hist', color='#55bd88')"
   ]
  },
  {
   "cell_type": "code",
   "execution_count": 1027,
   "metadata": {
    "collapsed": false
   },
   "outputs": [
    {
     "data": {
      "text/plain": [
       "<matplotlib.axes._subplots.AxesSubplot at 0x194849690>"
      ]
     },
     "execution_count": 1027,
     "metadata": {},
     "output_type": "execute_result"
    },
    {
     "data": {
      "image/png": "[encoded data removed]",
      "text/plain": [
       "<matplotlib.figure.Figure at 0x19486c9d0>"
      ]
     },
     "metadata": {},
     "output_type": "display_data"
    }
   ],
   "source": [
    "df.sessions_completed.plot(kind = 'hist', color='#55bd88')"
   ]
  },
  {
   "cell_type": "code",
   "execution_count": 947,
   "metadata": {
    "collapsed": false
   },
   "outputs": [],
   "source": [
    "# Filters to better understand difference between subscription rate of users with low activity\n",
    "# print df[(df.sessions_completed < 2) & (df.sec <= 25) & (df.subscribedYN == 0)].shape[0]\n",
    "# print df[(df.sessions_completed < 2) & (df.sec <= 25) & (df.subscribedYN == 1)].shape[0]"
   ]
  },
  {
   "cell_type": "markdown",
   "metadata": {},
   "source": [
    "<h4><i>Scatter matrix:</i></h4>"
   ]
  },
  {
   "cell_type": "code",
   "execution_count": 1043,
   "metadata": {
    "collapsed": false
   },
   "outputs": [],
   "source": [
    "color = df.experience.map({3: 'red', 2: 'red', 1: 'green', 0: 'blue'})"
   ]
  },
  {
   "cell_type": "code",
   "execution_count": 1034,
   "metadata": {
    "collapsed": false
   },
   "outputs": [
    {
     "data": {
      "text/plain": [
       "array([[<matplotlib.axes._subplots.AxesSubplot object at 0x194d11350>,\n",
       "        <matplotlib.axes._subplots.AxesSubplot object at 0x194eb27d0>,\n",
       "        <matplotlib.axes._subplots.AxesSubplot object at 0x194d91ed0>,\n",
       "        <matplotlib.axes._subplots.AxesSubplot object at 0x195237f10>,\n",
       "        <matplotlib.axes._subplots.AxesSubplot object at 0x1952c74d0>,\n",
       "        <matplotlib.axes._subplots.AxesSubplot object at 0x195312e50>,\n",
       "        <matplotlib.axes._subplots.AxesSubplot object at 0x1953ac410>],\n",
       "       [<matplotlib.axes._subplots.AxesSubplot object at 0x19542d390>,\n",
       "        <matplotlib.axes._subplots.AxesSubplot object at 0x19549a150>,\n",
       "        <matplotlib.axes._subplots.AxesSubplot object at 0x19561b410>,\n",
       "        <matplotlib.axes._subplots.AxesSubplot object at 0x19567e3d0>,\n",
       "        <matplotlib.axes._subplots.AxesSubplot object at 0x1956fe950>,\n",
       "        <matplotlib.axes._subplots.AxesSubplot object at 0x1956abe90>,\n",
       "        <matplotlib.axes._subplots.AxesSubplot object at 0x1957ee690>],\n",
       "       [<matplotlib.axes._subplots.AxesSubplot object at 0x19586e950>,\n",
       "        <matplotlib.axes._subplots.AxesSubplot object at 0x1958dd1d0>,\n",
       "        <matplotlib.axes._subplots.AxesSubplot object at 0x19595f250>,\n",
       "        <matplotlib.axes._subplots.AxesSubplot object at 0x1959abfd0>,\n",
       "        <matplotlib.axes._subplots.AxesSubplot object at 0x195a44390>,\n",
       "        <matplotlib.axes._subplots.AxesSubplot object at 0x195ac4310>,\n",
       "        <matplotlib.axes._subplots.AxesSubplot object at 0x195c322d0>],\n",
       "       [<matplotlib.axes._subplots.AxesSubplot object at 0x195cb2590>,\n",
       "        <matplotlib.axes._subplots.AxesSubplot object at 0x195e17550>,\n",
       "        <matplotlib.axes._subplots.AxesSubplot object at 0x195e96ad0>,\n",
       "        <matplotlib.axes._subplots.AxesSubplot object at 0x195e42fd0>,\n",
       "        <matplotlib.axes._subplots.AxesSubplot object at 0x195f85810>,\n",
       "        <matplotlib.axes._subplots.AxesSubplot object at 0x196108ad0>,\n",
       "        <matplotlib.axes._subplots.AxesSubplot object at 0x196175350>],\n",
       "       [<matplotlib.axes._subplots.AxesSubplot object at 0x1961f73d0>,\n",
       "        <matplotlib.axes._subplots.AxesSubplot object at 0x19625c190>,\n",
       "        <matplotlib.axes._subplots.AxesSubplot object at 0x1962da510>,\n",
       "        <matplotlib.axes._subplots.AxesSubplot object at 0x19635c490>,\n",
       "        <matplotlib.axes._subplots.AxesSubplot object at 0x1963c8450>,\n",
       "        <matplotlib.axes._subplots.AxesSubplot object at 0x19664a710>,\n",
       "        <matplotlib.axes._subplots.AxesSubplot object at 0x1966ae6d0>],\n",
       "       [<matplotlib.axes._subplots.AxesSubplot object at 0x19672fc50>,\n",
       "        <matplotlib.axes._subplots.AxesSubplot object at 0x1966d9e50>,\n",
       "        <matplotlib.axes._subplots.AxesSubplot object at 0x19681c990>,\n",
       "        <matplotlib.axes._subplots.AxesSubplot object at 0x1968a0c50>,\n",
       "        <matplotlib.axes._subplots.AxesSubplot object at 0x19690d4d0>,\n",
       "        <matplotlib.axes._subplots.AxesSubplot object at 0x19698e550>,\n",
       "        <matplotlib.axes._subplots.AxesSubplot object at 0x1969f1310>],\n",
       "       [<matplotlib.axes._subplots.AxesSubplot object at 0x196a73690>,\n",
       "        <matplotlib.axes._subplots.AxesSubplot object at 0x196af4610>,\n",
       "        <matplotlib.axes._subplots.AxesSubplot object at 0x196d625d0>,\n",
       "        <matplotlib.axes._subplots.AxesSubplot object at 0x196de3890>,\n",
       "        <matplotlib.axes._subplots.AxesSubplot object at 0x196e45850>,\n",
       "        <matplotlib.axes._subplots.AxesSubplot object at 0x196ec5dd0>,\n",
       "        <matplotlib.axes._subplots.AxesSubplot object at 0x196e73fd0>]], dtype=object)"
      ]
     },
     "execution_count": 1034,
     "metadata": {},
     "output_type": "execute_result"
    },
    {
     "data": {
      "image/png": "[encoded data removed]",
      "text/plain": [
       "<matplotlib.figure.Figure at 0x194efa9d0>"
      ]
     },
     "metadata": {},
     "output_type": "display_data"
    }
   ],
   "source": [
    "pd.tools.plotting.scatter_matrix(df, c = color, figsize=(12, 12))"
   ]
  },
  {
   "cell_type": "markdown",
   "metadata": {},
   "source": [
    "<h3><i>Let's check data disctribution:</i></h3>"
   ]
  },
  {
   "cell_type": "code",
   "execution_count": 953,
   "metadata": {
    "collapsed": false
   },
   "outputs": [
    {
     "data": {
      "image/png": "[encoded data removed]",
      "text/plain": [
       "<matplotlib.figure.Figure at 0x189f8c290>"
      ]
     },
     "execution_count": 953,
     "metadata": {},
     "output_type": "execute_result"
    },
    {
     "data": {
      "image/png": "[encoded data removed]",
      "text/plain": [
       "<matplotlib.figure.Figure at 0x189f8c290>"
      ]
     },
     "metadata": {},
     "output_type": "display_data"
    }
   ],
   "source": [
    "sm.qqplot(df.sec, line = 's')"
   ]
  },
  {
   "cell_type": "code",
   "execution_count": 954,
   "metadata": {
    "collapsed": false
   },
   "outputs": [
    {
     "data": {
      "image/png": "[encoded data removed]",
      "text/plain": [
       "<matplotlib.figure.Figure at 0x18fe22550>"
      ]
     },
     "execution_count": 954,
     "metadata": {},
     "output_type": "execute_result"
    },
    {
     "data": {
      "image/png": "[encoded data removed]",
      "text/plain": [
       "<matplotlib.figure.Figure at 0x18fe22550>"
      ]
     },
     "metadata": {},
     "output_type": "display_data"
    }
   ],
   "source": [
    "sm.qqplot(df.sessions_completed, line = 's')"
   ]
  },
  {
   "cell_type": "code",
   "execution_count": 955,
   "metadata": {
    "collapsed": false
   },
   "outputs": [
    {
     "data": {
      "image/png": "[encoded data removed]",
      "text/plain": [
       "<matplotlib.figure.Figure at 0x18fe22dd0>"
      ]
     },
     "execution_count": 955,
     "metadata": {},
     "output_type": "execute_result"
    },
    {
     "data": {
      "image/png": "[encoded data removed]",
      "text/plain": [
       "<matplotlib.figure.Figure at 0x18fe22dd0>"
      ]
     },
     "metadata": {},
     "output_type": "display_data"
    }
   ],
   "source": [
    "sm.qqplot(df.series_completed, line = 's')"
   ]
  },
  {
   "cell_type": "markdown",
   "metadata": {},
   "source": [
    "<i>The data is not distributed normally, this is closer to exponential distribution. Most likely this is a result of the large amount of low values and some outliers with extremely high points.</i>"
   ]
  },
  {
   "cell_type": "markdown",
   "metadata": {},
   "source": [
    "<h3><i>Maybe drop outliers? Let's try...</i></h3>"
   ]
  },
  {
   "cell_type": "code",
   "execution_count": 991,
   "metadata": {
    "collapsed": true
   },
   "outputs": [],
   "source": [
    "df_new = df"
   ]
  },
  {
   "cell_type": "code",
   "execution_count": 1020,
   "metadata": {
    "collapsed": false
   },
   "outputs": [
    {
     "name": "stdout",
     "output_type": "stream",
     "text": [
      "Dropping outliers\n",
      "- n (before) = 16808\n",
      "- Q1         = 120.0 sec\n",
      "- Q2/Median  = 365.0 sec\n",
      "- Q3         = 865.0 sec\n",
      "- n (after)  = 15733\n"
     ]
    }
   ],
   "source": [
    "def drop_outliers(df_new):\n",
    "    print 'Dropping outliers'\n",
    "    print '- n (before) =', df_new.shape[0]\n",
    "\n",
    "    Q1 = df_new.sec.quantile(.25)\n",
    "    Q2 = df_new.sec.quantile(.5)\n",
    "    Q3 = df_new.sec.quantile(.75)\n",
    "    IQR = Q3 - Q1\n",
    "\n",
    "    print '- Q1         =', Q1, 'sec'\n",
    "    print '- Q2/Median  =', Q2, 'sec'\n",
    "    print '- Q3         =', Q3, 'sec'\n",
    "\n",
    "    df_new.drop(df_new[(df_new.sec < Q1 - 1.5 * IQR) | (df_new.sec > Q3 + 1.5 * IQR)].index, inplace = True)\n",
    "\n",
    "    print '- n (after)  =', df_new.shape[0]\n",
    "\n",
    "drop_outliers(df_new)"
   ]
  },
  {
   "cell_type": "code",
   "execution_count": 1021,
   "metadata": {
    "collapsed": false
   },
   "outputs": [
    {
     "data": {
      "text/plain": [
       "(18730, 7)"
      ]
     },
     "execution_count": 1021,
     "metadata": {},
     "output_type": "execute_result"
    }
   ],
   "source": [
    "df.shape"
   ]
  },
  {
   "cell_type": "code",
   "execution_count": 1022,
   "metadata": {
    "collapsed": false
   },
   "outputs": [
    {
     "data": {
      "text/plain": [
       "305"
      ]
     },
     "execution_count": 1022,
     "metadata": {},
     "output_type": "execute_result"
    }
   ],
   "source": [
    "df_new.subscribedYN.sum()"
   ]
  },
  {
   "cell_type": "code",
   "execution_count": 1023,
   "metadata": {
    "collapsed": false
   },
   "outputs": [
    {
     "data": {
      "text/plain": [
       "<matplotlib.axes._subplots.AxesSubplot at 0x192b47bd0>"
      ]
     },
     "execution_count": 1023,
     "metadata": {},
     "output_type": "execute_result"
    },
    {
     "data": {
      "image/png": "[encoded data removed]",
      "text/plain": [
       "<matplotlib.figure.Figure at 0x1919908d0>"
      ]
     },
     "metadata": {},
     "output_type": "display_data"
    }
   ],
   "source": [
    "df_new.sessions_completed.plot(kind = 'box')"
   ]
  },
  {
   "cell_type": "code",
   "execution_count": 995,
   "metadata": {
    "collapsed": false
   },
   "outputs": [
    {
     "data": {
      "text/plain": [
       "<matplotlib.axes._subplots.AxesSubplot at 0x16d9cd290>"
      ]
     },
     "execution_count": 995,
     "metadata": {},
     "output_type": "execute_result"
    },
    {
     "data": {
      "image/png": "[encoded data removed]",
      "text/plain": [
       "<matplotlib.figure.Figure at 0x189424f50>"
      ]
     },
     "metadata": {},
     "output_type": "display_data"
    }
   ],
   "source": [
    "df_new.sec.plot(kind = 'box')"
   ]
  },
  {
   "cell_type": "markdown",
   "metadata": {},
   "source": [
    "<i>After dropping the outliers I will get 450 subscribed users out of 16548, which is about 2.72% instead of 5.87% I had originally. I'm not sure that is enough observations of subscribed users to build a good model, I will keep them for now and, if needed, I will drop the outliers later.</i>"
   ]
  },
  {
   "cell_type": "markdown",
   "metadata": {},
   "source": [
    "<h3><i>Summary</i></h3>"
   ]
  },
  {
   "cell_type": "code",
   "execution_count": 1024,
   "metadata": {
    "collapsed": false
   },
   "outputs": [
    {
     "data": {
      "text/html": [
       "<div>\n",
       "<table border=\"1\" class=\"dataframe\">\n",
       "  <thead>\n",
       "    <tr style=\"text-align: right;\">\n",
       "      <th></th>\n",
       "      <th>sec</th>\n",
       "      <th>sessions_completed</th>\n",
       "      <th>series_completed</th>\n",
       "      <th>experience</th>\n",
       "      <th>focus_n</th>\n",
       "      <th>gender_n</th>\n",
       "      <th>subscribedYN</th>\n",
       "    </tr>\n",
       "  </thead>\n",
       "  <tbody>\n",
       "    <tr>\n",
       "      <th>sec</th>\n",
       "      <td>1.000000</td>\n",
       "      <td>0.815377</td>\n",
       "      <td>0.485237</td>\n",
       "      <td>0.143535</td>\n",
       "      <td>0.016027</td>\n",
       "      <td>0.003248</td>\n",
       "      <td>0.459421</td>\n",
       "    </tr>\n",
       "    <tr>\n",
       "      <th>sessions_completed</th>\n",
       "      <td>0.815377</td>\n",
       "      <td>1.000000</td>\n",
       "      <td>0.552268</td>\n",
       "      <td>0.097124</td>\n",
       "      <td>-0.038563</td>\n",
       "      <td>0.018690</td>\n",
       "      <td>0.358653</td>\n",
       "    </tr>\n",
       "    <tr>\n",
       "      <th>series_completed</th>\n",
       "      <td>0.485237</td>\n",
       "      <td>0.552268</td>\n",
       "      <td>1.000000</td>\n",
       "      <td>0.039392</td>\n",
       "      <td>0.001637</td>\n",
       "      <td>-0.003956</td>\n",
       "      <td>0.192762</td>\n",
       "    </tr>\n",
       "    <tr>\n",
       "      <th>experience</th>\n",
       "      <td>0.143535</td>\n",
       "      <td>0.097124</td>\n",
       "      <td>0.039392</td>\n",
       "      <td>1.000000</td>\n",
       "      <td>0.152501</td>\n",
       "      <td>-0.016522</td>\n",
       "      <td>0.226416</td>\n",
       "    </tr>\n",
       "    <tr>\n",
       "      <th>focus_n</th>\n",
       "      <td>0.016027</td>\n",
       "      <td>-0.038563</td>\n",
       "      <td>0.001637</td>\n",
       "      <td>0.152501</td>\n",
       "      <td>1.000000</td>\n",
       "      <td>0.000664</td>\n",
       "      <td>0.050908</td>\n",
       "    </tr>\n",
       "    <tr>\n",
       "      <th>gender_n</th>\n",
       "      <td>0.003248</td>\n",
       "      <td>0.018690</td>\n",
       "      <td>-0.003956</td>\n",
       "      <td>-0.016522</td>\n",
       "      <td>0.000664</td>\n",
       "      <td>1.000000</td>\n",
       "      <td>-0.018436</td>\n",
       "    </tr>\n",
       "    <tr>\n",
       "      <th>subscribedYN</th>\n",
       "      <td>0.459421</td>\n",
       "      <td>0.358653</td>\n",
       "      <td>0.192762</td>\n",
       "      <td>0.226416</td>\n",
       "      <td>0.050908</td>\n",
       "      <td>-0.018436</td>\n",
       "      <td>1.000000</td>\n",
       "    </tr>\n",
       "  </tbody>\n",
       "</table>\n",
       "</div>"
      ],
      "text/plain": [
       "                         sec  sessions_completed  series_completed  \\\n",
       "sec                 1.000000            0.815377          0.485237   \n",
       "sessions_completed  0.815377            1.000000          0.552268   \n",
       "series_completed    0.485237            0.552268          1.000000   \n",
       "experience          0.143535            0.097124          0.039392   \n",
       "focus_n             0.016027           -0.038563          0.001637   \n",
       "gender_n            0.003248            0.018690         -0.003956   \n",
       "subscribedYN        0.459421            0.358653          0.192762   \n",
       "\n",
       "                    experience   focus_n  gender_n  subscribedYN  \n",
       "sec                   0.143535  0.016027  0.003248      0.459421  \n",
       "sessions_completed    0.097124 -0.038563  0.018690      0.358653  \n",
       "series_completed      0.039392  0.001637 -0.003956      0.192762  \n",
       "experience            1.000000  0.152501 -0.016522      0.226416  \n",
       "focus_n               0.152501  1.000000  0.000664      0.050908  \n",
       "gender_n             -0.016522  0.000664  1.000000     -0.018436  \n",
       "subscribedYN          0.226416  0.050908 -0.018436      1.000000  "
      ]
     },
     "execution_count": 1024,
     "metadata": {},
     "output_type": "execute_result"
    }
   ],
   "source": [
    "df.corr()"
   ]
  },
  {
   "cell_type": "markdown",
   "metadata": {},
   "source": [
    "<i>Amount of seconds user spent watching content and sessions_completed are probably colinear. This makes sence, the more sessions a user watches, more time he/she spends watching content.</i>"
   ]
  },
  {
   "cell_type": "markdown",
   "metadata": {},
   "source": [
    "<i>From the correlation table, subscribtion depends on amount of time(sec) that user spends watching content within trial period. I will use this feature for building a model. \n",
    "Also, my hypothesis is still the same: the more experienced users are more likely to subscribe.</i>"
   ]
  },
  {
   "cell_type": "code",
   "execution_count": null,
   "metadata": {
    "collapsed": true
   },
   "outputs": [],
   "source": []
  }
 ],
 "metadata": {
  "anaconda-cloud": {},
  "kernelspec": {
   "display_name": "Python [Root]",
   "language": "python",
   "name": "Python [Root]"
  },
  "language_info": {
   "codemirror_mode": {
    "name": "ipython",
    "version": 2
   },
   "file_extension": ".py",
   "mimetype": "text/x-python",
   "name": "python",
   "nbconvert_exporter": "python",
   "pygments_lexer": "ipython2",
   "version": "2.7.12"
  }
 },
 "nbformat": 4,
 "nbformat_minor": 0
}
