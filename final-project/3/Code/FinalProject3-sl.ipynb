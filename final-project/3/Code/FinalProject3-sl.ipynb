{
 "cells": [
  {
   "cell_type": "markdown",
   "metadata": {},
   "source": [
    "# Final Project 3. EDA."
   ]
  },
  {
   "cell_type": "code",
   "execution_count": 81,
   "metadata": {
    "collapsed": true
   },
   "outputs": [],
   "source": [
    "import os\n",
    "import pandas as pd\n",
    "import matplotlib.pyplot as plt\n",
    "import seaborn as sns\n",
    "import statsmodels.api as sm\n",
    "import numpy as np\n",
    "\n",
    "from sklearn import preprocessing, neighbors, grid_search, tree, ensemble, metrics, cross_validation, externals\n",
    "\n",
    "pd.set_option('display.max_rows', 10)\n",
    "pd.set_option('display.max_columns', 10)\n",
    "pd.set_option('display.notebook_repr_html', True)\n",
    "\n",
    "%matplotlib inline\n",
    "plt.style.use('ggplot')\n",
    "from sklearn import linear_model"
   ]
  },
  {
   "cell_type": "markdown",
   "metadata": {},
   "source": [
    "<i>Problem: I am still trying to predict if user becomes a paid customer based on his activity and Whil sign up info. </i>"
   ]
  },
  {
   "cell_type": "markdown",
   "metadata": {},
   "source": [
    "<i>In order to create the dataset there was some SQL preprocessing done:\n",
    "<ul>\n",
    "<li>Removed users who didn't complete sign up, on-boarding, or spent less than 15 sec watching content</li>\n",
    "<li>Removed corporate users and Whil internal users</li>\n",
    "<li>Removed test users from the dataset</li>\n",
    "<li>Counted the total amount of sessions and series completed for each user during the trial period</li>\n",
    "<li>Counted the duration of all watched content for each user (during trial), transformed into seconds</li>\n",
    "<li>Converted experience level from json to text format.</li>\n",
    "</ul></i>\n"
   ]
  },
  {
   "cell_type": "markdown",
   "metadata": {},
   "source": [
    "<i>Note: I updated the data dictionary in final project 2.</i>"
   ]
  },
  {
   "cell_type": "code",
   "execution_count": 82,
   "metadata": {
    "collapsed": false
   },
   "outputs": [
    {
     "data": {
      "text/html": [
       "<div>\n",
       "<table border=\"1\" class=\"dataframe\">\n",
       "  <thead>\n",
       "    <tr style=\"text-align: right;\">\n",
       "      <th></th>\n",
       "      <th>user_id</th>\n",
       "      <th>sec</th>\n",
       "      <th>sessions_completed</th>\n",
       "      <th>series_completed</th>\n",
       "      <th>gender</th>\n",
       "      <th>experience_level</th>\n",
       "      <th>estimate_birth_day</th>\n",
       "      <th>focus</th>\n",
       "      <th>subscribed</th>\n",
       "    </tr>\n",
       "  </thead>\n",
       "  <tbody>\n",
       "    <tr>\n",
       "      <th>0</th>\n",
       "      <td>16</td>\n",
       "      <td>225</td>\n",
       "      <td>1</td>\n",
       "      <td>0</td>\n",
       "      <td>m</td>\n",
       "      <td>low</td>\n",
       "      <td>1982-03-14 04:32:24.435+00</td>\n",
       "      <td>mindfulness</td>\n",
       "      <td>1.0</td>\n",
       "    </tr>\n",
       "    <tr>\n",
       "      <th>1</th>\n",
       "      <td>41</td>\n",
       "      <td>1795</td>\n",
       "      <td>1</td>\n",
       "      <td>0</td>\n",
       "      <td>f</td>\n",
       "      <td>medium</td>\n",
       "      <td>1969-04-21 13:25:48.392+00</td>\n",
       "      <td>yoga</td>\n",
       "      <td>NaN</td>\n",
       "    </tr>\n",
       "    <tr>\n",
       "      <th>2</th>\n",
       "      <td>104</td>\n",
       "      <td>3750</td>\n",
       "      <td>9</td>\n",
       "      <td>2</td>\n",
       "      <td>f</td>\n",
       "      <td>high</td>\n",
       "      <td>1958-04-24 20:23:59.469+00</td>\n",
       "      <td>mindfulness</td>\n",
       "      <td>1.0</td>\n",
       "    </tr>\n",
       "    <tr>\n",
       "      <th>3</th>\n",
       "      <td>131</td>\n",
       "      <td>635</td>\n",
       "      <td>2</td>\n",
       "      <td>0</td>\n",
       "      <td>f</td>\n",
       "      <td>medium</td>\n",
       "      <td>1968-04-27 23:50:42.827+00</td>\n",
       "      <td>mindfulness</td>\n",
       "      <td>NaN</td>\n",
       "    </tr>\n",
       "    <tr>\n",
       "      <th>4</th>\n",
       "      <td>155</td>\n",
       "      <td>810</td>\n",
       "      <td>4</td>\n",
       "      <td>0</td>\n",
       "      <td>f</td>\n",
       "      <td>high</td>\n",
       "      <td>1963-04-25 20:15:37.788+00</td>\n",
       "      <td>mindfulness</td>\n",
       "      <td>1.0</td>\n",
       "    </tr>\n",
       "  </tbody>\n",
       "</table>\n",
       "</div>"
      ],
      "text/plain": [
       "   user_id   sec  sessions_completed  series_completed gender  \\\n",
       "0       16   225                   1                 0      m   \n",
       "1       41  1795                   1                 0      f   \n",
       "2      104  3750                   9                 2      f   \n",
       "3      131   635                   2                 0      f   \n",
       "4      155   810                   4                 0      f   \n",
       "\n",
       "  experience_level          estimate_birth_day        focus  subscribed  \n",
       "0              low  1982-03-14 04:32:24.435+00  mindfulness         1.0  \n",
       "1           medium  1969-04-21 13:25:48.392+00         yoga         NaN  \n",
       "2             high  1958-04-24 20:23:59.469+00  mindfulness         1.0  \n",
       "3           medium  1968-04-27 23:50:42.827+00  mindfulness         NaN  \n",
       "4             high  1963-04-25 20:15:37.788+00  mindfulness         1.0  "
      ]
     },
     "execution_count": 82,
     "metadata": {},
     "output_type": "execute_result"
    }
   ],
   "source": [
    "df = pd.read_csv(os.path.join('..', 'Dataset', 'QueryResults.csv'))\n",
    "\n",
    "df.head()"
   ]
  },
  {
   "cell_type": "code",
   "execution_count": 83,
   "metadata": {
    "collapsed": false
   },
   "outputs": [
    {
     "name": "stdout",
     "output_type": "stream",
     "text": [
      "Rows total:  18730\n"
     ]
    }
   ],
   "source": [
    "print 'Rows total: ', len(df)"
   ]
  },
  {
   "cell_type": "markdown",
   "metadata": {},
   "source": [
    "<h3><i>Missing data:</i></h3> "
   ]
  },
  {
   "cell_type": "code",
   "execution_count": 84,
   "metadata": {
    "collapsed": false
   },
   "outputs": [
    {
     "data": {
      "text/plain": [
       "user_id                   0\n",
       "sec                       0\n",
       "sessions_completed        0\n",
       "series_completed          0\n",
       "gender                    0\n",
       "experience_level          0\n",
       "estimate_birth_day    11753\n",
       "focus                     0\n",
       "subscribed            17593\n",
       "dtype: int64"
      ]
     },
     "execution_count": 84,
     "metadata": {},
     "output_type": "execute_result"
    }
   ],
   "source": [
    "df.isnull().sum()"
   ]
  },
  {
   "cell_type": "markdown",
   "metadata": {},
   "source": [
    "<h4><i>estimate_birth_day:</i></h4> "
   ]
  },
  {
   "cell_type": "code",
   "execution_count": 39,
   "metadata": {
    "collapsed": false
   },
   "outputs": [
    {
     "name": "stdout",
     "output_type": "stream",
     "text": [
      "Rows total:  18730\n",
      "Amount of users with missing DoB 11753\n",
      "Percent of users with missing DoB:  62\n"
     ]
    }
   ],
   "source": [
    "print 'Rows total: ', len(df)\n",
    "print 'Amount of users with missing DoB', df.estimate_birth_day.isnull().sum()\n",
    "print 'Percent of users with missing DoB: ', df.estimate_birth_day.isnull().sum()*100/len(df)"
   ]
  },
  {
   "cell_type": "markdown",
   "metadata": {},
   "source": [
    "<i>I will try to create a binary variabe to show if DoB is given.</i>"
   ]
  },
  {
   "cell_type": "code",
   "execution_count": 85,
   "metadata": {
    "collapsed": true
   },
   "outputs": [],
   "source": [
    "def dob_given(row):\n",
    "    if row.estimate_birth_day > 0:\n",
    "        return 1\n",
    "    else:\n",
    "        return 0\n",
    "    \n",
    "estimate_birth_day = df.apply(dob_given, axis = 1)\n",
    "\n",
    "cat=estimate_birth_day.rename('dob_given')\n",
    "\n",
    "df=df.join(cat)"
   ]
  },
  {
   "cell_type": "code",
   "execution_count": 87,
   "metadata": {
    "collapsed": false
   },
   "outputs": [
    {
     "data": {
      "text/html": [
       "<div>\n",
       "<table border=\"1\" class=\"dataframe\">\n",
       "  <thead>\n",
       "    <tr style=\"text-align: right;\">\n",
       "      <th></th>\n",
       "      <th>user_id</th>\n",
       "      <th>sec</th>\n",
       "      <th>sessions_completed</th>\n",
       "      <th>series_completed</th>\n",
       "      <th>gender</th>\n",
       "      <th>experience_level</th>\n",
       "      <th>focus</th>\n",
       "      <th>subscribed</th>\n",
       "      <th>dob_given</th>\n",
       "    </tr>\n",
       "  </thead>\n",
       "  <tbody>\n",
       "    <tr>\n",
       "      <th>0</th>\n",
       "      <td>16</td>\n",
       "      <td>225</td>\n",
       "      <td>1</td>\n",
       "      <td>0</td>\n",
       "      <td>m</td>\n",
       "      <td>low</td>\n",
       "      <td>mindfulness</td>\n",
       "      <td>1.0</td>\n",
       "      <td>1</td>\n",
       "    </tr>\n",
       "    <tr>\n",
       "      <th>1</th>\n",
       "      <td>41</td>\n",
       "      <td>1795</td>\n",
       "      <td>1</td>\n",
       "      <td>0</td>\n",
       "      <td>f</td>\n",
       "      <td>medium</td>\n",
       "      <td>yoga</td>\n",
       "      <td>NaN</td>\n",
       "      <td>1</td>\n",
       "    </tr>\n",
       "    <tr>\n",
       "      <th>2</th>\n",
       "      <td>104</td>\n",
       "      <td>3750</td>\n",
       "      <td>9</td>\n",
       "      <td>2</td>\n",
       "      <td>f</td>\n",
       "      <td>high</td>\n",
       "      <td>mindfulness</td>\n",
       "      <td>1.0</td>\n",
       "      <td>1</td>\n",
       "    </tr>\n",
       "    <tr>\n",
       "      <th>3</th>\n",
       "      <td>131</td>\n",
       "      <td>635</td>\n",
       "      <td>2</td>\n",
       "      <td>0</td>\n",
       "      <td>f</td>\n",
       "      <td>medium</td>\n",
       "      <td>mindfulness</td>\n",
       "      <td>NaN</td>\n",
       "      <td>1</td>\n",
       "    </tr>\n",
       "    <tr>\n",
       "      <th>4</th>\n",
       "      <td>155</td>\n",
       "      <td>810</td>\n",
       "      <td>4</td>\n",
       "      <td>0</td>\n",
       "      <td>f</td>\n",
       "      <td>high</td>\n",
       "      <td>mindfulness</td>\n",
       "      <td>1.0</td>\n",
       "      <td>1</td>\n",
       "    </tr>\n",
       "  </tbody>\n",
       "</table>\n",
       "</div>"
      ],
      "text/plain": [
       "   user_id   sec  sessions_completed  series_completed gender  \\\n",
       "0       16   225                   1                 0      m   \n",
       "1       41  1795                   1                 0      f   \n",
       "2      104  3750                   9                 2      f   \n",
       "3      131   635                   2                 0      f   \n",
       "4      155   810                   4                 0      f   \n",
       "\n",
       "  experience_level        focus  subscribed  dob_given  \n",
       "0              low  mindfulness         1.0          1  \n",
       "1           medium         yoga         NaN          1  \n",
       "2             high  mindfulness         1.0          1  \n",
       "3           medium  mindfulness         NaN          1  \n",
       "4             high  mindfulness         1.0          1  "
      ]
     },
     "execution_count": 87,
     "metadata": {},
     "output_type": "execute_result"
    }
   ],
   "source": [
    "df.drop(['estimate_birth_day'], axis = 1, inplace = True)\n",
    "df.head()"
   ]
  },
  {
   "cell_type": "markdown",
   "metadata": {},
   "source": [
    "<h4><i>subscribed:</i></h4> "
   ]
  },
  {
   "cell_type": "code",
   "execution_count": 88,
   "metadata": {
    "collapsed": false
   },
   "outputs": [
    {
     "data": {
      "text/plain": [
       "array([  1.,  nan,   0.])"
      ]
     },
     "execution_count": 88,
     "metadata": {},
     "output_type": "execute_result"
    }
   ],
   "source": [
    "df.subscribed.unique()"
   ]
  },
  {
   "cell_type": "markdown",
   "metadata": {},
   "source": [
    "<i>In fact all NaNs here are users that didn't sibscribe. 0s are users who subscribed but then cancelled subscription via support, and 1s are subscribed users. Let's turn them into a binary value.</i>"
   ]
  },
  {
   "cell_type": "code",
   "execution_count": 89,
   "metadata": {
    "collapsed": true
   },
   "outputs": [],
   "source": [
    "def subscribe(row):\n",
    "    if row.subscribed == 1:\n",
    "        return 1\n",
    "    else:\n",
    "        return 0\n",
    "   \n",
    "subscr = df.apply(subscribe, axis = 1)\n",
    "\n",
    "cat=subscr.rename(\"subscribedYN\")\n",
    "\n",
    "df=df.join(cat)"
   ]
  },
  {
   "cell_type": "code",
   "execution_count": 90,
   "metadata": {
    "collapsed": false
   },
   "outputs": [
    {
     "data": {
      "text/html": [
       "<div>\n",
       "<table border=\"1\" class=\"dataframe\">\n",
       "  <thead>\n",
       "    <tr style=\"text-align: right;\">\n",
       "      <th></th>\n",
       "      <th>user_id</th>\n",
       "      <th>sec</th>\n",
       "      <th>sessions_completed</th>\n",
       "      <th>series_completed</th>\n",
       "      <th>gender</th>\n",
       "      <th>experience_level</th>\n",
       "      <th>focus</th>\n",
       "      <th>dob_given</th>\n",
       "      <th>subscribedYN</th>\n",
       "    </tr>\n",
       "  </thead>\n",
       "  <tbody>\n",
       "    <tr>\n",
       "      <th>0</th>\n",
       "      <td>16</td>\n",
       "      <td>225</td>\n",
       "      <td>1</td>\n",
       "      <td>0</td>\n",
       "      <td>m</td>\n",
       "      <td>low</td>\n",
       "      <td>mindfulness</td>\n",
       "      <td>1</td>\n",
       "      <td>1</td>\n",
       "    </tr>\n",
       "    <tr>\n",
       "      <th>1</th>\n",
       "      <td>41</td>\n",
       "      <td>1795</td>\n",
       "      <td>1</td>\n",
       "      <td>0</td>\n",
       "      <td>f</td>\n",
       "      <td>medium</td>\n",
       "      <td>yoga</td>\n",
       "      <td>1</td>\n",
       "      <td>0</td>\n",
       "    </tr>\n",
       "    <tr>\n",
       "      <th>2</th>\n",
       "      <td>104</td>\n",
       "      <td>3750</td>\n",
       "      <td>9</td>\n",
       "      <td>2</td>\n",
       "      <td>f</td>\n",
       "      <td>high</td>\n",
       "      <td>mindfulness</td>\n",
       "      <td>1</td>\n",
       "      <td>1</td>\n",
       "    </tr>\n",
       "    <tr>\n",
       "      <th>3</th>\n",
       "      <td>131</td>\n",
       "      <td>635</td>\n",
       "      <td>2</td>\n",
       "      <td>0</td>\n",
       "      <td>f</td>\n",
       "      <td>medium</td>\n",
       "      <td>mindfulness</td>\n",
       "      <td>1</td>\n",
       "      <td>0</td>\n",
       "    </tr>\n",
       "    <tr>\n",
       "      <th>4</th>\n",
       "      <td>155</td>\n",
       "      <td>810</td>\n",
       "      <td>4</td>\n",
       "      <td>0</td>\n",
       "      <td>f</td>\n",
       "      <td>high</td>\n",
       "      <td>mindfulness</td>\n",
       "      <td>1</td>\n",
       "      <td>1</td>\n",
       "    </tr>\n",
       "  </tbody>\n",
       "</table>\n",
       "</div>"
      ],
      "text/plain": [
       "   user_id   sec  sessions_completed  series_completed gender  \\\n",
       "0       16   225                   1                 0      m   \n",
       "1       41  1795                   1                 0      f   \n",
       "2      104  3750                   9                 2      f   \n",
       "3      131   635                   2                 0      f   \n",
       "4      155   810                   4                 0      f   \n",
       "\n",
       "  experience_level        focus  dob_given  subscribedYN  \n",
       "0              low  mindfulness          1             1  \n",
       "1           medium         yoga          1             0  \n",
       "2             high  mindfulness          1             1  \n",
       "3           medium  mindfulness          1             0  \n",
       "4             high  mindfulness          1             1  "
      ]
     },
     "execution_count": 90,
     "metadata": {},
     "output_type": "execute_result"
    }
   ],
   "source": [
    "df.drop(['subscribed'], axis = 1, inplace = True)\n",
    "df.head()"
   ]
  },
  {
   "cell_type": "code",
   "execution_count": 91,
   "metadata": {
    "collapsed": false
   },
   "outputs": [
    {
     "name": "stdout",
     "output_type": "stream",
     "text": [
      "Total users subscribed:  1099\n",
      "% of subscribed users among all users: 5.86759209824\n"
     ]
    }
   ],
   "source": [
    "print 'Total users subscribed: ', df.subscribedYN.sum()\n",
    "print '% of subscribed users among all users:', df.subscribedYN.sum()*100.0/len(df)"
   ]
  },
  {
   "cell_type": "code",
   "execution_count": 92,
   "metadata": {
    "collapsed": false
   },
   "outputs": [
    {
     "data": {
      "text/plain": [
       "user_id               0\n",
       "sec                   0\n",
       "sessions_completed    0\n",
       "series_completed      0\n",
       "gender                0\n",
       "experience_level      0\n",
       "focus                 0\n",
       "dob_given             0\n",
       "subscribedYN          0\n",
       "dtype: int64"
      ]
     },
     "execution_count": 92,
     "metadata": {},
     "output_type": "execute_result"
    }
   ],
   "source": [
    "df.isnull().sum()"
   ]
  },
  {
   "cell_type": "markdown",
   "metadata": {},
   "source": [
    "<h3><i> For better analysis, let's transform gender, experiense_level, focus into numeric values: </i></h3>"
   ]
  },
  {
   "cell_type": "code",
   "execution_count": 93,
   "metadata": {
    "collapsed": false
   },
   "outputs": [
    {
     "data": {
      "text/plain": [
       "array(['low', 'medium', 'high', 'none'], dtype=object)"
      ]
     },
     "execution_count": 93,
     "metadata": {},
     "output_type": "execute_result"
    }
   ],
   "source": [
    "df.experience_level.unique()"
   ]
  },
  {
   "cell_type": "code",
   "execution_count": 94,
   "metadata": {
    "collapsed": false
   },
   "outputs": [],
   "source": [
    "def exp_lvl(row):\n",
    "    if row.experience_level == 'none':\n",
    "        return 1\n",
    "    elif row.experience_level == 'low':\n",
    "        return 2\n",
    "    elif row.experience_level == 'medium':\n",
    "        return 3\n",
    "    else:\n",
    "        return 4\n",
    "   \n",
    "experience = df.apply(exp_lvl, axis = 1)\n",
    "\n",
    "cat=experience.rename(\"experience\")\n",
    "\n",
    "df=df.join(cat)  "
   ]
  },
  {
   "cell_type": "code",
   "execution_count": 95,
   "metadata": {
    "collapsed": false
   },
   "outputs": [
    {
     "data": {
      "text/plain": [
       "array(['mindfulness', 'yoga'], dtype=object)"
      ]
     },
     "execution_count": 95,
     "metadata": {},
     "output_type": "execute_result"
    }
   ],
   "source": [
    "df.focus.unique()"
   ]
  },
  {
   "cell_type": "code",
   "execution_count": 96,
   "metadata": {
    "collapsed": false,
    "scrolled": true
   },
   "outputs": [],
   "source": [
    "def focus_n(row):\n",
    "    if row.focus == 'yoga':\n",
    "        return 1\n",
    "    else:\n",
    "        return 0\n",
    "    \n",
    "focus_n = df.apply(focus_n, axis = 1)\n",
    "\n",
    "cat=focus_n.rename(\"focus_n\")\n",
    "\n",
    "df=df.join(cat)"
   ]
  },
  {
   "cell_type": "code",
   "execution_count": 97,
   "metadata": {
    "collapsed": false
   },
   "outputs": [
    {
     "data": {
      "text/plain": [
       "array(['m', 'f'], dtype=object)"
      ]
     },
     "execution_count": 97,
     "metadata": {},
     "output_type": "execute_result"
    }
   ],
   "source": [
    "df.gender.unique()"
   ]
  },
  {
   "cell_type": "code",
   "execution_count": 98,
   "metadata": {
    "collapsed": true
   },
   "outputs": [],
   "source": [
    "def gender_n(row):\n",
    "    if row.gender == 'm':\n",
    "        return 1\n",
    "    else:\n",
    "        return 0\n",
    "    \n",
    "gender = df.apply(gender_n, axis = 1)\n",
    "\n",
    "cat=gender.rename('gender_n')\n",
    "\n",
    "df=df.join(cat)"
   ]
  },
  {
   "cell_type": "code",
   "execution_count": 99,
   "metadata": {
    "collapsed": false,
    "scrolled": true
   },
   "outputs": [
    {
     "data": {
      "text/plain": [
       "Index([u'user_id', u'sec', u'sessions_completed', u'series_completed',\n",
       "       u'gender', u'experience_level', u'focus', u'dob_given', u'subscribedYN',\n",
       "       u'experience', u'focus_n', u'gender_n'],\n",
       "      dtype='object')"
      ]
     },
     "execution_count": 99,
     "metadata": {},
     "output_type": "execute_result"
    }
   ],
   "source": [
    "df.columns"
   ]
  },
  {
   "cell_type": "markdown",
   "metadata": {},
   "source": [
    "<h3><i>Let's drop old columns, and also user_id column, we don't need it. And let's change the order of columns.</i></h3>"
   ]
  },
  {
   "cell_type": "code",
   "execution_count": 100,
   "metadata": {
    "collapsed": false
   },
   "outputs": [],
   "source": [
    "df = df[['subscribedYN','sec','sessions_completed','series_completed','experience','focus_n','gender_n','dob_given']]"
   ]
  },
  {
   "cell_type": "code",
   "execution_count": 101,
   "metadata": {
    "collapsed": false
   },
   "outputs": [
    {
     "data": {
      "text/html": [
       "<div>\n",
       "<table border=\"1\" class=\"dataframe\">\n",
       "  <thead>\n",
       "    <tr style=\"text-align: right;\">\n",
       "      <th></th>\n",
       "      <th>subscribedYN</th>\n",
       "      <th>sec</th>\n",
       "      <th>sessions_completed</th>\n",
       "      <th>series_completed</th>\n",
       "      <th>experience</th>\n",
       "      <th>focus_n</th>\n",
       "      <th>gender_n</th>\n",
       "      <th>dob_given</th>\n",
       "    </tr>\n",
       "  </thead>\n",
       "  <tbody>\n",
       "    <tr>\n",
       "      <th>0</th>\n",
       "      <td>1</td>\n",
       "      <td>225</td>\n",
       "      <td>1</td>\n",
       "      <td>0</td>\n",
       "      <td>2</td>\n",
       "      <td>0</td>\n",
       "      <td>1</td>\n",
       "      <td>1</td>\n",
       "    </tr>\n",
       "    <tr>\n",
       "      <th>1</th>\n",
       "      <td>0</td>\n",
       "      <td>1795</td>\n",
       "      <td>1</td>\n",
       "      <td>0</td>\n",
       "      <td>3</td>\n",
       "      <td>1</td>\n",
       "      <td>0</td>\n",
       "      <td>1</td>\n",
       "    </tr>\n",
       "    <tr>\n",
       "      <th>2</th>\n",
       "      <td>1</td>\n",
       "      <td>3750</td>\n",
       "      <td>9</td>\n",
       "      <td>2</td>\n",
       "      <td>4</td>\n",
       "      <td>0</td>\n",
       "      <td>0</td>\n",
       "      <td>1</td>\n",
       "    </tr>\n",
       "    <tr>\n",
       "      <th>3</th>\n",
       "      <td>0</td>\n",
       "      <td>635</td>\n",
       "      <td>2</td>\n",
       "      <td>0</td>\n",
       "      <td>3</td>\n",
       "      <td>0</td>\n",
       "      <td>0</td>\n",
       "      <td>1</td>\n",
       "    </tr>\n",
       "    <tr>\n",
       "      <th>4</th>\n",
       "      <td>1</td>\n",
       "      <td>810</td>\n",
       "      <td>4</td>\n",
       "      <td>0</td>\n",
       "      <td>4</td>\n",
       "      <td>0</td>\n",
       "      <td>0</td>\n",
       "      <td>1</td>\n",
       "    </tr>\n",
       "  </tbody>\n",
       "</table>\n",
       "</div>"
      ],
      "text/plain": [
       "   subscribedYN   sec  sessions_completed  series_completed  experience  \\\n",
       "0             1   225                   1                 0           2   \n",
       "1             0  1795                   1                 0           3   \n",
       "2             1  3750                   9                 2           4   \n",
       "3             0   635                   2                 0           3   \n",
       "4             1   810                   4                 0           4   \n",
       "\n",
       "   focus_n  gender_n  dob_given  \n",
       "0        0         1          1  \n",
       "1        1         0          1  \n",
       "2        0         0          1  \n",
       "3        0         0          1  \n",
       "4        0         0          1  "
      ]
     },
     "execution_count": 101,
     "metadata": {},
     "output_type": "execute_result"
    }
   ],
   "source": [
    "df.head()"
   ]
  },
  {
   "cell_type": "markdown",
   "metadata": {},
   "source": [
    "<h3><i>Plots and summary: </i></h3>"
   ]
  },
  {
   "cell_type": "code",
   "execution_count": 102,
   "metadata": {
    "collapsed": false
   },
   "outputs": [
    {
     "data": {
      "text/html": [
       "<div>\n",
       "<table border=\"1\" class=\"dataframe\">\n",
       "  <thead>\n",
       "    <tr style=\"text-align: right;\">\n",
       "      <th></th>\n",
       "      <th>subscribedYN</th>\n",
       "      <th>sec</th>\n",
       "      <th>sessions_completed</th>\n",
       "      <th>series_completed</th>\n",
       "      <th>experience</th>\n",
       "      <th>focus_n</th>\n",
       "      <th>gender_n</th>\n",
       "      <th>dob_given</th>\n",
       "    </tr>\n",
       "  </thead>\n",
       "  <tbody>\n",
       "    <tr>\n",
       "      <th>count</th>\n",
       "      <td>18730.000000</td>\n",
       "      <td>18730.000000</td>\n",
       "      <td>18730.000000</td>\n",
       "      <td>18730.000000</td>\n",
       "      <td>18730.000000</td>\n",
       "      <td>18730.000000</td>\n",
       "      <td>18730.000000</td>\n",
       "      <td>18730.000000</td>\n",
       "    </tr>\n",
       "    <tr>\n",
       "      <th>mean</th>\n",
       "      <td>0.058676</td>\n",
       "      <td>1187.645489</td>\n",
       "      <td>4.660812</td>\n",
       "      <td>0.094447</td>\n",
       "      <td>2.104004</td>\n",
       "      <td>0.102776</td>\n",
       "      <td>0.357501</td>\n",
       "      <td>0.372504</td>\n",
       "    </tr>\n",
       "    <tr>\n",
       "      <th>std</th>\n",
       "      <td>0.235023</td>\n",
       "      <td>2233.733290</td>\n",
       "      <td>6.087137</td>\n",
       "      <td>0.772198</td>\n",
       "      <td>0.919802</td>\n",
       "      <td>0.303675</td>\n",
       "      <td>0.479277</td>\n",
       "      <td>0.483484</td>\n",
       "    </tr>\n",
       "    <tr>\n",
       "      <th>min</th>\n",
       "      <td>0.000000</td>\n",
       "      <td>15.000000</td>\n",
       "      <td>1.000000</td>\n",
       "      <td>0.000000</td>\n",
       "      <td>1.000000</td>\n",
       "      <td>0.000000</td>\n",
       "      <td>0.000000</td>\n",
       "      <td>0.000000</td>\n",
       "    </tr>\n",
       "    <tr>\n",
       "      <th>25%</th>\n",
       "      <td>0.000000</td>\n",
       "      <td>130.000000</td>\n",
       "      <td>2.000000</td>\n",
       "      <td>0.000000</td>\n",
       "      <td>1.000000</td>\n",
       "      <td>0.000000</td>\n",
       "      <td>0.000000</td>\n",
       "      <td>0.000000</td>\n",
       "    </tr>\n",
       "    <tr>\n",
       "      <th>50%</th>\n",
       "      <td>0.000000</td>\n",
       "      <td>480.000000</td>\n",
       "      <td>3.000000</td>\n",
       "      <td>0.000000</td>\n",
       "      <td>2.000000</td>\n",
       "      <td>0.000000</td>\n",
       "      <td>0.000000</td>\n",
       "      <td>0.000000</td>\n",
       "    </tr>\n",
       "    <tr>\n",
       "      <th>75%</th>\n",
       "      <td>0.000000</td>\n",
       "      <td>1260.000000</td>\n",
       "      <td>5.000000</td>\n",
       "      <td>0.000000</td>\n",
       "      <td>3.000000</td>\n",
       "      <td>0.000000</td>\n",
       "      <td>1.000000</td>\n",
       "      <td>1.000000</td>\n",
       "    </tr>\n",
       "    <tr>\n",
       "      <th>max</th>\n",
       "      <td>1.000000</td>\n",
       "      <td>57985.000000</td>\n",
       "      <td>146.000000</td>\n",
       "      <td>35.000000</td>\n",
       "      <td>4.000000</td>\n",
       "      <td>1.000000</td>\n",
       "      <td>1.000000</td>\n",
       "      <td>1.000000</td>\n",
       "    </tr>\n",
       "  </tbody>\n",
       "</table>\n",
       "</div>"
      ],
      "text/plain": [
       "       subscribedYN           sec  sessions_completed  series_completed  \\\n",
       "count  18730.000000  18730.000000        18730.000000      18730.000000   \n",
       "mean       0.058676   1187.645489            4.660812          0.094447   \n",
       "std        0.235023   2233.733290            6.087137          0.772198   \n",
       "min        0.000000     15.000000            1.000000          0.000000   \n",
       "25%        0.000000    130.000000            2.000000          0.000000   \n",
       "50%        0.000000    480.000000            3.000000          0.000000   \n",
       "75%        0.000000   1260.000000            5.000000          0.000000   \n",
       "max        1.000000  57985.000000          146.000000         35.000000   \n",
       "\n",
       "         experience       focus_n      gender_n     dob_given  \n",
       "count  18730.000000  18730.000000  18730.000000  18730.000000  \n",
       "mean       2.104004      0.102776      0.357501      0.372504  \n",
       "std        0.919802      0.303675      0.479277      0.483484  \n",
       "min        1.000000      0.000000      0.000000      0.000000  \n",
       "25%        1.000000      0.000000      0.000000      0.000000  \n",
       "50%        2.000000      0.000000      0.000000      0.000000  \n",
       "75%        3.000000      0.000000      1.000000      1.000000  \n",
       "max        4.000000      1.000000      1.000000      1.000000  "
      ]
     },
     "execution_count": 102,
     "metadata": {},
     "output_type": "execute_result"
    }
   ],
   "source": [
    "df.describe()"
   ]
  },
  {
   "cell_type": "markdown",
   "metadata": {},
   "source": [
    "<h4><i>Boxplots:</i></h4> "
   ]
  },
  {
   "cell_type": "code",
   "execution_count": 103,
   "metadata": {
    "collapsed": false
   },
   "outputs": [
    {
     "data": {
      "text/plain": [
       "<matplotlib.axes._subplots.AxesSubplot at 0x12a153810>"
      ]
     },
     "execution_count": 103,
     "metadata": {},
     "output_type": "execute_result"
    },
    {
     "data": {
      "image/png": "[encoded data removed]",
      "text/plain": [
       "<matplotlib.figure.Figure at 0x12a147e10>"
      ]
     },
     "metadata": {},
     "output_type": "display_data"
    }
   ],
   "source": [
    "df.sec.plot(kind = 'box')"
   ]
  },
  {
   "cell_type": "code",
   "execution_count": 104,
   "metadata": {
    "collapsed": false
   },
   "outputs": [
    {
     "data": {
      "text/plain": [
       "<matplotlib.axes._subplots.AxesSubplot at 0x12c840710>"
      ]
     },
     "execution_count": 104,
     "metadata": {},
     "output_type": "execute_result"
    },
    {
     "data": {
      "image/png": "[encoded data removed]",
      "text/plain": [
       "<matplotlib.figure.Figure at 0x12a73f1d0>"
      ]
     },
     "metadata": {},
     "output_type": "display_data"
    }
   ],
   "source": [
    "df.sessions_completed.plot(kind = 'box')"
   ]
  },
  {
   "cell_type": "markdown",
   "metadata": {},
   "source": [
    "<i>Most of the users have very low activity.</i>"
   ]
  },
  {
   "cell_type": "code",
   "execution_count": 105,
   "metadata": {
    "collapsed": false
   },
   "outputs": [
    {
     "data": {
      "text/plain": [
       "<matplotlib.axes._subplots.AxesSubplot at 0x12c84f750>"
      ]
     },
     "execution_count": 105,
     "metadata": {},
     "output_type": "execute_result"
    },
    {
     "data": {
      "image/png": "[encoded data removed]",
      "text/plain": [
       "<matplotlib.figure.Figure at 0x12ca03190>"
      ]
     },
     "metadata": {},
     "output_type": "display_data"
    }
   ],
   "source": [
    "df.experience.plot(kind = 'box')"
   ]
  },
  {
   "cell_type": "markdown",
   "metadata": {},
   "source": [
    "<h4><i>Plotting the histograms:</i></h4>"
   ]
  },
  {
   "cell_type": "code",
   "execution_count": 108,
   "metadata": {
    "collapsed": false
   },
   "outputs": [
    {
     "data": {
      "text/plain": [
       "<matplotlib.axes._subplots.AxesSubplot at 0x12cc2e6d0>"
      ]
     },
     "execution_count": 108,
     "metadata": {},
     "output_type": "execute_result"
    },
    {
     "data": {
      "image/png": "[encoded data removed]",
      "text/plain": [
       "<matplotlib.figure.Figure at 0x12c89ca50>"
      ]
     },
     "metadata": {},
     "output_type": "display_data"
    }
   ],
   "source": [
    "df.subscribedYN.plot(kind = 'hist', color='#55bd88', range = (0, 1), bins = 2)"
   ]
  },
  {
   "cell_type": "code",
   "execution_count": 109,
   "metadata": {
    "collapsed": false
   },
   "outputs": [
    {
     "data": {
      "text/plain": [
       "<matplotlib.axes._subplots.AxesSubplot at 0x12cc8db10>"
      ]
     },
     "execution_count": 109,
     "metadata": {},
     "output_type": "execute_result"
    },
    {
     "data": {
      "image/png": "[encoded data removed]",
      "text/plain": [
       "<matplotlib.figure.Figure at 0x12cc9f450>"
      ]
     },
     "metadata": {},
     "output_type": "display_data"
    }
   ],
   "source": [
    "df.experience.plot(kind = 'hist', color='#55bd88')"
   ]
  },
  {
   "cell_type": "code",
   "execution_count": 110,
   "metadata": {
    "collapsed": false
   },
   "outputs": [
    {
     "data": {
      "text/plain": [
       "<matplotlib.axes._subplots.AxesSubplot at 0x12cdf2d50>"
      ]
     },
     "execution_count": 110,
     "metadata": {},
     "output_type": "execute_result"
    },
    {
     "data": {
      "image/png": "[encoded data removed]",
      "text/plain": [
       "<matplotlib.figure.Figure at 0x12cdf2cd0>"
      ]
     },
     "metadata": {},
     "output_type": "display_data"
    }
   ],
   "source": [
    "df.sec.plot(kind = 'hist', color='#55bd88')"
   ]
  },
  {
   "cell_type": "code",
   "execution_count": 111,
   "metadata": {
    "collapsed": false
   },
   "outputs": [
    {
     "data": {
      "text/plain": [
       "<matplotlib.axes._subplots.AxesSubplot at 0x12cc657d0>"
      ]
     },
     "execution_count": 111,
     "metadata": {},
     "output_type": "execute_result"
    },
    {
     "data": {
      "image/png": "[encoded data removed]",
      "text/plain": [
       "<matplotlib.figure.Figure at 0x12cdc90d0>"
      ]
     },
     "metadata": {},
     "output_type": "display_data"
    }
   ],
   "source": [
    "df.gender_n.plot(kind = 'hist', color='#55bd88')"
   ]
  },
  {
   "cell_type": "code",
   "execution_count": 112,
   "metadata": {
    "collapsed": false
   },
   "outputs": [
    {
     "data": {
      "text/plain": [
       "<matplotlib.axes._subplots.AxesSubplot at 0x12d0641d0>"
      ]
     },
     "execution_count": 112,
     "metadata": {},
     "output_type": "execute_result"
    },
    {
     "data": {
      "image/png": "[encoded data removed]",
      "text/plain": [
       "<matplotlib.figure.Figure at 0x12ca8cdd0>"
      ]
     },
     "metadata": {},
     "output_type": "display_data"
    }
   ],
   "source": [
    "df.focus_n.plot(kind = 'hist', color='#55bd88')"
   ]
  },
  {
   "cell_type": "code",
   "execution_count": 113,
   "metadata": {
    "collapsed": false
   },
   "outputs": [
    {
     "data": {
      "text/plain": [
       "<matplotlib.axes._subplots.AxesSubplot at 0x12d024510>"
      ]
     },
     "execution_count": 113,
     "metadata": {},
     "output_type": "execute_result"
    },
    {
     "data": {
      "image/png": "[encoded data removed]",
      "text/plain": [
       "<matplotlib.figure.Figure at 0x12d00f350>"
      ]
     },
     "metadata": {},
     "output_type": "display_data"
    }
   ],
   "source": [
    "df.sessions_completed.plot(kind = 'hist', color='#55bd88')"
   ]
  },
  {
   "cell_type": "markdown",
   "metadata": {},
   "source": [
    "<h4><i>Scatter matrix:</i></h4>"
   ]
  },
  {
   "cell_type": "code",
   "execution_count": 114,
   "metadata": {
    "collapsed": false
   },
   "outputs": [],
   "source": [
    "color = df.experience.map({4: 'red', 3: 'red', 2: 'green', 1: 'blue'})"
   ]
  },
  {
   "cell_type": "code",
   "execution_count": 115,
   "metadata": {
    "collapsed": false
   },
   "outputs": [
    {
     "data": {
      "text/plain": [
       "array([[<matplotlib.axes._subplots.AxesSubplot object at 0x12d595610>,\n",
       "        <matplotlib.axes._subplots.AxesSubplot object at 0x12d546050>,\n",
       "        <matplotlib.axes._subplots.AxesSubplot object at 0x1223adf90>,\n",
       "        <matplotlib.axes._subplots.AxesSubplot object at 0x12d6936d0>,\n",
       "        <matplotlib.axes._subplots.AxesSubplot object at 0x12d712650>,\n",
       "        <matplotlib.axes._subplots.AxesSubplot object at 0x12d77c450>,\n",
       "        <matplotlib.axes._subplots.AxesSubplot object at 0x12da0f650>,\n",
       "        <matplotlib.axes._subplots.AxesSubplot object at 0x12da905d0>],\n",
       "       [<matplotlib.axes._subplots.AxesSubplot object at 0x12db01250>,\n",
       "        <matplotlib.axes._subplots.AxesSubplot object at 0x12db811d0>,\n",
       "        <matplotlib.axes._subplots.AxesSubplot object at 0x12dbe5310>,\n",
       "        <matplotlib.axes._subplots.AxesSubplot object at 0x12dc68390>,\n",
       "        <matplotlib.axes._subplots.AxesSubplot object at 0x12dca0550>,\n",
       "        <matplotlib.axes._subplots.AxesSubplot object at 0x12dd56410>,\n",
       "        <matplotlib.axes._subplots.AxesSubplot object at 0x12ddda390>,\n",
       "        <matplotlib.axes._subplots.AxesSubplot object at 0x12df3d5d0>],\n",
       "       [<matplotlib.axes._subplots.AxesSubplot object at 0x12dfbd550>,\n",
       "        <matplotlib.axes._subplots.AxesSubplot object at 0x12e827350>,\n",
       "        <matplotlib.axes._subplots.AxesSubplot object at 0x12e8ae550>,\n",
       "        <matplotlib.axes._subplots.AxesSubplot object at 0x12e92f4d0>,\n",
       "        <matplotlib.axes._subplots.AxesSubplot object at 0x12e992f50>,\n",
       "        <matplotlib.axes._subplots.AxesSubplot object at 0x12eb14ed0>,\n",
       "        <matplotlib.axes._subplots.AxesSubplot object at 0x12eb86050>,\n",
       "        <matplotlib.axes._subplots.AxesSubplot object at 0x12ebfbf90>],\n",
       "       [<matplotlib.axes._subplots.AxesSubplot object at 0x12ec33ed0>,\n",
       "        <matplotlib.axes._subplots.AxesSubplot object at 0x12ecdd2d0>,\n",
       "        <matplotlib.axes._subplots.AxesSubplot object at 0x12ed61250>,\n",
       "        <matplotlib.axes._subplots.AxesSubplot object at 0x12edc3390>,\n",
       "        <matplotlib.axes._subplots.AxesSubplot object at 0x12ef46310>,\n",
       "        <matplotlib.axes._subplots.AxesSubplot object at 0x12ef7e250>,\n",
       "        <matplotlib.axes._subplots.AxesSubplot object at 0x12f136310>,\n",
       "        <matplotlib.axes._subplots.AxesSubplot object at 0x12f1b9290>],\n",
       "       [<matplotlib.axes._subplots.AxesSubplot object at 0x12f21c650>,\n",
       "        <matplotlib.axes._subplots.AxesSubplot object at 0x12f29d5d0>,\n",
       "        <matplotlib.axes._subplots.AxesSubplot object at 0x12f3053d0>,\n",
       "        <matplotlib.axes._subplots.AxesSubplot object at 0x12f38d510>,\n",
       "        <matplotlib.axes._subplots.AxesSubplot object at 0x12f40f490>,\n",
       "        <matplotlib.axes._subplots.AxesSubplot object at 0x12f47f0d0>,\n",
       "        <matplotlib.axes._subplots.AxesSubplot object at 0x12f500050>,\n",
       "        <matplotlib.axes._subplots.AxesSubplot object at 0x12f565190>],\n",
       "       [<matplotlib.axes._subplots.AxesSubplot object at 0x12f5e6210>,\n",
       "        <matplotlib.axes._subplots.AxesSubplot object at 0x12f71d2d0>,\n",
       "        <matplotlib.axes._subplots.AxesSubplot object at 0x12f7d61d0>,\n",
       "        <matplotlib.axes._subplots.AxesSubplot object at 0x12f959150>,\n",
       "        <matplotlib.axes._subplots.AxesSubplot object at 0x12f9bc450>,\n",
       "        <matplotlib.axes._subplots.AxesSubplot object at 0x12fa3e3d0>,\n",
       "        <matplotlib.axes._subplots.AxesSubplot object at 0x12faa41d0>,\n",
       "        <matplotlib.axes._subplots.AxesSubplot object at 0x12fb2c3d0>],\n",
       "       [<matplotlib.axes._subplots.AxesSubplot object at 0x12fbb0350>,\n",
       "        <matplotlib.axes._subplots.AxesSubplot object at 0x12fc11dd0>,\n",
       "        <matplotlib.axes._subplots.AxesSubplot object at 0x12fc93d50>,\n",
       "        <matplotlib.axes._subplots.AxesSubplot object at 0x12fcf6e90>,\n",
       "        <matplotlib.axes._subplots.AxesSubplot object at 0x12fe79e10>,\n",
       "        <matplotlib.axes._subplots.AxesSubplot object at 0x12feb2d50>,\n",
       "        <matplotlib.axes._subplots.AxesSubplot object at 0x12ff69e10>,\n",
       "        <matplotlib.axes._subplots.AxesSubplot object at 0x12ffecd90>],\n",
       "       [<matplotlib.axes._subplots.AxesSubplot object at 0x13005e190>,\n",
       "        <matplotlib.axes._subplots.AxesSubplot object at 0x1300de110>,\n",
       "        <matplotlib.axes._subplots.AxesSubplot object at 0x130339ed0>,\n",
       "        <matplotlib.axes._subplots.AxesSubplot object at 0x1303d1050>,\n",
       "        <matplotlib.axes._subplots.AxesSubplot object at 0x130544f90>,\n",
       "        <matplotlib.axes._subplots.AxesSubplot object at 0x1305b3bd0>,\n",
       "        <matplotlib.axes._subplots.AxesSubplot object at 0x130637b50>,\n",
       "        <matplotlib.axes._subplots.AxesSubplot object at 0x13069ac90>]], dtype=object)"
      ]
     },
     "execution_count": 115,
     "metadata": {},
     "output_type": "execute_result"
    },
    {
     "data": {
      "image/png": "[encoded data removed]",
      "text/plain": [
       "<matplotlib.figure.Figure at 0x12d5a9310>"
      ]
     },
     "metadata": {},
     "output_type": "display_data"
    }
   ],
   "source": [
    "pd.tools.plotting.scatter_matrix(df, c = color, figsize=(12, 12))"
   ]
  },
  {
   "cell_type": "markdown",
   "metadata": {},
   "source": [
    "<h3><i>Let's check data disctribution:</i></h3>"
   ]
  },
  {
   "cell_type": "code",
   "execution_count": 116,
   "metadata": {
    "collapsed": false
   },
   "outputs": [
    {
     "data": {
      "image/png": "[encoded data removed]",
      "text/plain": [
       "<matplotlib.figure.Figure at 0x12d5ba610>"
      ]
     },
     "execution_count": 116,
     "metadata": {},
     "output_type": "execute_result"
    },
    {
     "data": {
      "image/png": "[encoded data removed]",
      "text/plain": [
       "<matplotlib.figure.Figure at 0x12d5ba610>"
      ]
     },
     "metadata": {},
     "output_type": "display_data"
    }
   ],
   "source": [
    "sm.qqplot(df.sec, line = 's')"
   ]
  },
  {
   "cell_type": "code",
   "execution_count": 117,
   "metadata": {
    "collapsed": false
   },
   "outputs": [
    {
     "data": {
      "image/png": "[encoded data removed]",
      "text/plain": [
       "<matplotlib.figure.Figure at 0x135c9e510>"
      ]
     },
     "execution_count": 117,
     "metadata": {},
     "output_type": "execute_result"
    },
    {
     "data": {
      "image/png": "[encoded data removed]",
      "text/plain": [
       "<matplotlib.figure.Figure at 0x135c9e510>"
      ]
     },
     "metadata": {},
     "output_type": "display_data"
    }
   ],
   "source": [
    "sm.qqplot(df.sessions_completed, line = 's')"
   ]
  },
  {
   "cell_type": "code",
   "execution_count": 118,
   "metadata": {
    "collapsed": false
   },
   "outputs": [
    {
     "data": {
      "image/png": "[encoded data removed]",
      "text/plain": [
       "<matplotlib.figure.Figure at 0x136460b90>"
      ]
     },
     "execution_count": 118,
     "metadata": {},
     "output_type": "execute_result"
    },
    {
     "data": {
      "image/png": "[encoded data removed]",
      "text/plain": [
       "<matplotlib.figure.Figure at 0x136460b90>"
      ]
     },
     "metadata": {},
     "output_type": "display_data"
    }
   ],
   "source": [
    "sm.qqplot(df.series_completed, line = 's')"
   ]
  },
  {
   "cell_type": "markdown",
   "metadata": {},
   "source": [
    "<i>The data is not distributed normally, this is closer to exponential distribution. Most likely this is a result of the large amount of low values and some outliers with extremely high points.</i>"
   ]
  },
  {
   "cell_type": "markdown",
   "metadata": {},
   "source": [
    "<h3><i>Summary</i></h3>"
   ]
  },
  {
   "cell_type": "code",
   "execution_count": 119,
   "metadata": {
    "collapsed": false
   },
   "outputs": [
    {
     "data": {
      "text/html": [
       "<div>\n",
       "<table border=\"1\" class=\"dataframe\">\n",
       "  <thead>\n",
       "    <tr style=\"text-align: right;\">\n",
       "      <th></th>\n",
       "      <th>subscribedYN</th>\n",
       "      <th>sec</th>\n",
       "      <th>sessions_completed</th>\n",
       "      <th>series_completed</th>\n",
       "      <th>experience</th>\n",
       "      <th>focus_n</th>\n",
       "      <th>gender_n</th>\n",
       "      <th>dob_given</th>\n",
       "    </tr>\n",
       "  </thead>\n",
       "  <tbody>\n",
       "    <tr>\n",
       "      <th>subscribedYN</th>\n",
       "      <td>1.000000</td>\n",
       "      <td>0.459421</td>\n",
       "      <td>0.358653</td>\n",
       "      <td>0.192762</td>\n",
       "      <td>0.226416</td>\n",
       "      <td>0.050908</td>\n",
       "      <td>-0.018436</td>\n",
       "      <td>0.049628</td>\n",
       "    </tr>\n",
       "    <tr>\n",
       "      <th>sec</th>\n",
       "      <td>0.459421</td>\n",
       "      <td>1.000000</td>\n",
       "      <td>0.815377</td>\n",
       "      <td>0.485237</td>\n",
       "      <td>0.143535</td>\n",
       "      <td>0.016027</td>\n",
       "      <td>0.003248</td>\n",
       "      <td>0.039449</td>\n",
       "    </tr>\n",
       "    <tr>\n",
       "      <th>sessions_completed</th>\n",
       "      <td>0.358653</td>\n",
       "      <td>0.815377</td>\n",
       "      <td>1.000000</td>\n",
       "      <td>0.552268</td>\n",
       "      <td>0.097124</td>\n",
       "      <td>-0.038563</td>\n",
       "      <td>0.018690</td>\n",
       "      <td>-0.078401</td>\n",
       "    </tr>\n",
       "    <tr>\n",
       "      <th>series_completed</th>\n",
       "      <td>0.192762</td>\n",
       "      <td>0.485237</td>\n",
       "      <td>0.552268</td>\n",
       "      <td>1.000000</td>\n",
       "      <td>0.039392</td>\n",
       "      <td>0.001637</td>\n",
       "      <td>-0.003956</td>\n",
       "      <td>-0.011435</td>\n",
       "    </tr>\n",
       "    <tr>\n",
       "      <th>experience</th>\n",
       "      <td>0.226416</td>\n",
       "      <td>0.143535</td>\n",
       "      <td>0.097124</td>\n",
       "      <td>0.039392</td>\n",
       "      <td>1.000000</td>\n",
       "      <td>0.152501</td>\n",
       "      <td>-0.016522</td>\n",
       "      <td>0.020334</td>\n",
       "    </tr>\n",
       "    <tr>\n",
       "      <th>focus_n</th>\n",
       "      <td>0.050908</td>\n",
       "      <td>0.016027</td>\n",
       "      <td>-0.038563</td>\n",
       "      <td>0.001637</td>\n",
       "      <td>0.152501</td>\n",
       "      <td>1.000000</td>\n",
       "      <td>0.000664</td>\n",
       "      <td>-0.047665</td>\n",
       "    </tr>\n",
       "    <tr>\n",
       "      <th>gender_n</th>\n",
       "      <td>-0.018436</td>\n",
       "      <td>0.003248</td>\n",
       "      <td>0.018690</td>\n",
       "      <td>-0.003956</td>\n",
       "      <td>-0.016522</td>\n",
       "      <td>0.000664</td>\n",
       "      <td>1.000000</td>\n",
       "      <td>-0.055366</td>\n",
       "    </tr>\n",
       "    <tr>\n",
       "      <th>dob_given</th>\n",
       "      <td>0.049628</td>\n",
       "      <td>0.039449</td>\n",
       "      <td>-0.078401</td>\n",
       "      <td>-0.011435</td>\n",
       "      <td>0.020334</td>\n",
       "      <td>-0.047665</td>\n",
       "      <td>-0.055366</td>\n",
       "      <td>1.000000</td>\n",
       "    </tr>\n",
       "  </tbody>\n",
       "</table>\n",
       "</div>"
      ],
      "text/plain": [
       "                    subscribedYN       sec  sessions_completed  \\\n",
       "subscribedYN            1.000000  0.459421            0.358653   \n",
       "sec                     0.459421  1.000000            0.815377   \n",
       "sessions_completed      0.358653  0.815377            1.000000   \n",
       "series_completed        0.192762  0.485237            0.552268   \n",
       "experience              0.226416  0.143535            0.097124   \n",
       "focus_n                 0.050908  0.016027           -0.038563   \n",
       "gender_n               -0.018436  0.003248            0.018690   \n",
       "dob_given               0.049628  0.039449           -0.078401   \n",
       "\n",
       "                    series_completed  experience   focus_n  gender_n  \\\n",
       "subscribedYN                0.192762    0.226416  0.050908 -0.018436   \n",
       "sec                         0.485237    0.143535  0.016027  0.003248   \n",
       "sessions_completed          0.552268    0.097124 -0.038563  0.018690   \n",
       "series_completed            1.000000    0.039392  0.001637 -0.003956   \n",
       "experience                  0.039392    1.000000  0.152501 -0.016522   \n",
       "focus_n                     0.001637    0.152501  1.000000  0.000664   \n",
       "gender_n                   -0.003956   -0.016522  0.000664  1.000000   \n",
       "dob_given                  -0.011435    0.020334 -0.047665 -0.055366   \n",
       "\n",
       "                    dob_given  \n",
       "subscribedYN         0.049628  \n",
       "sec                  0.039449  \n",
       "sessions_completed  -0.078401  \n",
       "series_completed    -0.011435  \n",
       "experience           0.020334  \n",
       "focus_n             -0.047665  \n",
       "gender_n            -0.055366  \n",
       "dob_given            1.000000  "
      ]
     },
     "execution_count": 119,
     "metadata": {},
     "output_type": "execute_result"
    }
   ],
   "source": [
    "df.corr()"
   ]
  },
  {
   "cell_type": "markdown",
   "metadata": {},
   "source": [
    "<i>Amount of seconds user spent watching content and sessions_completed are probably colinear. This makes sence, the more sessions a user watches, more time he/she spends watching content.</i>"
   ]
  },
  {
   "cell_type": "markdown",
   "metadata": {},
   "source": [
    "<i>From the correlation table, subscribtion depends on amount of time(sec) that user spends watching content within trial period. I will use this feature for building a model. \n",
    "Also, my hypothesis is still the same: the more experienced users are more likely to subscribe.</i>"
   ]
  },
  {
   "cell_type": "code",
   "execution_count": 120,
   "metadata": {
    "collapsed": true
   },
   "outputs": [],
   "source": [
    "df.to_csv(os.path.join('..', 'Dataset', 'whiluserdata.csv'), index_label = 'ID')"
   ]
  },
  {
   "cell_type": "code",
   "execution_count": 121,
   "metadata": {
    "collapsed": false
   },
   "outputs": [
    {
     "data": {
      "text/html": [
       "<div>\n",
       "<table border=\"1\" class=\"dataframe\">\n",
       "  <thead>\n",
       "    <tr style=\"text-align: right;\">\n",
       "      <th></th>\n",
       "      <th>subscribedYN</th>\n",
       "      <th>sec</th>\n",
       "      <th>sessions_completed</th>\n",
       "      <th>series_completed</th>\n",
       "      <th>experience</th>\n",
       "      <th>focus_n</th>\n",
       "      <th>gender_n</th>\n",
       "      <th>dob_given</th>\n",
       "    </tr>\n",
       "  </thead>\n",
       "  <tbody>\n",
       "    <tr>\n",
       "      <th>0</th>\n",
       "      <td>1</td>\n",
       "      <td>225</td>\n",
       "      <td>1</td>\n",
       "      <td>0</td>\n",
       "      <td>2</td>\n",
       "      <td>0</td>\n",
       "      <td>1</td>\n",
       "      <td>1</td>\n",
       "    </tr>\n",
       "    <tr>\n",
       "      <th>1</th>\n",
       "      <td>0</td>\n",
       "      <td>1795</td>\n",
       "      <td>1</td>\n",
       "      <td>0</td>\n",
       "      <td>3</td>\n",
       "      <td>1</td>\n",
       "      <td>0</td>\n",
       "      <td>1</td>\n",
       "    </tr>\n",
       "    <tr>\n",
       "      <th>2</th>\n",
       "      <td>1</td>\n",
       "      <td>3750</td>\n",
       "      <td>9</td>\n",
       "      <td>2</td>\n",
       "      <td>4</td>\n",
       "      <td>0</td>\n",
       "      <td>0</td>\n",
       "      <td>1</td>\n",
       "    </tr>\n",
       "    <tr>\n",
       "      <th>3</th>\n",
       "      <td>0</td>\n",
       "      <td>635</td>\n",
       "      <td>2</td>\n",
       "      <td>0</td>\n",
       "      <td>3</td>\n",
       "      <td>0</td>\n",
       "      <td>0</td>\n",
       "      <td>1</td>\n",
       "    </tr>\n",
       "    <tr>\n",
       "      <th>4</th>\n",
       "      <td>1</td>\n",
       "      <td>810</td>\n",
       "      <td>4</td>\n",
       "      <td>0</td>\n",
       "      <td>4</td>\n",
       "      <td>0</td>\n",
       "      <td>0</td>\n",
       "      <td>1</td>\n",
       "    </tr>\n",
       "  </tbody>\n",
       "</table>\n",
       "</div>"
      ],
      "text/plain": [
       "   subscribedYN   sec  sessions_completed  series_completed  experience  \\\n",
       "0             1   225                   1                 0           2   \n",
       "1             0  1795                   1                 0           3   \n",
       "2             1  3750                   9                 2           4   \n",
       "3             0   635                   2                 0           3   \n",
       "4             1   810                   4                 0           4   \n",
       "\n",
       "   focus_n  gender_n  dob_given  \n",
       "0        0         1          1  \n",
       "1        1         0          1  \n",
       "2        0         0          1  \n",
       "3        0         0          1  \n",
       "4        0         0          1  "
      ]
     },
     "execution_count": 121,
     "metadata": {},
     "output_type": "execute_result"
    }
   ],
   "source": [
    "df.head()"
   ]
  },
  {
   "cell_type": "markdown",
   "metadata": {},
   "source": [
    "<h3><i>At last. Maybe drop outliers? Let's try...</i></h3>"
   ]
  },
  {
   "cell_type": "code",
   "execution_count": 75,
   "metadata": {
    "collapsed": true
   },
   "outputs": [],
   "source": [
    "df_new = df"
   ]
  },
  {
   "cell_type": "code",
   "execution_count": 76,
   "metadata": {
    "collapsed": false
   },
   "outputs": [
    {
     "name": "stdout",
     "output_type": "stream",
     "text": [
      "Dropping outliers\n",
      "- n (before) = 18730\n",
      "- Q1         = 130.0 sec\n",
      "- Q2/Median  = 480.0 sec\n",
      "- Q3         = 1260.0 sec\n",
      "- n (after)  = 16808\n"
     ]
    }
   ],
   "source": [
    "def drop_outliers(df):\n",
    "    print 'Dropping outliers'\n",
    "    print '- n (before) =', df.shape[0]\n",
    "\n",
    "    Q1 = df.sec.quantile(.25)\n",
    "    Q2 = df.sec.quantile(.5)\n",
    "    Q3 = df.sec.quantile(.75)\n",
    "    IQR = Q3 - Q1\n",
    "\n",
    "    print '- Q1         =', Q1, 'sec'\n",
    "    print '- Q2/Median  =', Q2, 'sec'\n",
    "    print '- Q3         =', Q3, 'sec'\n",
    "\n",
    "    df.drop(df[(df.sec < Q1 - 1.5 * IQR) | (df.sec > Q3 + 1.5 * IQR)].index, inplace = True)\n",
    "\n",
    "    print '- n (after)  =', df.shape[0]\n",
    "\n",
    "drop_outliers(df_new)"
   ]
  },
  {
   "cell_type": "code",
   "execution_count": 77,
   "metadata": {
    "collapsed": false
   },
   "outputs": [
    {
     "data": {
      "text/plain": [
       "(16808, 7)"
      ]
     },
     "execution_count": 77,
     "metadata": {},
     "output_type": "execute_result"
    }
   ],
   "source": [
    "df_new.shape"
   ]
  },
  {
   "cell_type": "code",
   "execution_count": 78,
   "metadata": {
    "collapsed": false
   },
   "outputs": [
    {
     "data": {
      "text/plain": [
       "442"
      ]
     },
     "execution_count": 78,
     "metadata": {},
     "output_type": "execute_result"
    }
   ],
   "source": [
    "df_new.subscribedYN.sum()"
   ]
  },
  {
   "cell_type": "code",
   "execution_count": 79,
   "metadata": {
    "collapsed": false
   },
   "outputs": [
    {
     "data": {
      "text/plain": [
       "<matplotlib.axes._subplots.AxesSubplot at 0x129d50c10>"
      ]
     },
     "execution_count": 79,
     "metadata": {},
     "output_type": "execute_result"
    },
    {
     "data": {
      "image/png": "[encoded data removed]",
      "text/plain": [
       "<matplotlib.figure.Figure at 0x122e439d0>"
      ]
     },
     "metadata": {},
     "output_type": "display_data"
    }
   ],
   "source": [
    "df_new.sessions_completed.plot(kind = 'box')"
   ]
  },
  {
   "cell_type": "code",
   "execution_count": 80,
   "metadata": {
    "collapsed": false
   },
   "outputs": [
    {
     "data": {
      "text/plain": [
       "<matplotlib.axes._subplots.AxesSubplot at 0x12a19a690>"
      ]
     },
     "execution_count": 80,
     "metadata": {},
     "output_type": "execute_result"
    },
    {
     "data": {
      "image/png": "[encoded data removed]",
      "text/plain": [
       "<matplotlib.figure.Figure at 0x122eb8e50>"
      ]
     },
     "metadata": {},
     "output_type": "display_data"
    }
   ],
   "source": [
    "df_new.sec.plot(kind = 'box')"
   ]
  },
  {
   "cell_type": "markdown",
   "metadata": {},
   "source": [
    "<i>After dropping the outliers I will get 442 subscribed users out of 16808, which is about 2.63% instead of 5.87% I had originally. I'm not sure that is enough observations of subscribed users to build a good model, I will keep them for now and, if needed, I will drop the outliers later.</i>"
   ]
  }
 ],
 "metadata": {
  "anaconda-cloud": {},
  "kernelspec": {
   "display_name": "Python [Root]",
   "language": "python",
   "name": "Python [Root]"
  },
  "language_info": {
   "codemirror_mode": {
    "name": "ipython",
    "version": 2
   },
   "file_extension": ".py",
   "mimetype": "text/x-python",
   "name": "python",
   "nbconvert_exporter": "python",
   "pygments_lexer": "ipython2",
   "version": "2.7.12"
  }
 },
 "nbformat": 4,
 "nbformat_minor": 0
}
