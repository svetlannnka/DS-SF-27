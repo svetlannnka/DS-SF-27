{
 "cells": [
  {
   "cell_type": "code",
   "execution_count": 173,
   "metadata": {
    "collapsed": true
   },
   "outputs": [],
   "source": [
    "import os\n",
    "import pandas as pd\n",
    "import matplotlib.pyplot as plt\n",
    "import seaborn as sns\n",
    "import statsmodels.api as sm\n",
    "import numpy as np\n",
    "\n",
    "from sklearn import preprocessing, neighbors, grid_search, tree, ensemble, metrics, cross_validation, externals\n",
    "\n",
    "pd.set_option('display.max_rows', 10)\n",
    "pd.set_option('display.max_columns', 10)\n",
    "pd.set_option('display.notebook_repr_html', True)\n",
    "\n",
    "%matplotlib inline\n",
    "plt.style.use('ggplot')\n",
    "from sklearn import linear_model"
   ]
  },
  {
   "cell_type": "code",
   "execution_count": 143,
   "metadata": {
    "collapsed": false
   },
   "outputs": [
    {
     "data": {
      "text/html": [
       "<div>\n",
       "<table border=\"1\" class=\"dataframe\">\n",
       "  <thead>\n",
       "    <tr style=\"text-align: right;\">\n",
       "      <th></th>\n",
       "      <th>user_id</th>\n",
       "      <th>sum</th>\n",
       "      <th>sec</th>\n",
       "      <th>sessions_completed</th>\n",
       "      <th>gender</th>\n",
       "      <th>experience_level</th>\n",
       "      <th>estimate_birth_day</th>\n",
       "      <th>focus</th>\n",
       "      <th>start_date</th>\n",
       "    </tr>\n",
       "  </thead>\n",
       "  <tbody>\n",
       "    <tr>\n",
       "      <th>0</th>\n",
       "      <td>16</td>\n",
       "      <td>225000</td>\n",
       "      <td>225</td>\n",
       "      <td>1380</td>\n",
       "      <td>m</td>\n",
       "      <td>{\"mindfulness\":\"low\"}</td>\n",
       "      <td>1982-03-14 04:32:24.435+00</td>\n",
       "      <td>mindfulness</td>\n",
       "      <td>2015-04-09 20:50:12.418+00</td>\n",
       "    </tr>\n",
       "    <tr>\n",
       "      <th>1</th>\n",
       "      <td>41</td>\n",
       "      <td>1795000</td>\n",
       "      <td>1795</td>\n",
       "      <td>19562</td>\n",
       "      <td>f</td>\n",
       "      <td>{\"yoga\":\"medium\"}</td>\n",
       "      <td>1969-04-21 13:25:48.392+00</td>\n",
       "      <td>yoga</td>\n",
       "      <td>NaN</td>\n",
       "    </tr>\n",
       "    <tr>\n",
       "      <th>2</th>\n",
       "      <td>104</td>\n",
       "      <td>3750000</td>\n",
       "      <td>3750</td>\n",
       "      <td>45846</td>\n",
       "      <td>f</td>\n",
       "      <td>{\"mindfulness\":\"high\"}</td>\n",
       "      <td>1958-04-24 20:23:59.469+00</td>\n",
       "      <td>mindfulness</td>\n",
       "      <td>NaN</td>\n",
       "    </tr>\n",
       "    <tr>\n",
       "      <th>3</th>\n",
       "      <td>131</td>\n",
       "      <td>635000</td>\n",
       "      <td>635</td>\n",
       "      <td>1438</td>\n",
       "      <td>f</td>\n",
       "      <td>{\"mindfulness\":\"medium\"}</td>\n",
       "      <td>1968-04-27 23:50:42.827+00</td>\n",
       "      <td>mindfulness</td>\n",
       "      <td>NaN</td>\n",
       "    </tr>\n",
       "    <tr>\n",
       "      <th>4</th>\n",
       "      <td>155</td>\n",
       "      <td>810000</td>\n",
       "      <td>810</td>\n",
       "      <td>43444</td>\n",
       "      <td>f</td>\n",
       "      <td>{\"mindfulness\":\"high\"}</td>\n",
       "      <td>1963-04-25 20:15:37.788+00</td>\n",
       "      <td>mindfulness</td>\n",
       "      <td>NaN</td>\n",
       "    </tr>\n",
       "  </tbody>\n",
       "</table>\n",
       "</div>"
      ],
      "text/plain": [
       "   user_id      sum   sec  sessions_completed gender  \\\n",
       "0       16   225000   225                1380      m   \n",
       "1       41  1795000  1795               19562      f   \n",
       "2      104  3750000  3750               45846      f   \n",
       "3      131   635000   635                1438      f   \n",
       "4      155   810000   810               43444      f   \n",
       "\n",
       "           experience_level          estimate_birth_day        focus  \\\n",
       "0     {\"mindfulness\":\"low\"}  1982-03-14 04:32:24.435+00  mindfulness   \n",
       "1         {\"yoga\":\"medium\"}  1969-04-21 13:25:48.392+00         yoga   \n",
       "2    {\"mindfulness\":\"high\"}  1958-04-24 20:23:59.469+00  mindfulness   \n",
       "3  {\"mindfulness\":\"medium\"}  1968-04-27 23:50:42.827+00  mindfulness   \n",
       "4    {\"mindfulness\":\"high\"}  1963-04-25 20:15:37.788+00  mindfulness   \n",
       "\n",
       "                   start_date  \n",
       "0  2015-04-09 20:50:12.418+00  \n",
       "1                         NaN  \n",
       "2                         NaN  \n",
       "3                         NaN  \n",
       "4                         NaN  "
      ]
     },
     "execution_count": 143,
     "metadata": {},
     "output_type": "execute_result"
    }
   ],
   "source": [
    "df = pd.read_csv(os.path.join('..', 'Dataset', 'QueryRes.csv'))\n",
    "\n",
    "df.head()"
   ]
  },
  {
   "cell_type": "code",
   "execution_count": 144,
   "metadata": {
    "collapsed": false
   },
   "outputs": [],
   "source": [
    "def my_first_classifier(row):\n",
    "    if row.experience_level == '{\"mindfulness\":\"none\"}':\n",
    "        return 0\n",
    "    elif row.experience_level == '{\"yoga\":\"none\"}':\n",
    "        return 0\n",
    "    elif row.experience_level == '{\"mindfulness\":\"low\"}':\n",
    "        return 1\n",
    "    elif row.experience_level == '{\"yoga\":\"low\"}':\n",
    "        return 1\n",
    "    elif row.experience_level == '{\"mindfulness\":\"medium\"}':\n",
    "        return 2\n",
    "    elif row.experience_level == '{\"yoga\":\"medium\"}':\n",
    "        return 2\n",
    "    elif row.experience_level == '{\"mindfulness\":\"high\"}':\n",
    "        return 3\n",
    "    elif row.experience_level == '{\"yoga\":\"high\"}':\n",
    "        return 3\n",
    "    else:\n",
    "        return row.experience_level\n",
    "   \n",
    "experience = df.apply(my_first_classifier, axis = 1)\n",
    "\n",
    "cat=experience.rename(\"experience\")\n",
    "\n",
    "df=df.join(cat)\n",
    "    "
   ]
  },
  {
   "cell_type": "code",
   "execution_count": 145,
   "metadata": {
    "collapsed": false
   },
   "outputs": [
    {
     "data": {
      "text/html": [
       "<div>\n",
       "<table border=\"1\" class=\"dataframe\">\n",
       "  <thead>\n",
       "    <tr style=\"text-align: right;\">\n",
       "      <th></th>\n",
       "      <th>user_id</th>\n",
       "      <th>sum</th>\n",
       "      <th>sec</th>\n",
       "      <th>sessions_completed</th>\n",
       "      <th>gender</th>\n",
       "      <th>experience_level</th>\n",
       "      <th>estimate_birth_day</th>\n",
       "      <th>focus</th>\n",
       "      <th>start_date</th>\n",
       "      <th>experience</th>\n",
       "    </tr>\n",
       "  </thead>\n",
       "  <tbody>\n",
       "    <tr>\n",
       "      <th>0</th>\n",
       "      <td>16</td>\n",
       "      <td>225000</td>\n",
       "      <td>225</td>\n",
       "      <td>1380</td>\n",
       "      <td>m</td>\n",
       "      <td>{\"mindfulness\":\"low\"}</td>\n",
       "      <td>1982-03-14 04:32:24.435+00</td>\n",
       "      <td>mindfulness</td>\n",
       "      <td>2015-04-09 20:50:12.418+00</td>\n",
       "      <td>1</td>\n",
       "    </tr>\n",
       "    <tr>\n",
       "      <th>1</th>\n",
       "      <td>41</td>\n",
       "      <td>1795000</td>\n",
       "      <td>1795</td>\n",
       "      <td>19562</td>\n",
       "      <td>f</td>\n",
       "      <td>{\"yoga\":\"medium\"}</td>\n",
       "      <td>1969-04-21 13:25:48.392+00</td>\n",
       "      <td>yoga</td>\n",
       "      <td>NaN</td>\n",
       "      <td>2</td>\n",
       "    </tr>\n",
       "    <tr>\n",
       "      <th>2</th>\n",
       "      <td>104</td>\n",
       "      <td>3750000</td>\n",
       "      <td>3750</td>\n",
       "      <td>45846</td>\n",
       "      <td>f</td>\n",
       "      <td>{\"mindfulness\":\"high\"}</td>\n",
       "      <td>1958-04-24 20:23:59.469+00</td>\n",
       "      <td>mindfulness</td>\n",
       "      <td>NaN</td>\n",
       "      <td>3</td>\n",
       "    </tr>\n",
       "    <tr>\n",
       "      <th>3</th>\n",
       "      <td>131</td>\n",
       "      <td>635000</td>\n",
       "      <td>635</td>\n",
       "      <td>1438</td>\n",
       "      <td>f</td>\n",
       "      <td>{\"mindfulness\":\"medium\"}</td>\n",
       "      <td>1968-04-27 23:50:42.827+00</td>\n",
       "      <td>mindfulness</td>\n",
       "      <td>NaN</td>\n",
       "      <td>2</td>\n",
       "    </tr>\n",
       "    <tr>\n",
       "      <th>4</th>\n",
       "      <td>155</td>\n",
       "      <td>810000</td>\n",
       "      <td>810</td>\n",
       "      <td>43444</td>\n",
       "      <td>f</td>\n",
       "      <td>{\"mindfulness\":\"high\"}</td>\n",
       "      <td>1963-04-25 20:15:37.788+00</td>\n",
       "      <td>mindfulness</td>\n",
       "      <td>NaN</td>\n",
       "      <td>3</td>\n",
       "    </tr>\n",
       "  </tbody>\n",
       "</table>\n",
       "</div>"
      ],
      "text/plain": [
       "   user_id      sum   sec  sessions_completed gender  \\\n",
       "0       16   225000   225                1380      m   \n",
       "1       41  1795000  1795               19562      f   \n",
       "2      104  3750000  3750               45846      f   \n",
       "3      131   635000   635                1438      f   \n",
       "4      155   810000   810               43444      f   \n",
       "\n",
       "           experience_level          estimate_birth_day        focus  \\\n",
       "0     {\"mindfulness\":\"low\"}  1982-03-14 04:32:24.435+00  mindfulness   \n",
       "1         {\"yoga\":\"medium\"}  1969-04-21 13:25:48.392+00         yoga   \n",
       "2    {\"mindfulness\":\"high\"}  1958-04-24 20:23:59.469+00  mindfulness   \n",
       "3  {\"mindfulness\":\"medium\"}  1968-04-27 23:50:42.827+00  mindfulness   \n",
       "4    {\"mindfulness\":\"high\"}  1963-04-25 20:15:37.788+00  mindfulness   \n",
       "\n",
       "                   start_date  experience  \n",
       "0  2015-04-09 20:50:12.418+00           1  \n",
       "1                         NaN           2  \n",
       "2                         NaN           3  \n",
       "3                         NaN           2  \n",
       "4                         NaN           3  "
      ]
     },
     "execution_count": 145,
     "metadata": {},
     "output_type": "execute_result"
    }
   ],
   "source": [
    "df.head()"
   ]
  },
  {
   "cell_type": "code",
   "execution_count": 146,
   "metadata": {
    "collapsed": false
   },
   "outputs": [
    {
     "data": {
      "text/plain": [
       "array([1, 2, 3, 0])"
      ]
     },
     "execution_count": 146,
     "metadata": {},
     "output_type": "execute_result"
    }
   ],
   "source": [
    "df.experience.unique()"
   ]
  },
  {
   "cell_type": "code",
   "execution_count": 147,
   "metadata": {
    "collapsed": false
   },
   "outputs": [],
   "source": [
    "def start_date(row):\n",
    "    if row.start_date > 0:\n",
    "        return 1\n",
    "    else:\n",
    "        return 0\n",
    "    \n",
    "paid = df.apply(start_date, axis = 1)\n",
    "\n",
    "cat=paid.rename(\"paid\")\n",
    "\n",
    "df=df.join(cat)"
   ]
  },
  {
   "cell_type": "code",
   "execution_count": 148,
   "metadata": {
    "collapsed": false
   },
   "outputs": [
    {
     "data": {
      "text/plain": [
       "array([1, 0])"
      ]
     },
     "execution_count": 148,
     "metadata": {},
     "output_type": "execute_result"
    }
   ],
   "source": [
    "df.paid.unique()"
   ]
  },
  {
   "cell_type": "code",
   "execution_count": 149,
   "metadata": {
    "collapsed": false
   },
   "outputs": [],
   "source": [
    "df.drop(['experience_level','start_date'], axis = 1, inplace = True)"
   ]
  },
  {
   "cell_type": "code",
   "execution_count": 150,
   "metadata": {
    "collapsed": false
   },
   "outputs": [
    {
     "data": {
      "text/html": [
       "<div>\n",
       "<table border=\"1\" class=\"dataframe\">\n",
       "  <thead>\n",
       "    <tr style=\"text-align: right;\">\n",
       "      <th></th>\n",
       "      <th>user_id</th>\n",
       "      <th>sum</th>\n",
       "      <th>sec</th>\n",
       "      <th>sessions_completed</th>\n",
       "      <th>gender</th>\n",
       "      <th>estimate_birth_day</th>\n",
       "      <th>focus</th>\n",
       "      <th>experience</th>\n",
       "      <th>paid</th>\n",
       "    </tr>\n",
       "  </thead>\n",
       "  <tbody>\n",
       "    <tr>\n",
       "      <th>0</th>\n",
       "      <td>16</td>\n",
       "      <td>225000</td>\n",
       "      <td>225</td>\n",
       "      <td>1380</td>\n",
       "      <td>m</td>\n",
       "      <td>1982-03-14 04:32:24.435+00</td>\n",
       "      <td>mindfulness</td>\n",
       "      <td>1</td>\n",
       "      <td>1</td>\n",
       "    </tr>\n",
       "    <tr>\n",
       "      <th>1</th>\n",
       "      <td>41</td>\n",
       "      <td>1795000</td>\n",
       "      <td>1795</td>\n",
       "      <td>19562</td>\n",
       "      <td>f</td>\n",
       "      <td>1969-04-21 13:25:48.392+00</td>\n",
       "      <td>yoga</td>\n",
       "      <td>2</td>\n",
       "      <td>0</td>\n",
       "    </tr>\n",
       "    <tr>\n",
       "      <th>2</th>\n",
       "      <td>104</td>\n",
       "      <td>3750000</td>\n",
       "      <td>3750</td>\n",
       "      <td>45846</td>\n",
       "      <td>f</td>\n",
       "      <td>1958-04-24 20:23:59.469+00</td>\n",
       "      <td>mindfulness</td>\n",
       "      <td>3</td>\n",
       "      <td>0</td>\n",
       "    </tr>\n",
       "    <tr>\n",
       "      <th>3</th>\n",
       "      <td>131</td>\n",
       "      <td>635000</td>\n",
       "      <td>635</td>\n",
       "      <td>1438</td>\n",
       "      <td>f</td>\n",
       "      <td>1968-04-27 23:50:42.827+00</td>\n",
       "      <td>mindfulness</td>\n",
       "      <td>2</td>\n",
       "      <td>0</td>\n",
       "    </tr>\n",
       "    <tr>\n",
       "      <th>4</th>\n",
       "      <td>155</td>\n",
       "      <td>810000</td>\n",
       "      <td>810</td>\n",
       "      <td>43444</td>\n",
       "      <td>f</td>\n",
       "      <td>1963-04-25 20:15:37.788+00</td>\n",
       "      <td>mindfulness</td>\n",
       "      <td>3</td>\n",
       "      <td>0</td>\n",
       "    </tr>\n",
       "  </tbody>\n",
       "</table>\n",
       "</div>"
      ],
      "text/plain": [
       "   user_id      sum   sec  sessions_completed gender  \\\n",
       "0       16   225000   225                1380      m   \n",
       "1       41  1795000  1795               19562      f   \n",
       "2      104  3750000  3750               45846      f   \n",
       "3      131   635000   635                1438      f   \n",
       "4      155   810000   810               43444      f   \n",
       "\n",
       "           estimate_birth_day        focus  experience  paid  \n",
       "0  1982-03-14 04:32:24.435+00  mindfulness           1     1  \n",
       "1  1969-04-21 13:25:48.392+00         yoga           2     0  \n",
       "2  1958-04-24 20:23:59.469+00  mindfulness           3     0  \n",
       "3  1968-04-27 23:50:42.827+00  mindfulness           2     0  \n",
       "4  1963-04-25 20:15:37.788+00  mindfulness           3     0  "
      ]
     },
     "execution_count": 150,
     "metadata": {},
     "output_type": "execute_result"
    }
   ],
   "source": [
    "df.head()"
   ]
  },
  {
   "cell_type": "code",
   "execution_count": 151,
   "metadata": {
    "collapsed": false
   },
   "outputs": [],
   "source": [
    "def focus_n(row):\n",
    "    if row.focus == 'yoga':\n",
    "        return 1\n",
    "    else:\n",
    "        return 0\n",
    "    \n",
    "focus_n = df.apply(focus_n, axis = 1)\n",
    "\n",
    "cat=focus_n.rename(\"focus_n\")\n",
    "\n",
    "df=df.join(cat)"
   ]
  },
  {
   "cell_type": "code",
   "execution_count": 152,
   "metadata": {
    "collapsed": false
   },
   "outputs": [
    {
     "data": {
      "text/html": [
       "<div>\n",
       "<table border=\"1\" class=\"dataframe\">\n",
       "  <thead>\n",
       "    <tr style=\"text-align: right;\">\n",
       "      <th></th>\n",
       "      <th>user_id</th>\n",
       "      <th>sum</th>\n",
       "      <th>sec</th>\n",
       "      <th>sessions_completed</th>\n",
       "      <th>gender</th>\n",
       "      <th>estimate_birth_day</th>\n",
       "      <th>focus</th>\n",
       "      <th>experience</th>\n",
       "      <th>paid</th>\n",
       "      <th>focus_n</th>\n",
       "    </tr>\n",
       "  </thead>\n",
       "  <tbody>\n",
       "    <tr>\n",
       "      <th>0</th>\n",
       "      <td>16</td>\n",
       "      <td>225000</td>\n",
       "      <td>225</td>\n",
       "      <td>1380</td>\n",
       "      <td>m</td>\n",
       "      <td>1982-03-14 04:32:24.435+00</td>\n",
       "      <td>mindfulness</td>\n",
       "      <td>1</td>\n",
       "      <td>1</td>\n",
       "      <td>0</td>\n",
       "    </tr>\n",
       "    <tr>\n",
       "      <th>1</th>\n",
       "      <td>41</td>\n",
       "      <td>1795000</td>\n",
       "      <td>1795</td>\n",
       "      <td>19562</td>\n",
       "      <td>f</td>\n",
       "      <td>1969-04-21 13:25:48.392+00</td>\n",
       "      <td>yoga</td>\n",
       "      <td>2</td>\n",
       "      <td>0</td>\n",
       "      <td>1</td>\n",
       "    </tr>\n",
       "    <tr>\n",
       "      <th>2</th>\n",
       "      <td>104</td>\n",
       "      <td>3750000</td>\n",
       "      <td>3750</td>\n",
       "      <td>45846</td>\n",
       "      <td>f</td>\n",
       "      <td>1958-04-24 20:23:59.469+00</td>\n",
       "      <td>mindfulness</td>\n",
       "      <td>3</td>\n",
       "      <td>0</td>\n",
       "      <td>0</td>\n",
       "    </tr>\n",
       "    <tr>\n",
       "      <th>3</th>\n",
       "      <td>131</td>\n",
       "      <td>635000</td>\n",
       "      <td>635</td>\n",
       "      <td>1438</td>\n",
       "      <td>f</td>\n",
       "      <td>1968-04-27 23:50:42.827+00</td>\n",
       "      <td>mindfulness</td>\n",
       "      <td>2</td>\n",
       "      <td>0</td>\n",
       "      <td>0</td>\n",
       "    </tr>\n",
       "    <tr>\n",
       "      <th>4</th>\n",
       "      <td>155</td>\n",
       "      <td>810000</td>\n",
       "      <td>810</td>\n",
       "      <td>43444</td>\n",
       "      <td>f</td>\n",
       "      <td>1963-04-25 20:15:37.788+00</td>\n",
       "      <td>mindfulness</td>\n",
       "      <td>3</td>\n",
       "      <td>0</td>\n",
       "      <td>0</td>\n",
       "    </tr>\n",
       "  </tbody>\n",
       "</table>\n",
       "</div>"
      ],
      "text/plain": [
       "   user_id      sum   sec  sessions_completed gender  \\\n",
       "0       16   225000   225                1380      m   \n",
       "1       41  1795000  1795               19562      f   \n",
       "2      104  3750000  3750               45846      f   \n",
       "3      131   635000   635                1438      f   \n",
       "4      155   810000   810               43444      f   \n",
       "\n",
       "           estimate_birth_day        focus  experience  paid  focus_n  \n",
       "0  1982-03-14 04:32:24.435+00  mindfulness           1     1        0  \n",
       "1  1969-04-21 13:25:48.392+00         yoga           2     0        1  \n",
       "2  1958-04-24 20:23:59.469+00  mindfulness           3     0        0  \n",
       "3  1968-04-27 23:50:42.827+00  mindfulness           2     0        0  \n",
       "4  1963-04-25 20:15:37.788+00  mindfulness           3     0        0  "
      ]
     },
     "execution_count": 152,
     "metadata": {},
     "output_type": "execute_result"
    }
   ],
   "source": [
    "df.head()"
   ]
  },
  {
   "cell_type": "code",
   "execution_count": 153,
   "metadata": {
    "collapsed": true
   },
   "outputs": [],
   "source": [
    "df.drop(['focus'], axis = 1, inplace = True)"
   ]
  },
  {
   "cell_type": "code",
   "execution_count": 186,
   "metadata": {
    "collapsed": false
   },
   "outputs": [
    {
     "data": {
      "text/html": [
       "<div>\n",
       "<table border=\"1\" class=\"dataframe\">\n",
       "  <thead>\n",
       "    <tr style=\"text-align: right;\">\n",
       "      <th></th>\n",
       "      <th>user_id</th>\n",
       "      <th>sum</th>\n",
       "      <th>sec</th>\n",
       "      <th>sessions_completed</th>\n",
       "      <th>paid</th>\n",
       "      <th>focus_n</th>\n",
       "      <th>exp_0</th>\n",
       "      <th>exp_1</th>\n",
       "      <th>exp_2</th>\n",
       "      <th>exp_3</th>\n",
       "    </tr>\n",
       "  </thead>\n",
       "  <tbody>\n",
       "    <tr>\n",
       "      <th>user_id</th>\n",
       "      <td>1.000000</td>\n",
       "      <td>0.003562</td>\n",
       "      <td>0.003562</td>\n",
       "      <td>0.006119</td>\n",
       "      <td>-0.020385</td>\n",
       "      <td>0.062890</td>\n",
       "      <td>-0.004965</td>\n",
       "      <td>-0.002812</td>\n",
       "      <td>0.016148</td>\n",
       "      <td>-0.018247</td>\n",
       "    </tr>\n",
       "    <tr>\n",
       "      <th>sum</th>\n",
       "      <td>0.003562</td>\n",
       "      <td>1.000000</td>\n",
       "      <td>1.000000</td>\n",
       "      <td>0.572262</td>\n",
       "      <td>0.240010</td>\n",
       "      <td>0.017417</td>\n",
       "      <td>-0.065667</td>\n",
       "      <td>-0.013468</td>\n",
       "      <td>0.057344</td>\n",
       "      <td>0.041439</td>\n",
       "    </tr>\n",
       "    <tr>\n",
       "      <th>sec</th>\n",
       "      <td>0.003562</td>\n",
       "      <td>1.000000</td>\n",
       "      <td>1.000000</td>\n",
       "      <td>0.572262</td>\n",
       "      <td>0.240010</td>\n",
       "      <td>0.017417</td>\n",
       "      <td>-0.065667</td>\n",
       "      <td>-0.013468</td>\n",
       "      <td>0.057344</td>\n",
       "      <td>0.041439</td>\n",
       "    </tr>\n",
       "    <tr>\n",
       "      <th>sessions_completed</th>\n",
       "      <td>0.006119</td>\n",
       "      <td>0.572262</td>\n",
       "      <td>0.572262</td>\n",
       "      <td>1.000000</td>\n",
       "      <td>0.330722</td>\n",
       "      <td>-0.004203</td>\n",
       "      <td>-0.031549</td>\n",
       "      <td>-0.011590</td>\n",
       "      <td>0.035359</td>\n",
       "      <td>0.013612</td>\n",
       "    </tr>\n",
       "    <tr>\n",
       "      <th>paid</th>\n",
       "      <td>-0.020385</td>\n",
       "      <td>0.240010</td>\n",
       "      <td>0.240010</td>\n",
       "      <td>0.330722</td>\n",
       "      <td>1.000000</td>\n",
       "      <td>0.006682</td>\n",
       "      <td>-0.047245</td>\n",
       "      <td>0.005370</td>\n",
       "      <td>0.031540</td>\n",
       "      <td>0.020330</td>\n",
       "    </tr>\n",
       "    <tr>\n",
       "      <th>focus_n</th>\n",
       "      <td>0.062890</td>\n",
       "      <td>0.017417</td>\n",
       "      <td>0.017417</td>\n",
       "      <td>-0.004203</td>\n",
       "      <td>0.006682</td>\n",
       "      <td>1.000000</td>\n",
       "      <td>-0.025954</td>\n",
       "      <td>-0.160896</td>\n",
       "      <td>0.110093</td>\n",
       "      <td>0.141713</td>\n",
       "    </tr>\n",
       "    <tr>\n",
       "      <th>exp_0</th>\n",
       "      <td>-0.004965</td>\n",
       "      <td>-0.065667</td>\n",
       "      <td>-0.065667</td>\n",
       "      <td>-0.031549</td>\n",
       "      <td>-0.047245</td>\n",
       "      <td>-0.025954</td>\n",
       "      <td>1.000000</td>\n",
       "      <td>-0.426703</td>\n",
       "      <td>-0.498906</td>\n",
       "      <td>-0.162824</td>\n",
       "    </tr>\n",
       "    <tr>\n",
       "      <th>exp_1</th>\n",
       "      <td>-0.002812</td>\n",
       "      <td>-0.013468</td>\n",
       "      <td>-0.013468</td>\n",
       "      <td>-0.011590</td>\n",
       "      <td>0.005370</td>\n",
       "      <td>-0.160896</td>\n",
       "      <td>-0.426703</td>\n",
       "      <td>1.000000</td>\n",
       "      <td>-0.455416</td>\n",
       "      <td>-0.148631</td>\n",
       "    </tr>\n",
       "    <tr>\n",
       "      <th>exp_2</th>\n",
       "      <td>0.016148</td>\n",
       "      <td>0.057344</td>\n",
       "      <td>0.057344</td>\n",
       "      <td>0.035359</td>\n",
       "      <td>0.031540</td>\n",
       "      <td>0.110093</td>\n",
       "      <td>-0.498906</td>\n",
       "      <td>-0.455416</td>\n",
       "      <td>1.000000</td>\n",
       "      <td>-0.173781</td>\n",
       "    </tr>\n",
       "    <tr>\n",
       "      <th>exp_3</th>\n",
       "      <td>-0.018247</td>\n",
       "      <td>0.041439</td>\n",
       "      <td>0.041439</td>\n",
       "      <td>0.013612</td>\n",
       "      <td>0.020330</td>\n",
       "      <td>0.141713</td>\n",
       "      <td>-0.162824</td>\n",
       "      <td>-0.148631</td>\n",
       "      <td>-0.173781</td>\n",
       "      <td>1.000000</td>\n",
       "    </tr>\n",
       "  </tbody>\n",
       "</table>\n",
       "</div>"
      ],
      "text/plain": [
       "                     user_id       sum       sec  sessions_completed  \\\n",
       "user_id             1.000000  0.003562  0.003562            0.006119   \n",
       "sum                 0.003562  1.000000  1.000000            0.572262   \n",
       "sec                 0.003562  1.000000  1.000000            0.572262   \n",
       "sessions_completed  0.006119  0.572262  0.572262            1.000000   \n",
       "paid               -0.020385  0.240010  0.240010            0.330722   \n",
       "focus_n             0.062890  0.017417  0.017417           -0.004203   \n",
       "exp_0              -0.004965 -0.065667 -0.065667           -0.031549   \n",
       "exp_1              -0.002812 -0.013468 -0.013468           -0.011590   \n",
       "exp_2               0.016148  0.057344  0.057344            0.035359   \n",
       "exp_3              -0.018247  0.041439  0.041439            0.013612   \n",
       "\n",
       "                        paid   focus_n     exp_0     exp_1     exp_2     exp_3  \n",
       "user_id            -0.020385  0.062890 -0.004965 -0.002812  0.016148 -0.018247  \n",
       "sum                 0.240010  0.017417 -0.065667 -0.013468  0.057344  0.041439  \n",
       "sec                 0.240010  0.017417 -0.065667 -0.013468  0.057344  0.041439  \n",
       "sessions_completed  0.330722 -0.004203 -0.031549 -0.011590  0.035359  0.013612  \n",
       "paid                1.000000  0.006682 -0.047245  0.005370  0.031540  0.020330  \n",
       "focus_n             0.006682  1.000000 -0.025954 -0.160896  0.110093  0.141713  \n",
       "exp_0              -0.047245 -0.025954  1.000000 -0.426703 -0.498906 -0.162824  \n",
       "exp_1               0.005370 -0.160896 -0.426703  1.000000 -0.455416 -0.148631  \n",
       "exp_2               0.031540  0.110093 -0.498906 -0.455416  1.000000 -0.173781  \n",
       "exp_3               0.020330  0.141713 -0.162824 -0.148631 -0.173781  1.000000  "
      ]
     },
     "execution_count": 186,
     "metadata": {},
     "output_type": "execute_result"
    }
   ],
   "source": [
    "df.corr()"
   ]
  },
  {
   "cell_type": "code",
   "execution_count": 155,
   "metadata": {
    "collapsed": false
   },
   "outputs": [
    {
     "data": {
      "text/plain": [
       "342"
      ]
     },
     "execution_count": 155,
     "metadata": {},
     "output_type": "execute_result"
    }
   ],
   "source": [
    "df.paid.sum()"
   ]
  },
  {
   "cell_type": "code",
   "execution_count": 156,
   "metadata": {
    "collapsed": false
   },
   "outputs": [
    {
     "data": {
      "text/plain": [
       "<matplotlib.axes._subplots.AxesSubplot at 0x1266e2210>"
      ]
     },
     "execution_count": 156,
     "metadata": {},
     "output_type": "execute_result"
    },
    {
     "data": {
      "image/png": "[encoded data removed]",
      "text/plain": [
       "<matplotlib.figure.Figure at 0x1266d5850>"
      ]
     },
     "metadata": {},
     "output_type": "display_data"
    }
   ],
   "source": [
    "df.plot(x = 'paid', y = 'experience', kind = 'hist')"
   ]
  },
  {
   "cell_type": "code",
   "execution_count": 89,
   "metadata": {
    "collapsed": false
   },
   "outputs": [
    {
     "data": {
      "text/plain": [
       "array([[<matplotlib.axes._subplots.AxesSubplot object at 0x12260fb50>,\n",
       "        <matplotlib.axes._subplots.AxesSubplot object at 0x122c83e90>,\n",
       "        <matplotlib.axes._subplots.AxesSubplot object at 0x11d96dfd0>,\n",
       "        <matplotlib.axes._subplots.AxesSubplot object at 0x122612d50>,\n",
       "        <matplotlib.axes._subplots.AxesSubplot object at 0x122490d50>,\n",
       "        <matplotlib.axes._subplots.AxesSubplot object at 0x12294acd0>],\n",
       "       [<matplotlib.axes._subplots.AxesSubplot object at 0x122ce5a90>,\n",
       "        <matplotlib.axes._subplots.AxesSubplot object at 0x122f1ad50>,\n",
       "        <matplotlib.axes._subplots.AxesSubplot object at 0x122f7dd10>,\n",
       "        <matplotlib.axes._subplots.AxesSubplot object at 0x1231972d0>,\n",
       "        <matplotlib.axes._subplots.AxesSubplot object at 0x122fac950>,\n",
       "        <matplotlib.axes._subplots.AxesSubplot object at 0x123277fd0>],\n",
       "       [<matplotlib.axes._subplots.AxesSubplot object at 0x1234882d0>,\n",
       "        <matplotlib.axes._subplots.AxesSubplot object at 0x12381eb10>,\n",
       "        <matplotlib.axes._subplots.AxesSubplot object at 0x12389cb90>,\n",
       "        <matplotlib.axes._subplots.AxesSubplot object at 0x1238f6950>,\n",
       "        <matplotlib.axes._subplots.AxesSubplot object at 0x123983c10>,\n",
       "        <matplotlib.axes._subplots.AxesSubplot object at 0x123a05b90>],\n",
       "       [<matplotlib.axes._subplots.AxesSubplot object at 0x123a71c50>,\n",
       "        <matplotlib.axes._subplots.AxesSubplot object at 0x123af5bd0>,\n",
       "        <matplotlib.axes._subplots.AxesSubplot object at 0x123b63750>,\n",
       "        <matplotlib.axes._subplots.AxesSubplot object at 0x123be4f50>,\n",
       "        <matplotlib.axes._subplots.AxesSubplot object at 0x123d3ca90>,\n",
       "        <matplotlib.axes._subplots.AxesSubplot object at 0x123dccb10>],\n",
       "       [<matplotlib.axes._subplots.AxesSubplot object at 0x123e4ea90>,\n",
       "        <matplotlib.axes._subplots.AxesSubplot object at 0x123ebbd90>,\n",
       "        <matplotlib.axes._subplots.AxesSubplot object at 0x12403dd10>,\n",
       "        <matplotlib.axes._subplots.AxesSubplot object at 0x12408c750>,\n",
       "        <matplotlib.axes._subplots.AxesSubplot object at 0x124110d90>,\n",
       "        <matplotlib.axes._subplots.AxesSubplot object at 0x1240bb8d0>],\n",
       "       [<matplotlib.axes._subplots.AxesSubplot object at 0x124201a50>,\n",
       "        <matplotlib.axes._subplots.AxesSubplot object at 0x1242859d0>,\n",
       "        <matplotlib.axes._subplots.AxesSubplot object at 0x1242e6fd0>,\n",
       "        <matplotlib.axes._subplots.AxesSubplot object at 0x124367bd0>,\n",
       "        <matplotlib.axes._subplots.AxesSubplot object at 0x1243d6d90>,\n",
       "        <matplotlib.axes._subplots.AxesSubplot object at 0x1245648d0>]], dtype=object)"
      ]
     },
     "execution_count": 89,
     "metadata": {},
     "output_type": "execute_result"
    },
    {
     "data": {
      "image/png": "[encoded data removed]",
      "text/plain": [
       "<matplotlib.figure.Figure at 0x12260f7d0>"
      ]
     },
     "metadata": {},
     "output_type": "display_data"
    }
   ],
   "source": [
    "pd.tools.plotting.scatter_matrix(df, figsize=(12, 12))"
   ]
  },
  {
   "cell_type": "code",
   "execution_count": 157,
   "metadata": {
    "collapsed": false
   },
   "outputs": [
    {
     "data": {
      "text/html": [
       "<div>\n",
       "<table border=\"1\" class=\"dataframe\">\n",
       "  <thead>\n",
       "    <tr style=\"text-align: right;\">\n",
       "      <th></th>\n",
       "      <th>user_id</th>\n",
       "      <th>sum</th>\n",
       "      <th>sec</th>\n",
       "      <th>sessions_completed</th>\n",
       "      <th>gender</th>\n",
       "      <th>estimate_birth_day</th>\n",
       "      <th>experience</th>\n",
       "      <th>paid</th>\n",
       "      <th>focus_n</th>\n",
       "    </tr>\n",
       "  </thead>\n",
       "  <tbody>\n",
       "    <tr>\n",
       "      <th>0</th>\n",
       "      <td>16</td>\n",
       "      <td>225000</td>\n",
       "      <td>225</td>\n",
       "      <td>1380</td>\n",
       "      <td>m</td>\n",
       "      <td>1982-03-14 04:32:24.435+00</td>\n",
       "      <td>1</td>\n",
       "      <td>1</td>\n",
       "      <td>0</td>\n",
       "    </tr>\n",
       "    <tr>\n",
       "      <th>1</th>\n",
       "      <td>41</td>\n",
       "      <td>1795000</td>\n",
       "      <td>1795</td>\n",
       "      <td>19562</td>\n",
       "      <td>f</td>\n",
       "      <td>1969-04-21 13:25:48.392+00</td>\n",
       "      <td>2</td>\n",
       "      <td>0</td>\n",
       "      <td>1</td>\n",
       "    </tr>\n",
       "    <tr>\n",
       "      <th>2</th>\n",
       "      <td>104</td>\n",
       "      <td>3750000</td>\n",
       "      <td>3750</td>\n",
       "      <td>45846</td>\n",
       "      <td>f</td>\n",
       "      <td>1958-04-24 20:23:59.469+00</td>\n",
       "      <td>3</td>\n",
       "      <td>0</td>\n",
       "      <td>0</td>\n",
       "    </tr>\n",
       "    <tr>\n",
       "      <th>3</th>\n",
       "      <td>131</td>\n",
       "      <td>635000</td>\n",
       "      <td>635</td>\n",
       "      <td>1438</td>\n",
       "      <td>f</td>\n",
       "      <td>1968-04-27 23:50:42.827+00</td>\n",
       "      <td>2</td>\n",
       "      <td>0</td>\n",
       "      <td>0</td>\n",
       "    </tr>\n",
       "    <tr>\n",
       "      <th>4</th>\n",
       "      <td>155</td>\n",
       "      <td>810000</td>\n",
       "      <td>810</td>\n",
       "      <td>43444</td>\n",
       "      <td>f</td>\n",
       "      <td>1963-04-25 20:15:37.788+00</td>\n",
       "      <td>3</td>\n",
       "      <td>0</td>\n",
       "      <td>0</td>\n",
       "    </tr>\n",
       "  </tbody>\n",
       "</table>\n",
       "</div>"
      ],
      "text/plain": [
       "   user_id      sum   sec  sessions_completed gender  \\\n",
       "0       16   225000   225                1380      m   \n",
       "1       41  1795000  1795               19562      f   \n",
       "2      104  3750000  3750               45846      f   \n",
       "3      131   635000   635                1438      f   \n",
       "4      155   810000   810               43444      f   \n",
       "\n",
       "           estimate_birth_day  experience  paid  focus_n  \n",
       "0  1982-03-14 04:32:24.435+00           1     1        0  \n",
       "1  1969-04-21 13:25:48.392+00           2     0        1  \n",
       "2  1958-04-24 20:23:59.469+00           3     0        0  \n",
       "3  1968-04-27 23:50:42.827+00           2     0        0  \n",
       "4  1963-04-25 20:15:37.788+00           3     0        0  "
      ]
     },
     "execution_count": 157,
     "metadata": {},
     "output_type": "execute_result"
    }
   ],
   "source": [
    "df.head()"
   ]
  },
  {
   "cell_type": "code",
   "execution_count": 158,
   "metadata": {
    "collapsed": false
   },
   "outputs": [
    {
     "data": {
      "text/html": [
       "<div>\n",
       "<table border=\"1\" class=\"dataframe\">\n",
       "  <thead>\n",
       "    <tr style=\"text-align: right;\">\n",
       "      <th></th>\n",
       "      <th>exp_0</th>\n",
       "      <th>exp_1</th>\n",
       "      <th>exp_2</th>\n",
       "      <th>exp_3</th>\n",
       "    </tr>\n",
       "  </thead>\n",
       "  <tbody>\n",
       "    <tr>\n",
       "      <th>0</th>\n",
       "      <td>0.0</td>\n",
       "      <td>1.0</td>\n",
       "      <td>0.0</td>\n",
       "      <td>0.0</td>\n",
       "    </tr>\n",
       "    <tr>\n",
       "      <th>1</th>\n",
       "      <td>0.0</td>\n",
       "      <td>0.0</td>\n",
       "      <td>1.0</td>\n",
       "      <td>0.0</td>\n",
       "    </tr>\n",
       "    <tr>\n",
       "      <th>2</th>\n",
       "      <td>0.0</td>\n",
       "      <td>0.0</td>\n",
       "      <td>0.0</td>\n",
       "      <td>1.0</td>\n",
       "    </tr>\n",
       "    <tr>\n",
       "      <th>3</th>\n",
       "      <td>0.0</td>\n",
       "      <td>0.0</td>\n",
       "      <td>1.0</td>\n",
       "      <td>0.0</td>\n",
       "    </tr>\n",
       "    <tr>\n",
       "      <th>4</th>\n",
       "      <td>0.0</td>\n",
       "      <td>0.0</td>\n",
       "      <td>0.0</td>\n",
       "      <td>1.0</td>\n",
       "    </tr>\n",
       "  </tbody>\n",
       "</table>\n",
       "</div>"
      ],
      "text/plain": [
       "   exp_0  exp_1  exp_2  exp_3\n",
       "0    0.0    1.0    0.0    0.0\n",
       "1    0.0    0.0    1.0    0.0\n",
       "2    0.0    0.0    0.0    1.0\n",
       "3    0.0    0.0    1.0    0.0\n",
       "4    0.0    0.0    0.0    1.0"
      ]
     },
     "execution_count": 158,
     "metadata": {},
     "output_type": "execute_result"
    }
   ],
   "source": [
    "exp_df = pd.get_dummies(df.experience, prefix = 'exp')\n",
    "exp_df.head()"
   ]
  },
  {
   "cell_type": "code",
   "execution_count": 159,
   "metadata": {
    "collapsed": false
   },
   "outputs": [
    {
     "data": {
      "text/html": [
       "<div>\n",
       "<table border=\"1\" class=\"dataframe\">\n",
       "  <thead>\n",
       "    <tr style=\"text-align: right;\">\n",
       "      <th></th>\n",
       "      <th>user_id</th>\n",
       "      <th>sum</th>\n",
       "      <th>sec</th>\n",
       "      <th>sessions_completed</th>\n",
       "      <th>gender</th>\n",
       "      <th>...</th>\n",
       "      <th>focus_n</th>\n",
       "      <th>exp_0</th>\n",
       "      <th>exp_1</th>\n",
       "      <th>exp_2</th>\n",
       "      <th>exp_3</th>\n",
       "    </tr>\n",
       "  </thead>\n",
       "  <tbody>\n",
       "    <tr>\n",
       "      <th>0</th>\n",
       "      <td>16</td>\n",
       "      <td>225000</td>\n",
       "      <td>225</td>\n",
       "      <td>1380</td>\n",
       "      <td>m</td>\n",
       "      <td>...</td>\n",
       "      <td>0</td>\n",
       "      <td>0.0</td>\n",
       "      <td>1.0</td>\n",
       "      <td>0.0</td>\n",
       "      <td>0.0</td>\n",
       "    </tr>\n",
       "    <tr>\n",
       "      <th>1</th>\n",
       "      <td>41</td>\n",
       "      <td>1795000</td>\n",
       "      <td>1795</td>\n",
       "      <td>19562</td>\n",
       "      <td>f</td>\n",
       "      <td>...</td>\n",
       "      <td>1</td>\n",
       "      <td>0.0</td>\n",
       "      <td>0.0</td>\n",
       "      <td>1.0</td>\n",
       "      <td>0.0</td>\n",
       "    </tr>\n",
       "    <tr>\n",
       "      <th>2</th>\n",
       "      <td>104</td>\n",
       "      <td>3750000</td>\n",
       "      <td>3750</td>\n",
       "      <td>45846</td>\n",
       "      <td>f</td>\n",
       "      <td>...</td>\n",
       "      <td>0</td>\n",
       "      <td>0.0</td>\n",
       "      <td>0.0</td>\n",
       "      <td>0.0</td>\n",
       "      <td>1.0</td>\n",
       "    </tr>\n",
       "    <tr>\n",
       "      <th>3</th>\n",
       "      <td>131</td>\n",
       "      <td>635000</td>\n",
       "      <td>635</td>\n",
       "      <td>1438</td>\n",
       "      <td>f</td>\n",
       "      <td>...</td>\n",
       "      <td>0</td>\n",
       "      <td>0.0</td>\n",
       "      <td>0.0</td>\n",
       "      <td>1.0</td>\n",
       "      <td>0.0</td>\n",
       "    </tr>\n",
       "    <tr>\n",
       "      <th>4</th>\n",
       "      <td>155</td>\n",
       "      <td>810000</td>\n",
       "      <td>810</td>\n",
       "      <td>43444</td>\n",
       "      <td>f</td>\n",
       "      <td>...</td>\n",
       "      <td>0</td>\n",
       "      <td>0.0</td>\n",
       "      <td>0.0</td>\n",
       "      <td>0.0</td>\n",
       "      <td>1.0</td>\n",
       "    </tr>\n",
       "  </tbody>\n",
       "</table>\n",
       "<p>5 rows × 13 columns</p>\n",
       "</div>"
      ],
      "text/plain": [
       "   user_id      sum   sec  sessions_completed gender  ...   focus_n  exp_0  \\\n",
       "0       16   225000   225                1380      m  ...         0    0.0   \n",
       "1       41  1795000  1795               19562      f  ...         1    0.0   \n",
       "2      104  3750000  3750               45846      f  ...         0    0.0   \n",
       "3      131   635000   635                1438      f  ...         0    0.0   \n",
       "4      155   810000   810               43444      f  ...         0    0.0   \n",
       "\n",
       "   exp_1  exp_2  exp_3  \n",
       "0    1.0    0.0    0.0  \n",
       "1    0.0    1.0    0.0  \n",
       "2    0.0    0.0    1.0  \n",
       "3    0.0    1.0    0.0  \n",
       "4    0.0    0.0    1.0  \n",
       "\n",
       "[5 rows x 13 columns]"
      ]
     },
     "execution_count": 159,
     "metadata": {},
     "output_type": "execute_result"
    }
   ],
   "source": [
    "df = df.join([exp_df])\n",
    "df.head()"
   ]
  },
  {
   "cell_type": "code",
   "execution_count": 160,
   "metadata": {
    "collapsed": false
   },
   "outputs": [
    {
     "data": {
      "text/plain": [
       "Index([u'user_id', u'sum', u'sec', u'sessions_completed', u'gender',\n",
       "       u'estimate_birth_day', u'paid', u'focus_n', u'exp_0', u'exp_1',\n",
       "       u'exp_2', u'exp_3'],\n",
       "      dtype='object')"
      ]
     },
     "execution_count": 160,
     "metadata": {},
     "output_type": "execute_result"
    }
   ],
   "source": [
    "df.drop(['experience'], axis = 1, inplace = True)\n",
    "df.columns"
   ]
  },
  {
   "cell_type": "code",
   "execution_count": 209,
   "metadata": {
    "collapsed": false
   },
   "outputs": [],
   "source": [
    "X = df[ ['sec','sessions_completed', 'exp_1','exp_2','exp_3'] ]\n",
    "\n",
    "y = df.paid\n",
    "\n",
    "model_new = linear_model.LogisticRegression(C=10**2).fit(X,y)"
   ]
  },
  {
   "cell_type": "code",
   "execution_count": 210,
   "metadata": {
    "collapsed": false
   },
   "outputs": [
    {
     "data": {
      "text/plain": [
       "0.98221343873517786"
      ]
     },
     "execution_count": 210,
     "metadata": {},
     "output_type": "execute_result"
    }
   ],
   "source": [
    "model_new.score(X,y)"
   ]
  },
  {
   "cell_type": "code",
   "execution_count": 211,
   "metadata": {
    "collapsed": false
   },
   "outputs": [],
   "source": [
    "train_X, test_X, train_y, test_y = cross_validation.train_test_split(X, y, train_size = .6, random_state = 0)"
   ]
  },
  {
   "cell_type": "code",
   "execution_count": 212,
   "metadata": {
    "collapsed": true
   },
   "outputs": [],
   "source": [
    "train_df = df.sample(frac = .6, random_state = 0).sort_index()"
   ]
  },
  {
   "cell_type": "code",
   "execution_count": 213,
   "metadata": {
    "collapsed": false
   },
   "outputs": [],
   "source": [
    "test_df = df.drop(train_df.index)"
   ]
  },
  {
   "cell_type": "code",
   "execution_count": 194,
   "metadata": {
    "collapsed": false
   },
   "outputs": [
    {
     "data": {
      "text/plain": [
       "0.98171101672878569"
      ]
     },
     "execution_count": 194,
     "metadata": {},
     "output_type": "execute_result"
    }
   ],
   "source": [
    "train_X = train_df[ ['sec','sessions_completed', 'exp_1','exp_2','exp_3'] ]\n",
    "\n",
    "scaler = preprocessing.MinMaxScaler().fit(train_X)\n",
    "\n",
    "train_X = scaler.transform(train_X)\n",
    "\n",
    "train_c = train_df.paid\n",
    "\n",
    "model = neighbors.KNeighborsClassifier(n_neighbors = 5, weights = 'uniform').\\\n",
    "    fit(train_X, train_c)\n",
    "\n",
    "model.score(train_X, train_c)"
   ]
  },
  {
   "cell_type": "code",
   "execution_count": 195,
   "metadata": {
    "collapsed": false
   },
   "outputs": [
    {
     "data": {
      "text/plain": [
       "0.98270706020023402"
      ]
     },
     "execution_count": 195,
     "metadata": {},
     "output_type": "execute_result"
    }
   ],
   "source": [
    "test_X = test_df[  ['sec','exp_1','exp_2','exp_3'] ]\n",
    "\n",
    "test_X = scaler.transform(test_X)\n",
    "\n",
    "test_c = test_df.paid\n",
    "\n",
    "model.score(test_X, test_c)"
   ]
  },
  {
   "cell_type": "code",
   "execution_count": 196,
   "metadata": {
    "collapsed": true
   },
   "outputs": [],
   "source": [
    "c = df.paid"
   ]
  },
  {
   "cell_type": "code",
   "execution_count": 170,
   "metadata": {
    "collapsed": false
   },
   "outputs": [],
   "source": [
    "k = range(1, 100)\n",
    "\n",
    "score_df = pd.DataFrame({'k': k})\n",
    "\n",
    "score_df['model'] = score_df.\\\n",
    "    apply(lambda row: neighbors.KNeighborsClassifier(n_neighbors = row['k']).fit(X, c), axis = 1)\n",
    "\n",
    "score_df['score'] = score_df.model.apply(lambda model: model.score(X, c))"
   ]
  },
  {
   "cell_type": "code",
   "execution_count": 171,
   "metadata": {
    "collapsed": false
   },
   "outputs": [
    {
     "data": {
      "text/html": [
       "<div>\n",
       "<table border=\"1\" class=\"dataframe\">\n",
       "  <thead>\n",
       "    <tr style=\"text-align: right;\">\n",
       "      <th></th>\n",
       "      <th>k</th>\n",
       "      <th>model</th>\n",
       "      <th>score</th>\n",
       "    </tr>\n",
       "  </thead>\n",
       "  <tbody>\n",
       "    <tr>\n",
       "      <th>0</th>\n",
       "      <td>1</td>\n",
       "      <td>KNeighborsClassifier(algorithm='auto', leaf_si...</td>\n",
       "      <td>0.987518</td>\n",
       "    </tr>\n",
       "    <tr>\n",
       "      <th>1</th>\n",
       "      <td>2</td>\n",
       "      <td>KNeighborsClassifier(algorithm='auto', leaf_si...</td>\n",
       "      <td>0.983462</td>\n",
       "    </tr>\n",
       "    <tr>\n",
       "      <th>2</th>\n",
       "      <td>3</td>\n",
       "      <td>KNeighborsClassifier(algorithm='auto', leaf_si...</td>\n",
       "      <td>0.984034</td>\n",
       "    </tr>\n",
       "    <tr>\n",
       "      <th>3</th>\n",
       "      <td>4</td>\n",
       "      <td>KNeighborsClassifier(algorithm='auto', leaf_si...</td>\n",
       "      <td>0.982369</td>\n",
       "    </tr>\n",
       "    <tr>\n",
       "      <th>4</th>\n",
       "      <td>5</td>\n",
       "      <td>KNeighborsClassifier(algorithm='auto', leaf_si...</td>\n",
       "      <td>0.982421</td>\n",
       "    </tr>\n",
       "    <tr>\n",
       "      <th>...</th>\n",
       "      <td>...</td>\n",
       "      <td>...</td>\n",
       "      <td>...</td>\n",
       "    </tr>\n",
       "    <tr>\n",
       "      <th>94</th>\n",
       "      <td>95</td>\n",
       "      <td>KNeighborsClassifier(algorithm='auto', leaf_si...</td>\n",
       "      <td>0.982213</td>\n",
       "    </tr>\n",
       "    <tr>\n",
       "      <th>95</th>\n",
       "      <td>96</td>\n",
       "      <td>KNeighborsClassifier(algorithm='auto', leaf_si...</td>\n",
       "      <td>0.982213</td>\n",
       "    </tr>\n",
       "    <tr>\n",
       "      <th>96</th>\n",
       "      <td>97</td>\n",
       "      <td>KNeighborsClassifier(algorithm='auto', leaf_si...</td>\n",
       "      <td>0.982213</td>\n",
       "    </tr>\n",
       "    <tr>\n",
       "      <th>97</th>\n",
       "      <td>98</td>\n",
       "      <td>KNeighborsClassifier(algorithm='auto', leaf_si...</td>\n",
       "      <td>0.982213</td>\n",
       "    </tr>\n",
       "    <tr>\n",
       "      <th>98</th>\n",
       "      <td>99</td>\n",
       "      <td>KNeighborsClassifier(algorithm='auto', leaf_si...</td>\n",
       "      <td>0.982213</td>\n",
       "    </tr>\n",
       "  </tbody>\n",
       "</table>\n",
       "<p>99 rows × 3 columns</p>\n",
       "</div>"
      ],
      "text/plain": [
       "     k                                              model     score\n",
       "0    1  KNeighborsClassifier(algorithm='auto', leaf_si...  0.987518\n",
       "1    2  KNeighborsClassifier(algorithm='auto', leaf_si...  0.983462\n",
       "2    3  KNeighborsClassifier(algorithm='auto', leaf_si...  0.984034\n",
       "3    4  KNeighborsClassifier(algorithm='auto', leaf_si...  0.982369\n",
       "4    5  KNeighborsClassifier(algorithm='auto', leaf_si...  0.982421\n",
       "..  ..                                                ...       ...\n",
       "94  95  KNeighborsClassifier(algorithm='auto', leaf_si...  0.982213\n",
       "95  96  KNeighborsClassifier(algorithm='auto', leaf_si...  0.982213\n",
       "96  97  KNeighborsClassifier(algorithm='auto', leaf_si...  0.982213\n",
       "97  98  KNeighborsClassifier(algorithm='auto', leaf_si...  0.982213\n",
       "98  99  KNeighborsClassifier(algorithm='auto', leaf_si...  0.982213\n",
       "\n",
       "[99 rows x 3 columns]"
      ]
     },
     "execution_count": 171,
     "metadata": {},
     "output_type": "execute_result"
    }
   ],
   "source": [
    "score_df"
   ]
  },
  {
   "cell_type": "code",
   "execution_count": 202,
   "metadata": {
    "collapsed": false
   },
   "outputs": [
    {
     "data": {
      "text/plain": [
       "[('sec', 1.0002311764704095),\n",
       " ('exp_1', 2.1657047894374934),\n",
       " ('exp_2', 2.4599188719063974),\n",
       " ('exp_3', 2.6469277478918922)]"
      ]
     },
     "execution_count": 202,
     "metadata": {},
     "output_type": "execute_result"
    }
   ],
   "source": [
    "zip(X, np.exp(model_new.coef_[0]))"
   ]
  },
  {
   "cell_type": "code",
   "execution_count": 214,
   "metadata": {
    "collapsed": true
   },
   "outputs": [],
   "source": [
    "predict_X1 = [129999, 444, 0, 0, 1]"
   ]
  },
  {
   "cell_type": "code",
   "execution_count": 215,
   "metadata": {
    "collapsed": false
   },
   "outputs": [
    {
     "name": "stderr",
     "output_type": "stream",
     "text": [
      "/Users/ga/anaconda/lib/python2.7/site-packages/sklearn/utils/validation.py:386: DeprecationWarning: Passing 1d arrays as data is deprecated in 0.17 and willraise ValueError in 0.19. Reshape your data either using X.reshape(-1, 1) if your data has a single feature or X.reshape(1, -1) if it contains a single sample.\n",
      "  DeprecationWarning)\n"
     ]
    },
    {
     "ename": "ValueError",
     "evalue": "query data dimension must match training data dimension",
     "output_type": "error",
     "traceback": [
      "\u001b[0;31m---------------------------------------------------------------------------\u001b[0m",
      "\u001b[0;31mValueError\u001b[0m                                Traceback (most recent call last)",
      "\u001b[0;32m<ipython-input-215-3c66fc6d1563>\u001b[0m in \u001b[0;36m<module>\u001b[0;34m()\u001b[0m\n\u001b[0;32m----> 1\u001b[0;31m \u001b[0;32mprint\u001b[0m \u001b[0mmodel\u001b[0m\u001b[0;34m.\u001b[0m\u001b[0mpredict\u001b[0m\u001b[0;34m(\u001b[0m\u001b[0mpredict_X1\u001b[0m\u001b[0;34m)\u001b[0m\u001b[0;34m\u001b[0m\u001b[0m\n\u001b[0m",
      "\u001b[0;32m/Users/ga/anaconda/lib/python2.7/site-packages/sklearn/neighbors/classification.pyc\u001b[0m in \u001b[0;36mpredict\u001b[0;34m(self, X)\u001b[0m\n\u001b[1;32m    145\u001b[0m         \u001b[0mX\u001b[0m \u001b[0;34m=\u001b[0m \u001b[0mcheck_array\u001b[0m\u001b[0;34m(\u001b[0m\u001b[0mX\u001b[0m\u001b[0;34m,\u001b[0m \u001b[0maccept_sparse\u001b[0m\u001b[0;34m=\u001b[0m\u001b[0;34m'csr'\u001b[0m\u001b[0;34m)\u001b[0m\u001b[0;34m\u001b[0m\u001b[0m\n\u001b[1;32m    146\u001b[0m \u001b[0;34m\u001b[0m\u001b[0m\n\u001b[0;32m--> 147\u001b[0;31m         \u001b[0mneigh_dist\u001b[0m\u001b[0;34m,\u001b[0m \u001b[0mneigh_ind\u001b[0m \u001b[0;34m=\u001b[0m \u001b[0mself\u001b[0m\u001b[0;34m.\u001b[0m\u001b[0mkneighbors\u001b[0m\u001b[0;34m(\u001b[0m\u001b[0mX\u001b[0m\u001b[0;34m)\u001b[0m\u001b[0;34m\u001b[0m\u001b[0m\n\u001b[0m\u001b[1;32m    148\u001b[0m \u001b[0;34m\u001b[0m\u001b[0m\n\u001b[1;32m    149\u001b[0m         \u001b[0mclasses_\u001b[0m \u001b[0;34m=\u001b[0m \u001b[0mself\u001b[0m\u001b[0;34m.\u001b[0m\u001b[0mclasses_\u001b[0m\u001b[0;34m\u001b[0m\u001b[0m\n",
      "\u001b[0;32m/Users/ga/anaconda/lib/python2.7/site-packages/sklearn/neighbors/base.pyc\u001b[0m in \u001b[0;36mkneighbors\u001b[0;34m(self, X, n_neighbors, return_distance)\u001b[0m\n\u001b[1;32m    397\u001b[0m                 delayed(self._tree.query, check_pickle=False)(\n\u001b[1;32m    398\u001b[0m                     X[s], n_neighbors, return_distance)\n\u001b[0;32m--> 399\u001b[0;31m                 \u001b[0;32mfor\u001b[0m \u001b[0ms\u001b[0m \u001b[0;32min\u001b[0m \u001b[0mgen_even_slices\u001b[0m\u001b[0;34m(\u001b[0m\u001b[0mX\u001b[0m\u001b[0;34m.\u001b[0m\u001b[0mshape\u001b[0m\u001b[0;34m[\u001b[0m\u001b[0;36m0\u001b[0m\u001b[0;34m]\u001b[0m\u001b[0;34m,\u001b[0m \u001b[0mn_jobs\u001b[0m\u001b[0;34m)\u001b[0m\u001b[0;34m\u001b[0m\u001b[0m\n\u001b[0m\u001b[1;32m    400\u001b[0m             )\n\u001b[1;32m    401\u001b[0m             \u001b[0;32mif\u001b[0m \u001b[0mreturn_distance\u001b[0m\u001b[0;34m:\u001b[0m\u001b[0;34m\u001b[0m\u001b[0m\n",
      "\u001b[0;32m/Users/ga/anaconda/lib/python2.7/site-packages/sklearn/externals/joblib/parallel.pyc\u001b[0m in \u001b[0;36m__call__\u001b[0;34m(self, iterable)\u001b[0m\n\u001b[1;32m    798\u001b[0m             \u001b[0;31m# was dispatched. In particular this covers the edge\u001b[0m\u001b[0;34m\u001b[0m\u001b[0;34m\u001b[0m\u001b[0m\n\u001b[1;32m    799\u001b[0m             \u001b[0;31m# case of Parallel used with an exhausted iterator.\u001b[0m\u001b[0;34m\u001b[0m\u001b[0;34m\u001b[0m\u001b[0m\n\u001b[0;32m--> 800\u001b[0;31m             \u001b[0;32mwhile\u001b[0m \u001b[0mself\u001b[0m\u001b[0;34m.\u001b[0m\u001b[0mdispatch_one_batch\u001b[0m\u001b[0;34m(\u001b[0m\u001b[0miterator\u001b[0m\u001b[0;34m)\u001b[0m\u001b[0;34m:\u001b[0m\u001b[0;34m\u001b[0m\u001b[0m\n\u001b[0m\u001b[1;32m    801\u001b[0m                 \u001b[0mself\u001b[0m\u001b[0;34m.\u001b[0m\u001b[0m_iterating\u001b[0m \u001b[0;34m=\u001b[0m \u001b[0mTrue\u001b[0m\u001b[0;34m\u001b[0m\u001b[0m\n\u001b[1;32m    802\u001b[0m             \u001b[0;32melse\u001b[0m\u001b[0;34m:\u001b[0m\u001b[0;34m\u001b[0m\u001b[0m\n",
      "\u001b[0;32m/Users/ga/anaconda/lib/python2.7/site-packages/sklearn/externals/joblib/parallel.pyc\u001b[0m in \u001b[0;36mdispatch_one_batch\u001b[0;34m(self, iterator)\u001b[0m\n\u001b[1;32m    656\u001b[0m                 \u001b[0;32mreturn\u001b[0m \u001b[0mFalse\u001b[0m\u001b[0;34m\u001b[0m\u001b[0m\n\u001b[1;32m    657\u001b[0m             \u001b[0;32melse\u001b[0m\u001b[0;34m:\u001b[0m\u001b[0;34m\u001b[0m\u001b[0m\n\u001b[0;32m--> 658\u001b[0;31m                 \u001b[0mself\u001b[0m\u001b[0;34m.\u001b[0m\u001b[0m_dispatch\u001b[0m\u001b[0;34m(\u001b[0m\u001b[0mtasks\u001b[0m\u001b[0;34m)\u001b[0m\u001b[0;34m\u001b[0m\u001b[0m\n\u001b[0m\u001b[1;32m    659\u001b[0m                 \u001b[0;32mreturn\u001b[0m \u001b[0mTrue\u001b[0m\u001b[0;34m\u001b[0m\u001b[0m\n\u001b[1;32m    660\u001b[0m \u001b[0;34m\u001b[0m\u001b[0m\n",
      "\u001b[0;32m/Users/ga/anaconda/lib/python2.7/site-packages/sklearn/externals/joblib/parallel.pyc\u001b[0m in \u001b[0;36m_dispatch\u001b[0;34m(self, batch)\u001b[0m\n\u001b[1;32m    564\u001b[0m \u001b[0;34m\u001b[0m\u001b[0m\n\u001b[1;32m    565\u001b[0m         \u001b[0;32mif\u001b[0m \u001b[0mself\u001b[0m\u001b[0;34m.\u001b[0m\u001b[0m_pool\u001b[0m \u001b[0;32mis\u001b[0m \u001b[0mNone\u001b[0m\u001b[0;34m:\u001b[0m\u001b[0;34m\u001b[0m\u001b[0m\n\u001b[0;32m--> 566\u001b[0;31m             \u001b[0mjob\u001b[0m \u001b[0;34m=\u001b[0m \u001b[0mImmediateComputeBatch\u001b[0m\u001b[0;34m(\u001b[0m\u001b[0mbatch\u001b[0m\u001b[0;34m)\u001b[0m\u001b[0;34m\u001b[0m\u001b[0m\n\u001b[0m\u001b[1;32m    567\u001b[0m             \u001b[0mself\u001b[0m\u001b[0;34m.\u001b[0m\u001b[0m_jobs\u001b[0m\u001b[0;34m.\u001b[0m\u001b[0mappend\u001b[0m\u001b[0;34m(\u001b[0m\u001b[0mjob\u001b[0m\u001b[0;34m)\u001b[0m\u001b[0;34m\u001b[0m\u001b[0m\n\u001b[1;32m    568\u001b[0m             \u001b[0mself\u001b[0m\u001b[0;34m.\u001b[0m\u001b[0mn_dispatched_batches\u001b[0m \u001b[0;34m+=\u001b[0m \u001b[0;36m1\u001b[0m\u001b[0;34m\u001b[0m\u001b[0m\n",
      "\u001b[0;32m/Users/ga/anaconda/lib/python2.7/site-packages/sklearn/externals/joblib/parallel.pyc\u001b[0m in \u001b[0;36m__init__\u001b[0;34m(self, batch)\u001b[0m\n\u001b[1;32m    178\u001b[0m         \u001b[0;31m# Don't delay the application, to avoid keeping the input\u001b[0m\u001b[0;34m\u001b[0m\u001b[0;34m\u001b[0m\u001b[0m\n\u001b[1;32m    179\u001b[0m         \u001b[0;31m# arguments in memory\u001b[0m\u001b[0;34m\u001b[0m\u001b[0;34m\u001b[0m\u001b[0m\n\u001b[0;32m--> 180\u001b[0;31m         \u001b[0mself\u001b[0m\u001b[0;34m.\u001b[0m\u001b[0mresults\u001b[0m \u001b[0;34m=\u001b[0m \u001b[0mbatch\u001b[0m\u001b[0;34m(\u001b[0m\u001b[0;34m)\u001b[0m\u001b[0;34m\u001b[0m\u001b[0m\n\u001b[0m\u001b[1;32m    181\u001b[0m \u001b[0;34m\u001b[0m\u001b[0m\n\u001b[1;32m    182\u001b[0m     \u001b[0;32mdef\u001b[0m \u001b[0mget\u001b[0m\u001b[0;34m(\u001b[0m\u001b[0mself\u001b[0m\u001b[0;34m)\u001b[0m\u001b[0;34m:\u001b[0m\u001b[0;34m\u001b[0m\u001b[0m\n",
      "\u001b[0;32m/Users/ga/anaconda/lib/python2.7/site-packages/sklearn/externals/joblib/parallel.pyc\u001b[0m in \u001b[0;36m__call__\u001b[0;34m(self)\u001b[0m\n\u001b[1;32m     70\u001b[0m \u001b[0;34m\u001b[0m\u001b[0m\n\u001b[1;32m     71\u001b[0m     \u001b[0;32mdef\u001b[0m \u001b[0m__call__\u001b[0m\u001b[0;34m(\u001b[0m\u001b[0mself\u001b[0m\u001b[0;34m)\u001b[0m\u001b[0;34m:\u001b[0m\u001b[0;34m\u001b[0m\u001b[0m\n\u001b[0;32m---> 72\u001b[0;31m         \u001b[0;32mreturn\u001b[0m \u001b[0;34m[\u001b[0m\u001b[0mfunc\u001b[0m\u001b[0;34m(\u001b[0m\u001b[0;34m*\u001b[0m\u001b[0margs\u001b[0m\u001b[0;34m,\u001b[0m \u001b[0;34m**\u001b[0m\u001b[0mkwargs\u001b[0m\u001b[0;34m)\u001b[0m \u001b[0;32mfor\u001b[0m \u001b[0mfunc\u001b[0m\u001b[0;34m,\u001b[0m \u001b[0margs\u001b[0m\u001b[0;34m,\u001b[0m \u001b[0mkwargs\u001b[0m \u001b[0;32min\u001b[0m \u001b[0mself\u001b[0m\u001b[0;34m.\u001b[0m\u001b[0mitems\u001b[0m\u001b[0;34m]\u001b[0m\u001b[0;34m\u001b[0m\u001b[0m\n\u001b[0m\u001b[1;32m     73\u001b[0m \u001b[0;34m\u001b[0m\u001b[0m\n\u001b[1;32m     74\u001b[0m     \u001b[0;32mdef\u001b[0m \u001b[0m__len__\u001b[0m\u001b[0;34m(\u001b[0m\u001b[0mself\u001b[0m\u001b[0;34m)\u001b[0m\u001b[0;34m:\u001b[0m\u001b[0;34m\u001b[0m\u001b[0m\n",
      "\u001b[0;32msklearn/neighbors/binary_tree.pxi\u001b[0m in \u001b[0;36msklearn.neighbors.kd_tree.BinaryTree.query (sklearn/neighbors/kd_tree.c:10451)\u001b[0;34m()\u001b[0m\n",
      "\u001b[0;31mValueError\u001b[0m: query data dimension must match training data dimension"
     ]
    }
   ],
   "source": [
    "print model.predict(predict_X1)"
   ]
  },
  {
   "cell_type": "code",
   "execution_count": null,
   "metadata": {
    "collapsed": true
   },
   "outputs": [],
   "source": []
  }
 ],
 "metadata": {
  "anaconda-cloud": {},
  "kernelspec": {
   "display_name": "Python [Root]",
   "language": "python",
   "name": "Python [Root]"
  },
  "language_info": {
   "codemirror_mode": {
    "name": "ipython",
    "version": 2
   },
   "file_extension": ".py",
   "mimetype": "text/x-python",
   "name": "python",
   "nbconvert_exporter": "python",
   "pygments_lexer": "ipython2",
   "version": "2.7.12"
  }
 },
 "nbformat": 4,
 "nbformat_minor": 0
}
