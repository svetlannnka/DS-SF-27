{
 "cells": [
  {
   "cell_type": "markdown",
   "metadata": {},
   "source": [
    "# Final Project 4."
   ]
  },
  {
   "cell_type": "code",
   "execution_count": 451,
   "metadata": {
    "collapsed": true
   },
   "outputs": [],
   "source": [
    "import os\n",
    "import pandas as pd\n",
    "import matplotlib.pyplot as plt\n",
    "import seaborn as sns\n",
    "import statsmodels.api as sm\n",
    "import statsmodels.formula.api as smf\n",
    "import numpy as np\n",
    "\n",
    "from sklearn import linear_model, preprocessing, neighbors, grid_search, tree, ensemble, metrics, cross_validation, externals\n",
    "\n",
    "pd.set_option('display.max_rows', 10)\n",
    "pd.set_option('display.max_columns', 10)\n",
    "pd.set_option('display.notebook_repr_html', True)\n",
    "\n",
    "%matplotlib inline\n",
    "plt.style.use('ggplot')"
   ]
  },
  {
   "cell_type": "markdown",
   "metadata": {},
   "source": [
    "<i>Problem: I am still trying to predict if user becomes a paid customer based on his activity and Whil sign up info. </i>"
   ]
  },
  {
   "cell_type": "code",
   "execution_count": 452,
   "metadata": {
    "collapsed": false
   },
   "outputs": [
    {
     "data": {
      "text/html": [
       "<div>\n",
       "<table border=\"1\" class=\"dataframe\">\n",
       "  <thead>\n",
       "    <tr style=\"text-align: right;\">\n",
       "      <th></th>\n",
       "      <th>subscribedYN</th>\n",
       "      <th>sec</th>\n",
       "      <th>sessions</th>\n",
       "      <th>series</th>\n",
       "      <th>experience</th>\n",
       "      <th>focus</th>\n",
       "      <th>gender</th>\n",
       "      <th>dob_given</th>\n",
       "    </tr>\n",
       "  </thead>\n",
       "  <tbody>\n",
       "    <tr>\n",
       "      <th>0</th>\n",
       "      <td>1</td>\n",
       "      <td>225</td>\n",
       "      <td>1</td>\n",
       "      <td>0</td>\n",
       "      <td>2</td>\n",
       "      <td>0</td>\n",
       "      <td>1</td>\n",
       "      <td>1</td>\n",
       "    </tr>\n",
       "    <tr>\n",
       "      <th>1</th>\n",
       "      <td>0</td>\n",
       "      <td>1795</td>\n",
       "      <td>1</td>\n",
       "      <td>0</td>\n",
       "      <td>3</td>\n",
       "      <td>1</td>\n",
       "      <td>0</td>\n",
       "      <td>1</td>\n",
       "    </tr>\n",
       "    <tr>\n",
       "      <th>2</th>\n",
       "      <td>1</td>\n",
       "      <td>3750</td>\n",
       "      <td>9</td>\n",
       "      <td>2</td>\n",
       "      <td>4</td>\n",
       "      <td>0</td>\n",
       "      <td>0</td>\n",
       "      <td>1</td>\n",
       "    </tr>\n",
       "    <tr>\n",
       "      <th>3</th>\n",
       "      <td>0</td>\n",
       "      <td>635</td>\n",
       "      <td>2</td>\n",
       "      <td>0</td>\n",
       "      <td>3</td>\n",
       "      <td>0</td>\n",
       "      <td>0</td>\n",
       "      <td>1</td>\n",
       "    </tr>\n",
       "    <tr>\n",
       "      <th>4</th>\n",
       "      <td>1</td>\n",
       "      <td>810</td>\n",
       "      <td>4</td>\n",
       "      <td>0</td>\n",
       "      <td>4</td>\n",
       "      <td>0</td>\n",
       "      <td>0</td>\n",
       "      <td>1</td>\n",
       "    </tr>\n",
       "  </tbody>\n",
       "</table>\n",
       "</div>"
      ],
      "text/plain": [
       "   subscribedYN   sec  sessions  series  experience  focus  gender  dob_given\n",
       "0             1   225         1       0           2      0       1          1\n",
       "1             0  1795         1       0           3      1       0          1\n",
       "2             1  3750         9       2           4      0       0          1\n",
       "3             0   635         2       0           3      0       0          1\n",
       "4             1   810         4       0           4      0       0          1"
      ]
     },
     "execution_count": 452,
     "metadata": {},
     "output_type": "execute_result"
    }
   ],
   "source": [
    "# In case I need to redo, I'm creating a method to get my original dataset:\n",
    "def original_df(df):\n",
    "    df = pd.read_csv(os.path.join('..', 'Dataset', 'whiluserdata.csv'))\n",
    "    # Beautification\n",
    "    df.drop(['ID'], axis = 1, inplace = True)\n",
    "    df.rename(columns = {'sessions_completed': 'sessions',\n",
    "                        'series_completed': 'series',\n",
    "                        'focus_n': 'focus',\n",
    "                        'gender_n': 'gender'}, inplace = True)\n",
    "    return df\n",
    "df = original_df(df)\n",
    "df.head()"
   ]
  },
  {
   "cell_type": "markdown",
   "metadata": {},
   "source": [
    "<h3><i>Dummy variables for experience</i></h3>"
   ]
  },
  {
   "cell_type": "markdown",
   "metadata": {},
   "source": [
    "<i>I believe experiense level should influence user's subscription. In order to see how subscription changes depending on experience, let's convert experience level into categorial variarbles:</i>"
   ]
  },
  {
   "cell_type": "code",
   "execution_count": 453,
   "metadata": {
    "collapsed": false
   },
   "outputs": [
    {
     "data": {
      "text/html": [
       "<div>\n",
       "<table border=\"1\" class=\"dataframe\">\n",
       "  <thead>\n",
       "    <tr style=\"text-align: right;\">\n",
       "      <th></th>\n",
       "      <th>subscribedYN</th>\n",
       "      <th>sec</th>\n",
       "      <th>sessions</th>\n",
       "      <th>series</th>\n",
       "      <th>focus</th>\n",
       "      <th>...</th>\n",
       "      <th>dob_given</th>\n",
       "      <th>exp_1</th>\n",
       "      <th>exp_2</th>\n",
       "      <th>exp_3</th>\n",
       "      <th>exp_4</th>\n",
       "    </tr>\n",
       "  </thead>\n",
       "  <tbody>\n",
       "    <tr>\n",
       "      <th>0</th>\n",
       "      <td>1</td>\n",
       "      <td>225</td>\n",
       "      <td>1</td>\n",
       "      <td>0</td>\n",
       "      <td>0</td>\n",
       "      <td>...</td>\n",
       "      <td>1</td>\n",
       "      <td>0.0</td>\n",
       "      <td>1.0</td>\n",
       "      <td>0.0</td>\n",
       "      <td>0.0</td>\n",
       "    </tr>\n",
       "    <tr>\n",
       "      <th>1</th>\n",
       "      <td>0</td>\n",
       "      <td>1795</td>\n",
       "      <td>1</td>\n",
       "      <td>0</td>\n",
       "      <td>1</td>\n",
       "      <td>...</td>\n",
       "      <td>1</td>\n",
       "      <td>0.0</td>\n",
       "      <td>0.0</td>\n",
       "      <td>1.0</td>\n",
       "      <td>0.0</td>\n",
       "    </tr>\n",
       "    <tr>\n",
       "      <th>2</th>\n",
       "      <td>1</td>\n",
       "      <td>3750</td>\n",
       "      <td>9</td>\n",
       "      <td>2</td>\n",
       "      <td>0</td>\n",
       "      <td>...</td>\n",
       "      <td>1</td>\n",
       "      <td>0.0</td>\n",
       "      <td>0.0</td>\n",
       "      <td>0.0</td>\n",
       "      <td>1.0</td>\n",
       "    </tr>\n",
       "    <tr>\n",
       "      <th>3</th>\n",
       "      <td>0</td>\n",
       "      <td>635</td>\n",
       "      <td>2</td>\n",
       "      <td>0</td>\n",
       "      <td>0</td>\n",
       "      <td>...</td>\n",
       "      <td>1</td>\n",
       "      <td>0.0</td>\n",
       "      <td>0.0</td>\n",
       "      <td>1.0</td>\n",
       "      <td>0.0</td>\n",
       "    </tr>\n",
       "    <tr>\n",
       "      <th>4</th>\n",
       "      <td>1</td>\n",
       "      <td>810</td>\n",
       "      <td>4</td>\n",
       "      <td>0</td>\n",
       "      <td>0</td>\n",
       "      <td>...</td>\n",
       "      <td>1</td>\n",
       "      <td>0.0</td>\n",
       "      <td>0.0</td>\n",
       "      <td>0.0</td>\n",
       "      <td>1.0</td>\n",
       "    </tr>\n",
       "  </tbody>\n",
       "</table>\n",
       "<p>5 rows × 11 columns</p>\n",
       "</div>"
      ],
      "text/plain": [
       "   subscribedYN   sec  sessions  series  focus  ...    dob_given  exp_1  \\\n",
       "0             1   225         1       0      0  ...            1    0.0   \n",
       "1             0  1795         1       0      1  ...            1    0.0   \n",
       "2             1  3750         9       2      0  ...            1    0.0   \n",
       "3             0   635         2       0      0  ...            1    0.0   \n",
       "4             1   810         4       0      0  ...            1    0.0   \n",
       "\n",
       "   exp_2  exp_3  exp_4  \n",
       "0    1.0    0.0    0.0  \n",
       "1    0.0    1.0    0.0  \n",
       "2    0.0    0.0    1.0  \n",
       "3    0.0    1.0    0.0  \n",
       "4    0.0    0.0    1.0  \n",
       "\n",
       "[5 rows x 11 columns]"
      ]
     },
     "execution_count": 453,
     "metadata": {},
     "output_type": "execute_result"
    }
   ],
   "source": [
    "experience_df = pd.get_dummies(df.experience, prefix = 'exp')\n",
    "\n",
    "experience_df.rename(columns = {'exp_1.0': 'exp_1',\n",
    "                              'exp_2.0': 'exp_2',\n",
    "                              'exp_3.0': 'exp_3',\n",
    "                              'exp_4.0': 'exp_4'}, inplace = True)\n",
    "df = df.join(experience_df)\n",
    "df.drop(['experience'], axis = 1, inplace = True)\n",
    "df.head()"
   ]
  },
  {
   "cell_type": "markdown",
   "metadata": {},
   "source": [
    "<h3><i>Most important variables:</i></h3>"
   ]
  },
  {
   "cell_type": "markdown",
   "metadata": {},
   "source": [
    "<i>Once again, the variables that seem to predict outcome well:</i>"
   ]
  },
  {
   "cell_type": "code",
   "execution_count": 454,
   "metadata": {
    "collapsed": false
   },
   "outputs": [
    {
     "data": {
      "text/plain": [
       "subscribedYN    1.000000\n",
       "sec             0.459421\n",
       "sessions        0.358653\n",
       "exp_4           0.230294\n",
       "series          0.192762\n",
       "exp_3           0.096201\n",
       "focus           0.050908\n",
       "Name: subscribedYN, dtype: float64"
      ]
     },
     "execution_count": 454,
     "metadata": {},
     "output_type": "execute_result"
    }
   ],
   "source": [
    "df.corr().subscribedYN.sort_values(ascending = False)[:7]"
   ]
  },
  {
   "cell_type": "markdown",
   "metadata": {},
   "source": [
    "<i>But from EDA, looks like sec and sessions are colinear, so I only use one of these variables:</i>"
   ]
  },
  {
   "cell_type": "markdown",
   "metadata": {},
   "source": [
    "<i>I used Decision Tree to see the most important features too. The most important variables were: sec, experience, and dob_given.</i>"
   ]
  },
  {
   "cell_type": "markdown",
   "metadata": {},
   "source": [
    "<h3><i>Logistic Regression model</i></h4>"
   ]
  },
  {
   "cell_type": "markdown",
   "metadata": {},
   "source": [
    "<i>Let's try to build a model. I am going to add all variables and then subscract them one by one from the model. Not sure Logistic Regression is a good choice because of the data distribution (it's scewed to the left, not normally distributed), but let's see.</i>"
   ]
  },
  {
   "cell_type": "code",
   "execution_count": 455,
   "metadata": {
    "collapsed": false
   },
   "outputs": [
    {
     "name": "stdout",
     "output_type": "stream",
     "text": [
      "Optimization terminated successfully.\n",
      "         Current function value: 0.161421\n",
      "         Iterations 9\n"
     ]
    }
   ],
   "source": [
    "model = smf.logit(formula = 'subscribedYN ~ sessions + series + \\\n",
    "                focus + gender + dob_given + exp_2 + exp_3 + exp_4',\\\n",
    "                data = df).fit()"
   ]
  },
  {
   "cell_type": "code",
   "execution_count": 456,
   "metadata": {
    "collapsed": false
   },
   "outputs": [
    {
     "data": {
      "text/html": [
       "<table class=\"simpletable\">\n",
       "<caption>Logit Regression Results</caption>\n",
       "<tr>\n",
       "  <th>Dep. Variable:</th>   <td>subscribedYN</td>   <th>  No. Observations:  </th>  <td> 18730</td> \n",
       "</tr>\n",
       "<tr>\n",
       "  <th>Model:</th>               <td>Logit</td>      <th>  Df Residuals:      </th>  <td> 18721</td> \n",
       "</tr>\n",
       "<tr>\n",
       "  <th>Method:</th>               <td>MLE</td>       <th>  Df Model:          </th>  <td>     8</td> \n",
       "</tr>\n",
       "<tr>\n",
       "  <th>Date:</th>          <td>Mon, 07 Nov 2016</td> <th>  Pseudo R-squ.:     </th>  <td>0.2771</td> \n",
       "</tr>\n",
       "<tr>\n",
       "  <th>Time:</th>              <td>23:54:10</td>     <th>  Log-Likelihood:    </th> <td> -3023.4</td>\n",
       "</tr>\n",
       "<tr>\n",
       "  <th>converged:</th>           <td>True</td>       <th>  LL-Null:           </th> <td> -4182.6</td>\n",
       "</tr>\n",
       "<tr>\n",
       "  <th> </th>                      <td> </td>        <th>  LLR p-value:       </th>  <td> 0.000</td> \n",
       "</tr>\n",
       "</table>\n",
       "<table class=\"simpletable\">\n",
       "<tr>\n",
       "      <td></td>         <th>coef</th>     <th>std err</th>      <th>z</th>      <th>P>|z|</th> <th>[95.0% Conf. Int.]</th> \n",
       "</tr>\n",
       "<tr>\n",
       "  <th>Intercept</th> <td>   -5.7026</td> <td>    0.145</td> <td>  -39.322</td> <td> 0.000</td> <td>   -5.987    -5.418</td>\n",
       "</tr>\n",
       "<tr>\n",
       "  <th>sessions</th>  <td>    0.1427</td> <td>    0.005</td> <td>   28.604</td> <td> 0.000</td> <td>    0.133     0.153</td>\n",
       "</tr>\n",
       "<tr>\n",
       "  <th>series</th>    <td>   -0.0266</td> <td>    0.040</td> <td>   -0.673</td> <td> 0.501</td> <td>   -0.104     0.051</td>\n",
       "</tr>\n",
       "<tr>\n",
       "  <th>focus</th>     <td>    0.2743</td> <td>    0.101</td> <td>    2.723</td> <td> 0.006</td> <td>    0.077     0.472</td>\n",
       "</tr>\n",
       "<tr>\n",
       "  <th>gender</th>    <td>   -0.1707</td> <td>    0.076</td> <td>   -2.240</td> <td> 0.025</td> <td>   -0.320    -0.021</td>\n",
       "</tr>\n",
       "<tr>\n",
       "  <th>dob_given</th> <td>    0.6939</td> <td>    0.072</td> <td>    9.623</td> <td> 0.000</td> <td>    0.553     0.835</td>\n",
       "</tr>\n",
       "<tr>\n",
       "  <th>exp_2</th>     <td>    1.1289</td> <td>    0.151</td> <td>    7.456</td> <td> 0.000</td> <td>    0.832     1.426</td>\n",
       "</tr>\n",
       "<tr>\n",
       "  <th>exp_3</th>     <td>    2.0653</td> <td>    0.137</td> <td>   15.073</td> <td> 0.000</td> <td>    1.797     2.334</td>\n",
       "</tr>\n",
       "<tr>\n",
       "  <th>exp_4</th>     <td>    3.7029</td> <td>    0.154</td> <td>   24.068</td> <td> 0.000</td> <td>    3.401     4.004</td>\n",
       "</tr>\n",
       "</table>"
      ],
      "text/plain": [
       "<class 'statsmodels.iolib.summary.Summary'>\n",
       "\"\"\"\n",
       "                           Logit Regression Results                           \n",
       "==============================================================================\n",
       "Dep. Variable:           subscribedYN   No. Observations:                18730\n",
       "Model:                          Logit   Df Residuals:                    18721\n",
       "Method:                           MLE   Df Model:                            8\n",
       "Date:                Mon, 07 Nov 2016   Pseudo R-squ.:                  0.2771\n",
       "Time:                        23:54:10   Log-Likelihood:                -3023.4\n",
       "converged:                       True   LL-Null:                       -4182.6\n",
       "                                        LLR p-value:                     0.000\n",
       "==============================================================================\n",
       "                 coef    std err          z      P>|z|      [95.0% Conf. Int.]\n",
       "------------------------------------------------------------------------------\n",
       "Intercept     -5.7026      0.145    -39.322      0.000        -5.987    -5.418\n",
       "sessions       0.1427      0.005     28.604      0.000         0.133     0.153\n",
       "series        -0.0266      0.040     -0.673      0.501        -0.104     0.051\n",
       "focus          0.2743      0.101      2.723      0.006         0.077     0.472\n",
       "gender        -0.1707      0.076     -2.240      0.025        -0.320    -0.021\n",
       "dob_given      0.6939      0.072      9.623      0.000         0.553     0.835\n",
       "exp_2          1.1289      0.151      7.456      0.000         0.832     1.426\n",
       "exp_3          2.0653      0.137     15.073      0.000         1.797     2.334\n",
       "exp_4          3.7029      0.154     24.068      0.000         3.401     4.004\n",
       "==============================================================================\n",
       "\"\"\""
      ]
     },
     "execution_count": 456,
     "metadata": {},
     "output_type": "execute_result"
    }
   ],
   "source": [
    "model.summary()"
   ]
  },
  {
   "cell_type": "markdown",
   "metadata": {},
   "source": [
    "<i>After subsctracting variables one by one, I got this model:</i>"
   ]
  },
  {
   "cell_type": "code",
   "execution_count": 457,
   "metadata": {
    "collapsed": false
   },
   "outputs": [
    {
     "name": "stdout",
     "output_type": "stream",
     "text": [
      "Optimization terminated successfully.\n",
      "         Current function value: 0.161433\n",
      "         Iterations 9\n"
     ]
    },
    {
     "data": {
      "text/html": [
       "<table class=\"simpletable\">\n",
       "<caption>Logit Regression Results</caption>\n",
       "<tr>\n",
       "  <th>Dep. Variable:</th>   <td>subscribedYN</td>   <th>  No. Observations:  </th>  <td> 18730</td> \n",
       "</tr>\n",
       "<tr>\n",
       "  <th>Model:</th>               <td>Logit</td>      <th>  Df Residuals:      </th>  <td> 18722</td> \n",
       "</tr>\n",
       "<tr>\n",
       "  <th>Method:</th>               <td>MLE</td>       <th>  Df Model:          </th>  <td>     7</td> \n",
       "</tr>\n",
       "<tr>\n",
       "  <th>Date:</th>          <td>Mon, 07 Nov 2016</td> <th>  Pseudo R-squ.:     </th>  <td>0.2771</td> \n",
       "</tr>\n",
       "<tr>\n",
       "  <th>Time:</th>              <td>23:54:30</td>     <th>  Log-Likelihood:    </th> <td> -3023.6</td>\n",
       "</tr>\n",
       "<tr>\n",
       "  <th>converged:</th>           <td>True</td>       <th>  LL-Null:           </th> <td> -4182.6</td>\n",
       "</tr>\n",
       "<tr>\n",
       "  <th> </th>                      <td> </td>        <th>  LLR p-value:       </th>  <td> 0.000</td> \n",
       "</tr>\n",
       "</table>\n",
       "<table class=\"simpletable\">\n",
       "<tr>\n",
       "      <td></td>         <th>coef</th>     <th>std err</th>      <th>z</th>      <th>P>|z|</th> <th>[95.0% Conf. Int.]</th> \n",
       "</tr>\n",
       "<tr>\n",
       "  <th>Intercept</th> <td>   -5.7021</td> <td>    0.145</td> <td>  -39.260</td> <td> 0.000</td> <td>   -5.987    -5.417</td>\n",
       "</tr>\n",
       "<tr>\n",
       "  <th>sessions</th>  <td>    0.1412</td> <td>    0.004</td> <td>   31.925</td> <td> 0.000</td> <td>    0.133     0.150</td>\n",
       "</tr>\n",
       "<tr>\n",
       "  <th>focus</th>     <td>    0.2712</td> <td>    0.101</td> <td>    2.695</td> <td> 0.007</td> <td>    0.074     0.469</td>\n",
       "</tr>\n",
       "<tr>\n",
       "  <th>gender</th>    <td>   -0.1684</td> <td>    0.076</td> <td>   -2.213</td> <td> 0.027</td> <td>   -0.318    -0.019</td>\n",
       "</tr>\n",
       "<tr>\n",
       "  <th>dob_given</th> <td>    0.6933</td> <td>    0.072</td> <td>    9.616</td> <td> 0.000</td> <td>    0.552     0.835</td>\n",
       "</tr>\n",
       "<tr>\n",
       "  <th>exp_2</th>     <td>    1.1345</td> <td>    0.151</td> <td>    7.495</td> <td> 0.000</td> <td>    0.838     1.431</td>\n",
       "</tr>\n",
       "<tr>\n",
       "  <th>exp_3</th>     <td>    2.0714</td> <td>    0.137</td> <td>   15.126</td> <td> 0.000</td> <td>    1.803     2.340</td>\n",
       "</tr>\n",
       "<tr>\n",
       "  <th>exp_4</th>     <td>    3.7077</td> <td>    0.154</td> <td>   24.098</td> <td> 0.000</td> <td>    3.406     4.009</td>\n",
       "</tr>\n",
       "</table>"
      ],
      "text/plain": [
       "<class 'statsmodels.iolib.summary.Summary'>\n",
       "\"\"\"\n",
       "                           Logit Regression Results                           \n",
       "==============================================================================\n",
       "Dep. Variable:           subscribedYN   No. Observations:                18730\n",
       "Model:                          Logit   Df Residuals:                    18722\n",
       "Method:                           MLE   Df Model:                            7\n",
       "Date:                Mon, 07 Nov 2016   Pseudo R-squ.:                  0.2771\n",
       "Time:                        23:54:30   Log-Likelihood:                -3023.6\n",
       "converged:                       True   LL-Null:                       -4182.6\n",
       "                                        LLR p-value:                     0.000\n",
       "==============================================================================\n",
       "                 coef    std err          z      P>|z|      [95.0% Conf. Int.]\n",
       "------------------------------------------------------------------------------\n",
       "Intercept     -5.7021      0.145    -39.260      0.000        -5.987    -5.417\n",
       "sessions       0.1412      0.004     31.925      0.000         0.133     0.150\n",
       "focus          0.2712      0.101      2.695      0.007         0.074     0.469\n",
       "gender        -0.1684      0.076     -2.213      0.027        -0.318    -0.019\n",
       "dob_given      0.6933      0.072      9.616      0.000         0.552     0.835\n",
       "exp_2          1.1345      0.151      7.495      0.000         0.838     1.431\n",
       "exp_3          2.0714      0.137     15.126      0.000         1.803     2.340\n",
       "exp_4          3.7077      0.154     24.098      0.000         3.406     4.009\n",
       "==============================================================================\n",
       "\"\"\""
      ]
     },
     "execution_count": 457,
     "metadata": {},
     "output_type": "execute_result"
    }
   ],
   "source": [
    "model = smf.logit(formula = 'subscribedYN ~ sessions + \\\n",
    "                 + focus + gender + dob_given + exp_2 + exp_3 + exp_4',\\\n",
    "                data = df).fit()\n",
    "model.summary()"
   ]
  },
  {
   "cell_type": "code",
   "execution_count": 458,
   "metadata": {
    "collapsed": false
   },
   "outputs": [
    {
     "data": {
      "text/plain": [
       "Intercept     0.003339\n",
       "sessions      1.151649\n",
       "focus         1.311601\n",
       "gender        0.844982\n",
       "dob_given     2.000255\n",
       "exp_2         3.109703\n",
       "exp_3         7.935686\n",
       "exp_4        40.759801\n",
       "dtype: float64"
      ]
     },
     "execution_count": 458,
     "metadata": {},
     "output_type": "execute_result"
    }
   ],
   "source": [
    "np.exp(model.params)"
   ]
  },
  {
   "cell_type": "markdown",
   "metadata": {},
   "source": [
    "<i>Making predictions. For 3rd and 4th predictions, I will input the same data, except for experience level:</i>"
   ]
  },
  {
   "cell_type": "code",
   "execution_count": 450,
   "metadata": {
    "collapsed": false
   },
   "outputs": [
    {
     "data": {
      "text/plain": [
       "array([ 0.12845774,  0.38304447,  0.77921248,  0.9376288 ])"
      ]
     },
     "execution_count": 450,
     "metadata": {},
     "output_type": "execute_result"
    }
   ],
   "source": [
    "predict_X = pd.DataFrame({'intercept': [1,1,1,1],\n",
    "        'sessions': [1,5,10,10],\n",
    "        'focus':[0,0,0,0],\n",
    "        'gender':[0,0,0,0],\n",
    "        'dob_given':[0,0,1,1],\n",
    "        'exp_2': [1,0,0,0],\n",
    "        'exp_3': [0,1,1,0],\n",
    "        'exp_4': [0,0,0,1]})\n",
    "model.predict(predict_X)"
   ]
  },
  {
   "cell_type": "markdown",
   "metadata": {},
   "source": [
    "<i>We can see that for a user with the same amount of sessions (10) and dob_given (1), changing experience level from 3 to 4 increased the probability of subscribtion from 22% to 67%.</i>"
   ]
  },
  {
   "cell_type": "markdown",
   "metadata": {},
   "source": [
    "<h3><i>Let's compate with sklearn Logistic regression model and also split the dataset into test and train data:</i></h3>"
   ]
  },
  {
   "cell_type": "code",
   "execution_count": 367,
   "metadata": {
    "collapsed": false
   },
   "outputs": [],
   "source": [
    "X = df[ ['sec', 'dob_given', 'exp_2', 'exp_3', 'exp_4'] ]\n",
    "c = df.subscribedYN\n",
    "model = linear_model.LogisticRegression(C=10**2).fit(X,c)"
   ]
  },
  {
   "cell_type": "code",
   "execution_count": 368,
   "metadata": {
    "collapsed": false
   },
   "outputs": [
    {
     "data": {
      "text/plain": [
       "0.94789108382274423"
      ]
     },
     "execution_count": 368,
     "metadata": {},
     "output_type": "execute_result"
    }
   ],
   "source": [
    "model.score(X,c)"
   ]
  },
  {
   "cell_type": "code",
   "execution_count": 369,
   "metadata": {
    "collapsed": false
   },
   "outputs": [
    {
     "name": "stdout",
     "output_type": "stream",
     "text": [
      "[ 0.00396502]\n",
      "[[  1.00046005   1.50501464   2.9861234    7.07939682  34.92977329]]\n"
     ]
    }
   ],
   "source": [
    "print np.exp(model.intercept_)\n",
    "print np.exp(model.coef_)"
   ]
  },
  {
   "cell_type": "markdown",
   "metadata": {},
   "source": [
    "<i>These coeficients are very close to the previous logistic regression model built with statsmodels.</i>"
   ]
  },
  {
   "cell_type": "code",
   "execution_count": 370,
   "metadata": {
    "collapsed": false
   },
   "outputs": [
    {
     "ename": "ValueError",
     "evalue": "labels ['intercept'] not contained in axis",
     "output_type": "error",
     "traceback": [
      "\u001b[0;31m---------------------------------------------------------------------------\u001b[0m",
      "\u001b[0;31mValueError\u001b[0m                                Traceback (most recent call last)",
      "\u001b[0;32m<ipython-input-370-38155e0da24a>\u001b[0m in \u001b[0;36m<module>\u001b[0;34m()\u001b[0m\n\u001b[0;32m----> 1\u001b[0;31m \u001b[0mpredict_X\u001b[0m\u001b[0;34m.\u001b[0m\u001b[0mdrop\u001b[0m\u001b[0;34m(\u001b[0m\u001b[0;34m'intercept'\u001b[0m\u001b[0;34m,\u001b[0m\u001b[0maxis\u001b[0m \u001b[0;34m=\u001b[0m \u001b[0;36m1\u001b[0m\u001b[0;34m,\u001b[0m \u001b[0minplace\u001b[0m \u001b[0;34m=\u001b[0m \u001b[0mTrue\u001b[0m\u001b[0;34m)\u001b[0m\u001b[0;34m\u001b[0m\u001b[0m\n\u001b[0m",
      "\u001b[0;32m/Users/ga/anaconda/lib/python2.7/site-packages/pandas/core/generic.pyc\u001b[0m in \u001b[0;36mdrop\u001b[0;34m(self, labels, axis, level, inplace, errors)\u001b[0m\n\u001b[1;32m   1875\u001b[0m                 \u001b[0mnew_axis\u001b[0m \u001b[0;34m=\u001b[0m \u001b[0maxis\u001b[0m\u001b[0;34m.\u001b[0m\u001b[0mdrop\u001b[0m\u001b[0;34m(\u001b[0m\u001b[0mlabels\u001b[0m\u001b[0;34m,\u001b[0m \u001b[0mlevel\u001b[0m\u001b[0;34m=\u001b[0m\u001b[0mlevel\u001b[0m\u001b[0;34m,\u001b[0m \u001b[0merrors\u001b[0m\u001b[0;34m=\u001b[0m\u001b[0merrors\u001b[0m\u001b[0;34m)\u001b[0m\u001b[0;34m\u001b[0m\u001b[0m\n\u001b[1;32m   1876\u001b[0m             \u001b[0;32melse\u001b[0m\u001b[0;34m:\u001b[0m\u001b[0;34m\u001b[0m\u001b[0m\n\u001b[0;32m-> 1877\u001b[0;31m                 \u001b[0mnew_axis\u001b[0m \u001b[0;34m=\u001b[0m \u001b[0maxis\u001b[0m\u001b[0;34m.\u001b[0m\u001b[0mdrop\u001b[0m\u001b[0;34m(\u001b[0m\u001b[0mlabels\u001b[0m\u001b[0;34m,\u001b[0m \u001b[0merrors\u001b[0m\u001b[0;34m=\u001b[0m\u001b[0merrors\u001b[0m\u001b[0;34m)\u001b[0m\u001b[0;34m\u001b[0m\u001b[0m\n\u001b[0m\u001b[1;32m   1878\u001b[0m             \u001b[0mdropped\u001b[0m \u001b[0;34m=\u001b[0m \u001b[0mself\u001b[0m\u001b[0;34m.\u001b[0m\u001b[0mreindex\u001b[0m\u001b[0;34m(\u001b[0m\u001b[0;34m**\u001b[0m\u001b[0;34m{\u001b[0m\u001b[0maxis_name\u001b[0m\u001b[0;34m:\u001b[0m \u001b[0mnew_axis\u001b[0m\u001b[0;34m}\u001b[0m\u001b[0;34m)\u001b[0m\u001b[0;34m\u001b[0m\u001b[0m\n\u001b[1;32m   1879\u001b[0m             \u001b[0;32mtry\u001b[0m\u001b[0;34m:\u001b[0m\u001b[0;34m\u001b[0m\u001b[0m\n",
      "\u001b[0;32m/Users/ga/anaconda/lib/python2.7/site-packages/pandas/indexes/base.pyc\u001b[0m in \u001b[0;36mdrop\u001b[0;34m(self, labels, errors)\u001b[0m\n\u001b[1;32m   3049\u001b[0m             \u001b[0;32mif\u001b[0m \u001b[0merrors\u001b[0m \u001b[0;34m!=\u001b[0m \u001b[0;34m'ignore'\u001b[0m\u001b[0;34m:\u001b[0m\u001b[0;34m\u001b[0m\u001b[0m\n\u001b[1;32m   3050\u001b[0m                 raise ValueError('labels %s not contained in axis' %\n\u001b[0;32m-> 3051\u001b[0;31m                                  labels[mask])\n\u001b[0m\u001b[1;32m   3052\u001b[0m             \u001b[0mindexer\u001b[0m \u001b[0;34m=\u001b[0m \u001b[0mindexer\u001b[0m\u001b[0;34m[\u001b[0m\u001b[0;34m~\u001b[0m\u001b[0mmask\u001b[0m\u001b[0;34m]\u001b[0m\u001b[0;34m\u001b[0m\u001b[0m\n\u001b[1;32m   3053\u001b[0m         \u001b[0;32mreturn\u001b[0m \u001b[0mself\u001b[0m\u001b[0;34m.\u001b[0m\u001b[0mdelete\u001b[0m\u001b[0;34m(\u001b[0m\u001b[0mindexer\u001b[0m\u001b[0;34m)\u001b[0m\u001b[0;34m\u001b[0m\u001b[0m\n",
      "\u001b[0;31mValueError\u001b[0m: labels ['intercept'] not contained in axis"
     ]
    }
   ],
   "source": [
    "predict_X.drop('intercept',axis = 1, inplace = True)"
   ]
  },
  {
   "cell_type": "code",
   "execution_count": 372,
   "metadata": {
    "collapsed": false
   },
   "outputs": [
    {
     "name": "stdout",
     "output_type": "stream",
     "text": [
      "[1 1 1 1]\n",
      "[[  6.19504448e-14   1.00000000e+00]\n",
      " [  0.00000000e+00   1.00000000e+00]\n",
      " [  0.00000000e+00   1.00000000e+00]\n",
      " [  0.00000000e+00   1.00000000e+00]]\n"
     ]
    }
   ],
   "source": [
    "print model.predict(predict_X)\n",
    "print model.predict_proba(predict_X)"
   ]
  },
  {
   "cell_type": "markdown",
   "metadata": {},
   "source": [
    "<i>Hm. Something went wrong with the predictions.</i>"
   ]
  },
  {
   "cell_type": "markdown",
   "metadata": {},
   "source": [
    "<h3><i>Let's spit the dataset into train and test data, and check model's accuracy:</i></h3>"
   ]
  },
  {
   "cell_type": "code",
   "execution_count": 373,
   "metadata": {
    "collapsed": true
   },
   "outputs": [],
   "source": [
    "train_df = df.sample(frac = .6)\n",
    "test_df = df.drop(train_df.index)"
   ]
  },
  {
   "cell_type": "markdown",
   "metadata": {},
   "source": [
    "<i>Using same features:</i>"
   ]
  },
  {
   "cell_type": "code",
   "execution_count": 374,
   "metadata": {
    "collapsed": true
   },
   "outputs": [],
   "source": [
    "features = ['sec', 'dob_given', 'exp_2', 'exp_3', 'exp_4']\n",
    "def X_subs(df):\n",
    "    X = df[features]\n",
    "    subs = df.subscribedYN\n",
    "    return X, subs\n",
    "\n",
    "train_X, train_subs = X_subs(train_df)\n",
    "test_X, test_subs = X_subs(test_df)"
   ]
  },
  {
   "cell_type": "code",
   "execution_count": 375,
   "metadata": {
    "collapsed": false
   },
   "outputs": [
    {
     "name": "stdout",
     "output_type": "stream",
     "text": [
      "[ 0.00371646]\n",
      "[[  1.00046248   1.6832455    3.28576597   7.20564337  32.97859988]]\n"
     ]
    }
   ],
   "source": [
    "model = linear_model.LogisticRegression(C=10**2).fit(train_X,train_subs)\n",
    "print np.exp(model.intercept_)\n",
    "print np.exp(model.coef_)"
   ]
  },
  {
   "cell_type": "code",
   "execution_count": 376,
   "metadata": {
    "collapsed": false
   },
   "outputs": [
    {
     "name": "stdout",
     "output_type": "stream",
     "text": [
      "training data model accuracy:  0.947321587471\n",
      "testing data model accuracy:  0.949145755473\n",
      "training err:  0.0526784125289\n",
      "testing err:  0.0508542445275\n"
     ]
    }
   ],
   "source": [
    "print 'training data model accuracy: ', model.score(train_X,train_subs)\n",
    "print 'testing data model accuracy: ', model.score(test_X,test_subs)\n",
    "print 'training err: ', 1 - model.score(train_X,train_subs)\n",
    "print 'testing err: ', 1 - model.score(test_X,test_subs)"
   ]
  },
  {
   "cell_type": "markdown",
   "metadata": {},
   "source": [
    "<i>Although the model shows a good score, I think, it's overfitting. Predictions don't seem to be accurate. My guess, is that the problem related to the low amount of subscribed users. <br>I will try to build a k-NN model and then, propably, will have to sample the data I have.</i>"
   ]
  },
  {
   "cell_type": "markdown",
   "metadata": {},
   "source": [
    "<h4><i>Let's try k-NN (there's no assumption of disctribution):</i></h4>"
   ]
  },
  {
   "cell_type": "code",
   "execution_count": 418,
   "metadata": {
    "collapsed": false
   },
   "outputs": [
    {
     "data": {
      "text/html": [
       "<div>\n",
       "<table border=\"1\" class=\"dataframe\">\n",
       "  <thead>\n",
       "    <tr style=\"text-align: right;\">\n",
       "      <th></th>\n",
       "      <th>subscribedYN</th>\n",
       "      <th>sec</th>\n",
       "      <th>sessions</th>\n",
       "      <th>series</th>\n",
       "      <th>experience</th>\n",
       "      <th>focus</th>\n",
       "      <th>gender</th>\n",
       "      <th>dob_given</th>\n",
       "    </tr>\n",
       "  </thead>\n",
       "  <tbody>\n",
       "    <tr>\n",
       "      <th>0</th>\n",
       "      <td>1</td>\n",
       "      <td>225</td>\n",
       "      <td>1</td>\n",
       "      <td>0</td>\n",
       "      <td>2</td>\n",
       "      <td>0</td>\n",
       "      <td>1</td>\n",
       "      <td>1</td>\n",
       "    </tr>\n",
       "    <tr>\n",
       "      <th>1</th>\n",
       "      <td>0</td>\n",
       "      <td>1795</td>\n",
       "      <td>1</td>\n",
       "      <td>0</td>\n",
       "      <td>3</td>\n",
       "      <td>1</td>\n",
       "      <td>0</td>\n",
       "      <td>1</td>\n",
       "    </tr>\n",
       "    <tr>\n",
       "      <th>2</th>\n",
       "      <td>1</td>\n",
       "      <td>3750</td>\n",
       "      <td>9</td>\n",
       "      <td>2</td>\n",
       "      <td>4</td>\n",
       "      <td>0</td>\n",
       "      <td>0</td>\n",
       "      <td>1</td>\n",
       "    </tr>\n",
       "    <tr>\n",
       "      <th>3</th>\n",
       "      <td>0</td>\n",
       "      <td>635</td>\n",
       "      <td>2</td>\n",
       "      <td>0</td>\n",
       "      <td>3</td>\n",
       "      <td>0</td>\n",
       "      <td>0</td>\n",
       "      <td>1</td>\n",
       "    </tr>\n",
       "    <tr>\n",
       "      <th>4</th>\n",
       "      <td>1</td>\n",
       "      <td>810</td>\n",
       "      <td>4</td>\n",
       "      <td>0</td>\n",
       "      <td>4</td>\n",
       "      <td>0</td>\n",
       "      <td>0</td>\n",
       "      <td>1</td>\n",
       "    </tr>\n",
       "  </tbody>\n",
       "</table>\n",
       "</div>"
      ],
      "text/plain": [
       "   subscribedYN   sec  sessions  series  experience  focus  gender  dob_given\n",
       "0             1   225         1       0           2      0       1          1\n",
       "1             0  1795         1       0           3      1       0          1\n",
       "2             1  3750         9       2           4      0       0          1\n",
       "3             0   635         2       0           3      0       0          1\n",
       "4             1   810         4       0           4      0       0          1"
      ]
     },
     "execution_count": 418,
     "metadata": {},
     "output_type": "execute_result"
    }
   ],
   "source": [
    "df = original_df(df)\n",
    "df.head()"
   ]
  },
  {
   "cell_type": "markdown",
   "metadata": {},
   "source": [
    "<i>Splitting into train and test data:</i>"
   ]
  },
  {
   "cell_type": "code",
   "execution_count": 419,
   "metadata": {
    "collapsed": true
   },
   "outputs": [],
   "source": [
    "train_df = df.sample(frac = .6).sort_index()\n",
    "test_df = df.drop(train_df.index)"
   ]
  },
  {
   "cell_type": "code",
   "execution_count": 420,
   "metadata": {
    "collapsed": true
   },
   "outputs": [],
   "source": [
    "train_X, test_X, train_c, test_c = cross_validation.train_test_split(X, c, train_size = .6)"
   ]
  },
  {
   "cell_type": "code",
   "execution_count": 421,
   "metadata": {
    "collapsed": false
   },
   "outputs": [
    {
     "data": {
      "text/plain": [
       "0.95782167645488525"
      ]
     },
     "execution_count": 421,
     "metadata": {},
     "output_type": "execute_result"
    }
   ],
   "source": [
    "train_X = train_df[ ['sec', 'experience', 'dob_given'] ]\n",
    "\n",
    "scaler = preprocessing.MinMaxScaler().fit(train_X)\n",
    "\n",
    "train_X = scaler.transform(train_X)\n",
    "train_c = train_df.subscribedYN\n",
    "\n",
    "model = neighbors.KNeighborsClassifier(n_neighbors = 5, weights = 'uniform').fit(train_X, train_c)\n",
    "\n",
    "model.score(train_X, train_c)"
   ]
  },
  {
   "cell_type": "code",
   "execution_count": 422,
   "metadata": {
    "collapsed": false
   },
   "outputs": [
    {
     "data": {
      "text/plain": [
       "0.94887880405766145"
      ]
     },
     "execution_count": 422,
     "metadata": {},
     "output_type": "execute_result"
    }
   ],
   "source": [
    "test_X = test_df[  ['sec', 'experience', 'dob_given'] ]\n",
    "test_X = scaler.transform(test_X)\n",
    "test_c = test_df.subscribedYN\n",
    "\n",
    "model.score(test_X, test_c)"
   ]
  },
  {
   "cell_type": "markdown",
   "metadata": {},
   "source": [
    "<i>Before starting optimizing the model, let's check the predictions:</i>"
   ]
  },
  {
   "cell_type": "code",
   "execution_count": 423,
   "metadata": {
    "collapsed": false
   },
   "outputs": [
    {
     "data": {
      "text/plain": [
       "array([0, 0, 0, 0])"
      ]
     },
     "execution_count": 423,
     "metadata": {},
     "output_type": "execute_result"
    }
   ],
   "source": [
    "predict_X = pd.DataFrame({'sec': [30,100,50000,2000000],\n",
    "        'experience': [1,2,3,4],\n",
    "        'dob_given':[0,0,1,1]})\n",
    "predict_X = scaler.transform(predict_X)\n",
    "\n",
    "predict_c = model.predict(predict_X)\n",
    "predict_c"
   ]
  },
  {
   "cell_type": "markdown",
   "metadata": {},
   "source": [
    "<i>After changing X multiple times I still get the same prediction => 0 class, that means user won't subscribe. It makes sence, my model is overfitting towards the bigger class. I only have about 6% of users subscribed, remaining 94% are '0' class. \n",
    "<br>Model accuracy is about 95%, probably those are mine 'not-subscribed' users. <br> Let's try to sample the data, so we have even amount of subscribed and not-subscribed users:</i>"
   ]
  },
  {
   "cell_type": "code",
   "execution_count": 424,
   "metadata": {
    "collapsed": false
   },
   "outputs": [
    {
     "data": {
      "text/plain": [
       "(1099, 8)"
      ]
     },
     "execution_count": 424,
     "metadata": {},
     "output_type": "execute_result"
    }
   ],
   "source": [
    "s_df = df[df.subscribedYN==1]\n",
    "s_df.shape"
   ]
  },
  {
   "cell_type": "code",
   "execution_count": 425,
   "metadata": {
    "collapsed": false
   },
   "outputs": [
    {
     "data": {
      "text/plain": [
       "(1099, 8)"
      ]
     },
     "execution_count": 425,
     "metadata": {},
     "output_type": "execute_result"
    }
   ],
   "source": [
    "ns_df = df[df.subscribedYN==0].sample(n=1099)\n",
    "ns_df.shape"
   ]
  },
  {
   "cell_type": "code",
   "execution_count": 426,
   "metadata": {
    "collapsed": false
   },
   "outputs": [],
   "source": [
    "df = pd.concat([s_df, ns_df])"
   ]
  },
  {
   "cell_type": "markdown",
   "metadata": {},
   "source": [
    "<i>We received a new data frame with even amount of subscribed and not subscribed users.</i>"
   ]
  },
  {
   "cell_type": "code",
   "execution_count": 427,
   "metadata": {
    "collapsed": false
   },
   "outputs": [
    {
     "data": {
      "text/plain": [
       "(2198, 8)"
      ]
     },
     "execution_count": 427,
     "metadata": {},
     "output_type": "execute_result"
    }
   ],
   "source": [
    "df.shape"
   ]
  },
  {
   "cell_type": "markdown",
   "metadata": {},
   "source": [
    "Let's try again:"
   ]
  },
  {
   "cell_type": "code",
   "execution_count": 428,
   "metadata": {
    "collapsed": false
   },
   "outputs": [
    {
     "data": {
      "text/plain": [
       "0.85216072782410912"
      ]
     },
     "execution_count": 428,
     "metadata": {},
     "output_type": "execute_result"
    }
   ],
   "source": [
    "#Rebuilding:\n",
    "train_df = df.sample(frac = .6).sort_index()\n",
    "test_df = df.drop(train_df.index)\n",
    "\n",
    "train_X, test_X, train_c, test_c = cross_validation.train_test_split(X, c, train_size = .6)\n",
    "train_X = train_df[ ['sec', 'experience','dob_given'] ]\n",
    "\n",
    "scaler = preprocessing.MinMaxScaler().fit(train_X)\n",
    "\n",
    "train_X = scaler.transform(train_X)\n",
    "train_c = train_df.subscribedYN\n",
    "\n",
    "model = neighbors.KNeighborsClassifier(n_neighbors = 8, weights = 'uniform').fit(train_X, train_c)\n",
    "model.score(train_X, train_c)"
   ]
  },
  {
   "cell_type": "code",
   "execution_count": 429,
   "metadata": {
    "collapsed": false
   },
   "outputs": [
    {
     "data": {
      "text/plain": [
       "array([0, 0, 0, 1])"
      ]
     },
     "execution_count": 429,
     "metadata": {},
     "output_type": "execute_result"
    }
   ],
   "source": [
    "predict_X = pd.DataFrame({'sec': [5000,10000,100000,100000],\n",
    "        'experience': [1,2,3,4],\n",
    "        'dob_given':[0,0,1,1]})\n",
    "predict_X = scaler.transform(predict_X)\n",
    "\n",
    "predict_c = model.predict(predict_X)\n",
    "predict_c"
   ]
  },
  {
   "cell_type": "markdown",
   "metadata": {},
   "source": [
    "<i>Looks better. Note, for 3rd and 4th prediction I used the same amount of sec, same focus and dob_given, but I changed the experience level from 3 to 4. As a result, 3rd prediction is 0, and 4th is 1. <br> Model works, and experience level obviously influence user's subscription.</i>"
   ]
  },
  {
   "cell_type": "code",
   "execution_count": 430,
   "metadata": {
    "collapsed": false
   },
   "outputs": [
    {
     "data": {
      "text/html": [
       "<div>\n",
       "<table border=\"1\" class=\"dataframe\">\n",
       "  <thead>\n",
       "    <tr style=\"text-align: right;\">\n",
       "      <th></th>\n",
       "      <th>subscribedYN</th>\n",
       "      <th>sec</th>\n",
       "      <th>sessions</th>\n",
       "      <th>series</th>\n",
       "      <th>focus</th>\n",
       "      <th>...</th>\n",
       "      <th>dob_given</th>\n",
       "      <th>exp_1</th>\n",
       "      <th>exp_2</th>\n",
       "      <th>exp_3</th>\n",
       "      <th>exp_4</th>\n",
       "    </tr>\n",
       "  </thead>\n",
       "  <tbody>\n",
       "    <tr>\n",
       "      <th>0</th>\n",
       "      <td>1</td>\n",
       "      <td>225</td>\n",
       "      <td>1</td>\n",
       "      <td>0</td>\n",
       "      <td>0</td>\n",
       "      <td>...</td>\n",
       "      <td>1</td>\n",
       "      <td>0.0</td>\n",
       "      <td>1.0</td>\n",
       "      <td>0.0</td>\n",
       "      <td>0.0</td>\n",
       "    </tr>\n",
       "    <tr>\n",
       "      <th>2</th>\n",
       "      <td>1</td>\n",
       "      <td>3750</td>\n",
       "      <td>9</td>\n",
       "      <td>2</td>\n",
       "      <td>0</td>\n",
       "      <td>...</td>\n",
       "      <td>1</td>\n",
       "      <td>0.0</td>\n",
       "      <td>0.0</td>\n",
       "      <td>0.0</td>\n",
       "      <td>1.0</td>\n",
       "    </tr>\n",
       "    <tr>\n",
       "      <th>4</th>\n",
       "      <td>1</td>\n",
       "      <td>810</td>\n",
       "      <td>4</td>\n",
       "      <td>0</td>\n",
       "      <td>0</td>\n",
       "      <td>...</td>\n",
       "      <td>1</td>\n",
       "      <td>0.0</td>\n",
       "      <td>0.0</td>\n",
       "      <td>0.0</td>\n",
       "      <td>1.0</td>\n",
       "    </tr>\n",
       "    <tr>\n",
       "      <th>17</th>\n",
       "      <td>1</td>\n",
       "      <td>1605</td>\n",
       "      <td>5</td>\n",
       "      <td>0</td>\n",
       "      <td>0</td>\n",
       "      <td>...</td>\n",
       "      <td>1</td>\n",
       "      <td>0.0</td>\n",
       "      <td>0.0</td>\n",
       "      <td>0.0</td>\n",
       "      <td>1.0</td>\n",
       "    </tr>\n",
       "    <tr>\n",
       "      <th>20</th>\n",
       "      <td>1</td>\n",
       "      <td>355</td>\n",
       "      <td>1</td>\n",
       "      <td>0</td>\n",
       "      <td>0</td>\n",
       "      <td>...</td>\n",
       "      <td>1</td>\n",
       "      <td>0.0</td>\n",
       "      <td>0.0</td>\n",
       "      <td>1.0</td>\n",
       "      <td>0.0</td>\n",
       "    </tr>\n",
       "  </tbody>\n",
       "</table>\n",
       "<p>5 rows × 11 columns</p>\n",
       "</div>"
      ],
      "text/plain": [
       "    subscribedYN   sec  sessions  series  focus  ...    dob_given  exp_1  \\\n",
       "0              1   225         1       0      0  ...            1    0.0   \n",
       "2              1  3750         9       2      0  ...            1    0.0   \n",
       "4              1   810         4       0      0  ...            1    0.0   \n",
       "17             1  1605         5       0      0  ...            1    0.0   \n",
       "20             1   355         1       0      0  ...            1    0.0   \n",
       "\n",
       "    exp_2  exp_3  exp_4  \n",
       "0     1.0    0.0    0.0  \n",
       "2     0.0    0.0    1.0  \n",
       "4     0.0    0.0    1.0  \n",
       "17    0.0    0.0    1.0  \n",
       "20    0.0    1.0    0.0  \n",
       "\n",
       "[5 rows x 11 columns]"
      ]
     },
     "execution_count": 430,
     "metadata": {},
     "output_type": "execute_result"
    }
   ],
   "source": [
    "experience_df = pd.get_dummies(df.experience, prefix = 'exp')\n",
    "\n",
    "experience_df.rename(columns = {'exp_1.0': 'exp_1',\n",
    "                              'exp_2.0': 'exp_2',\n",
    "                              'exp_3.0': 'exp_3',\n",
    "                              'exp_4.0': 'exp_4'}, inplace = True)\n",
    "df = df.join(experience_df)\n",
    "df.drop(['experience'], axis = 1, inplace = True)\n",
    "df.head()"
   ]
  },
  {
   "cell_type": "code",
   "execution_count": 431,
   "metadata": {
    "collapsed": false
   },
   "outputs": [
    {
     "name": "stdout",
     "output_type": "stream",
     "text": [
      "Optimization terminated successfully.\n",
      "         Current function value: 0.412103\n",
      "         Iterations 8\n"
     ]
    },
    {
     "data": {
      "text/html": [
       "<table class=\"simpletable\">\n",
       "<caption>Logit Regression Results</caption>\n",
       "<tr>\n",
       "  <th>Dep. Variable:</th>   <td>subscribedYN</td>   <th>  No. Observations:  </th>   <td>  2198</td>  \n",
       "</tr>\n",
       "<tr>\n",
       "  <th>Model:</th>               <td>Logit</td>      <th>  Df Residuals:      </th>   <td>  2192</td>  \n",
       "</tr>\n",
       "<tr>\n",
       "  <th>Method:</th>               <td>MLE</td>       <th>  Df Model:          </th>   <td>     5</td>  \n",
       "</tr>\n",
       "<tr>\n",
       "  <th>Date:</th>          <td>Mon, 07 Nov 2016</td> <th>  Pseudo R-squ.:     </th>   <td>0.4055</td>  \n",
       "</tr>\n",
       "<tr>\n",
       "  <th>Time:</th>              <td>23:48:27</td>     <th>  Log-Likelihood:    </th>  <td> -905.80</td> \n",
       "</tr>\n",
       "<tr>\n",
       "  <th>converged:</th>           <td>True</td>       <th>  LL-Null:           </th>  <td> -1523.5</td> \n",
       "</tr>\n",
       "<tr>\n",
       "  <th> </th>                      <td> </td>        <th>  LLR p-value:       </th> <td>6.090e-265</td>\n",
       "</tr>\n",
       "</table>\n",
       "<table class=\"simpletable\">\n",
       "<tr>\n",
       "      <td></td>         <th>coef</th>     <th>std err</th>      <th>z</th>      <th>P>|z|</th> <th>[95.0% Conf. Int.]</th> \n",
       "</tr>\n",
       "<tr>\n",
       "  <th>Intercept</th> <td>   -3.4535</td> <td>    0.207</td> <td>  -16.676</td> <td> 0.000</td> <td>   -3.859    -3.048</td>\n",
       "</tr>\n",
       "<tr>\n",
       "  <th>sec</th>       <td>    0.0006</td> <td>  3.4e-05</td> <td>   18.385</td> <td> 0.000</td> <td>    0.001     0.001</td>\n",
       "</tr>\n",
       "<tr>\n",
       "  <th>dob_given</th> <td>    0.5431</td> <td>    0.118</td> <td>    4.588</td> <td> 0.000</td> <td>    0.311     0.775</td>\n",
       "</tr>\n",
       "<tr>\n",
       "  <th>exp_2</th>     <td>    1.5210</td> <td>    0.214</td> <td>    7.101</td> <td> 0.000</td> <td>    1.101     1.941</td>\n",
       "</tr>\n",
       "<tr>\n",
       "  <th>exp_3</th>     <td>    2.0784</td> <td>    0.200</td> <td>   10.392</td> <td> 0.000</td> <td>    1.686     2.470</td>\n",
       "</tr>\n",
       "<tr>\n",
       "  <th>exp_4</th>     <td>    3.5385</td> <td>    0.245</td> <td>   14.430</td> <td> 0.000</td> <td>    3.058     4.019</td>\n",
       "</tr>\n",
       "</table>"
      ],
      "text/plain": [
       "<class 'statsmodels.iolib.summary.Summary'>\n",
       "\"\"\"\n",
       "                           Logit Regression Results                           \n",
       "==============================================================================\n",
       "Dep. Variable:           subscribedYN   No. Observations:                 2198\n",
       "Model:                          Logit   Df Residuals:                     2192\n",
       "Method:                           MLE   Df Model:                            5\n",
       "Date:                Mon, 07 Nov 2016   Pseudo R-squ.:                  0.4055\n",
       "Time:                        23:48:27   Log-Likelihood:                -905.80\n",
       "converged:                       True   LL-Null:                       -1523.5\n",
       "                                        LLR p-value:                6.090e-265\n",
       "==============================================================================\n",
       "                 coef    std err          z      P>|z|      [95.0% Conf. Int.]\n",
       "------------------------------------------------------------------------------\n",
       "Intercept     -3.4535      0.207    -16.676      0.000        -3.859    -3.048\n",
       "sec            0.0006    3.4e-05     18.385      0.000         0.001     0.001\n",
       "dob_given      0.5431      0.118      4.588      0.000         0.311     0.775\n",
       "exp_2          1.5210      0.214      7.101      0.000         1.101     1.941\n",
       "exp_3          2.0784      0.200     10.392      0.000         1.686     2.470\n",
       "exp_4          3.5385      0.245     14.430      0.000         3.058     4.019\n",
       "==============================================================================\n",
       "\"\"\""
      ]
     },
     "execution_count": 431,
     "metadata": {},
     "output_type": "execute_result"
    }
   ],
   "source": [
    "model = smf.logit(formula = 'subscribedYN ~ sec + \\\n",
    "                dob_given + exp_2 + exp_3 + exp_4', data = df).fit()\n",
    "model.summary()"
   ]
  },
  {
   "cell_type": "code",
   "execution_count": 432,
   "metadata": {
    "collapsed": false
   },
   "outputs": [
    {
     "data": {
      "text/plain": [
       "Intercept     0.031633\n",
       "sec           1.000625\n",
       "dob_given     1.721410\n",
       "exp_2         4.576919\n",
       "exp_3         7.991974\n",
       "exp_4        34.414868\n",
       "dtype: float64"
      ]
     },
     "execution_count": 432,
     "metadata": {},
     "output_type": "execute_result"
    }
   ],
   "source": [
    "np.exp(model.params)"
   ]
  },
  {
   "cell_type": "code",
   "execution_count": 433,
   "metadata": {
    "collapsed": false
   },
   "outputs": [
    {
     "data": {
      "text/plain": [
       "array([ 0.12786046,  0.32083341,  0.85203894,  0.97710952])"
      ]
     },
     "execution_count": 433,
     "metadata": {},
     "output_type": "execute_result"
    }
   ],
   "source": [
    "predict_X = pd.DataFrame({'intercept': [1,1,1,1],\n",
    "        'sec': [20,1000,5000,5000],\n",
    "        'dob_given':[0,0,0,1],\n",
    "        'exp_2': [1,0,0,0],\n",
    "        'exp_3': [0,1,1,0],\n",
    "        'exp_4': [0,0,0,1]})\n",
    "model.predict(predict_X)"
   ]
  },
  {
   "cell_type": "code",
   "execution_count": 434,
   "metadata": {
    "collapsed": false
   },
   "outputs": [
    {
     "name": "stdout",
     "output_type": "stream",
     "text": [
      "Model score:  0.804822565969\n",
      "Intercept: [ 0.43358786]\n"
     ]
    },
    {
     "data": {
      "text/plain": [
       "[('sec', 0.00053082068924714676),\n",
       " ('dob_given', -0.15514450002135305),\n",
       " ('exp_2', -0.2652814983598778),\n",
       " ('exp_3', -0.13233385703635592),\n",
       " ('exp_4', 0.16161627080093477)]"
      ]
     },
     "execution_count": 434,
     "metadata": {},
     "output_type": "execute_result"
    }
   ],
   "source": [
    "X = df[ ['sec', 'dob_given', 'exp_2','exp_3','exp_4'] ]\n",
    "c = df.subscribedYN\n",
    "features = ['sec', 'dob_given', 'exp_2', 'exp_3', 'exp_4']\n",
    "model = linear_model.LogisticRegression(C=10**2).fit(X,c)\n",
    "print \"Model score: \",model.score(X,c)\n",
    "print \"Intercept:\", np.exp(model.intercept_)\n",
    "zip(features, np.exp(model.coef_[0])-1)"
   ]
  },
  {
   "cell_type": "code",
   "execution_count": 435,
   "metadata": {
    "collapsed": true
   },
   "outputs": [],
   "source": [
    "train_df = df.sample(frac = .6)\n",
    "test_df = df.drop(train_df.index)\n",
    "\n",
    "train_X, train_subs = X_subs(train_df)\n",
    "test_X, test_subs = X_subs(test_df)"
   ]
  },
  {
   "cell_type": "code",
   "execution_count": 436,
   "metadata": {
    "collapsed": false
   },
   "outputs": [
    {
     "name": "stdout",
     "output_type": "stream",
     "text": [
      "[ 0.43879107]\n",
      "[[ 1.00054863  0.88654003  0.76059396  0.82998484  1.15265635]]\n",
      "training data model accuracy:  0.80439727066\n",
      "testing data model accuracy:  0.803185437998\n",
      "training err:  0.19560272934\n",
      "testing err:  0.196814562002\n"
     ]
    }
   ],
   "source": [
    "model = linear_model.LogisticRegression(C=10**2).fit(train_X,train_subs)\n",
    "print np.exp(model.intercept_)\n",
    "print np.exp(model.coef_)\n",
    "print 'training data model accuracy: ', model.score(train_X,train_subs)\n",
    "print 'testing data model accuracy: ', model.score(test_X,test_subs)\n",
    "print 'training err: ', 1 - model.score(train_X,train_subs)\n",
    "print 'testing err: ', 1 - model.score(test_X,test_subs)"
   ]
  },
  {
   "cell_type": "code",
   "execution_count": 437,
   "metadata": {
    "collapsed": false
   },
   "outputs": [
    {
     "data": {
      "text/html": [
       "<div>\n",
       "<table border=\"1\" class=\"dataframe\">\n",
       "  <thead>\n",
       "    <tr style=\"text-align: right;\">\n",
       "      <th></th>\n",
       "      <th>dob_given</th>\n",
       "      <th>exp_2</th>\n",
       "      <th>exp_3</th>\n",
       "      <th>exp_4</th>\n",
       "      <th>sec</th>\n",
       "    </tr>\n",
       "  </thead>\n",
       "  <tbody>\n",
       "    <tr>\n",
       "      <th>0</th>\n",
       "      <td>0</td>\n",
       "      <td>1</td>\n",
       "      <td>0</td>\n",
       "      <td>0</td>\n",
       "      <td>20</td>\n",
       "    </tr>\n",
       "    <tr>\n",
       "      <th>1</th>\n",
       "      <td>0</td>\n",
       "      <td>0</td>\n",
       "      <td>1</td>\n",
       "      <td>0</td>\n",
       "      <td>1000</td>\n",
       "    </tr>\n",
       "    <tr>\n",
       "      <th>2</th>\n",
       "      <td>0</td>\n",
       "      <td>0</td>\n",
       "      <td>1</td>\n",
       "      <td>0</td>\n",
       "      <td>5000</td>\n",
       "    </tr>\n",
       "    <tr>\n",
       "      <th>3</th>\n",
       "      <td>1</td>\n",
       "      <td>0</td>\n",
       "      <td>0</td>\n",
       "      <td>1</td>\n",
       "      <td>5000</td>\n",
       "    </tr>\n",
       "  </tbody>\n",
       "</table>\n",
       "</div>"
      ],
      "text/plain": [
       "   dob_given  exp_2  exp_3  exp_4   sec\n",
       "0          0      1      0      0    20\n",
       "1          0      0      1      0  1000\n",
       "2          0      0      1      0  5000\n",
       "3          1      0      0      1  5000"
      ]
     },
     "execution_count": 437,
     "metadata": {},
     "output_type": "execute_result"
    }
   ],
   "source": [
    "predict_X.drop('intercept',axis = 1, inplace = True)\n",
    "predict_X"
   ]
  },
  {
   "cell_type": "code",
   "execution_count": 438,
   "metadata": {
    "collapsed": false
   },
   "outputs": [
    {
     "name": "stdout",
     "output_type": "stream",
     "text": [
      "[1 1 1 1]\n",
      "[[ 0.13042321  0.86957679]\n",
      " [ 0.          1.        ]\n",
      " [ 0.          1.        ]\n",
      " [ 0.          1.        ]]\n"
     ]
    }
   ],
   "source": [
    "print model.predict(predict_X)\n",
    "print model.predict_proba(predict_X)"
   ]
  },
  {
   "cell_type": "code",
   "execution_count": null,
   "metadata": {
    "collapsed": true
   },
   "outputs": [],
   "source": []
  }
 ],
 "metadata": {
  "anaconda-cloud": {},
  "kernelspec": {
   "display_name": "Python [Root]",
   "language": "python",
   "name": "Python [Root]"
  },
  "language_info": {
   "codemirror_mode": {
    "name": "ipython",
    "version": 2
   },
   "file_extension": ".py",
   "mimetype": "text/x-python",
   "name": "python",
   "nbconvert_exporter": "python",
   "pygments_lexer": "ipython2",
   "version": "2.7.12"
  }
 },
 "nbformat": 4,
 "nbformat_minor": 0
}
