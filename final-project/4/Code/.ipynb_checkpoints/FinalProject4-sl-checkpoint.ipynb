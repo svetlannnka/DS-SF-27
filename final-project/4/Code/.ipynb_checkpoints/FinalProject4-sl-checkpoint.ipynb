{
 "cells": [
  {
   "cell_type": "markdown",
   "metadata": {},
   "source": [
    "# Final Project 4."
   ]
  },
  {
   "cell_type": "code",
   "execution_count": 193,
   "metadata": {
    "collapsed": true
   },
   "outputs": [],
   "source": [
    "import os\n",
    "import pandas as pd\n",
    "import matplotlib.pyplot as plt\n",
    "import seaborn as sns\n",
    "import statsmodels.api as sm\n",
    "import statsmodels.formula.api as smf\n",
    "import numpy as np\n",
    "\n",
    "from sklearn import linear_model, preprocessing, neighbors, grid_search, tree, ensemble, metrics, cross_validation, externals\n",
    "\n",
    "pd.set_option('display.max_rows', 10)\n",
    "pd.set_option('display.max_columns', 10)\n",
    "pd.set_option('display.notebook_repr_html', True)\n",
    "\n",
    "%matplotlib inline\n",
    "plt.style.use('ggplot')"
   ]
  },
  {
   "cell_type": "markdown",
   "metadata": {},
   "source": [
    "<i>Problem: I am still trying to predict if user becomes a paid customer based on his activity and Whil sign up info. </i>"
   ]
  },
  {
   "cell_type": "code",
   "execution_count": 194,
   "metadata": {
    "collapsed": false
   },
   "outputs": [
    {
     "data": {
      "text/html": [
       "<div>\n",
       "<table border=\"1\" class=\"dataframe\">\n",
       "  <thead>\n",
       "    <tr style=\"text-align: right;\">\n",
       "      <th></th>\n",
       "      <th>subscribedYN</th>\n",
       "      <th>sec</th>\n",
       "      <th>sessions</th>\n",
       "      <th>series</th>\n",
       "      <th>experience</th>\n",
       "      <th>focus</th>\n",
       "      <th>gender</th>\n",
       "      <th>dob_given</th>\n",
       "    </tr>\n",
       "  </thead>\n",
       "  <tbody>\n",
       "    <tr>\n",
       "      <th>0</th>\n",
       "      <td>1</td>\n",
       "      <td>225</td>\n",
       "      <td>1</td>\n",
       "      <td>0</td>\n",
       "      <td>2</td>\n",
       "      <td>0</td>\n",
       "      <td>1</td>\n",
       "      <td>1</td>\n",
       "    </tr>\n",
       "    <tr>\n",
       "      <th>1</th>\n",
       "      <td>0</td>\n",
       "      <td>1795</td>\n",
       "      <td>1</td>\n",
       "      <td>0</td>\n",
       "      <td>3</td>\n",
       "      <td>1</td>\n",
       "      <td>0</td>\n",
       "      <td>1</td>\n",
       "    </tr>\n",
       "    <tr>\n",
       "      <th>2</th>\n",
       "      <td>1</td>\n",
       "      <td>3750</td>\n",
       "      <td>9</td>\n",
       "      <td>2</td>\n",
       "      <td>4</td>\n",
       "      <td>0</td>\n",
       "      <td>0</td>\n",
       "      <td>1</td>\n",
       "    </tr>\n",
       "    <tr>\n",
       "      <th>3</th>\n",
       "      <td>0</td>\n",
       "      <td>635</td>\n",
       "      <td>2</td>\n",
       "      <td>0</td>\n",
       "      <td>3</td>\n",
       "      <td>0</td>\n",
       "      <td>0</td>\n",
       "      <td>1</td>\n",
       "    </tr>\n",
       "    <tr>\n",
       "      <th>4</th>\n",
       "      <td>1</td>\n",
       "      <td>810</td>\n",
       "      <td>4</td>\n",
       "      <td>0</td>\n",
       "      <td>4</td>\n",
       "      <td>0</td>\n",
       "      <td>0</td>\n",
       "      <td>1</td>\n",
       "    </tr>\n",
       "  </tbody>\n",
       "</table>\n",
       "</div>"
      ],
      "text/plain": [
       "   subscribedYN   sec  sessions  series  experience  focus  gender  dob_given\n",
       "0             1   225         1       0           2      0       1          1\n",
       "1             0  1795         1       0           3      1       0          1\n",
       "2             1  3750         9       2           4      0       0          1\n",
       "3             0   635         2       0           3      0       0          1\n",
       "4             1   810         4       0           4      0       0          1"
      ]
     },
     "execution_count": 194,
     "metadata": {},
     "output_type": "execute_result"
    }
   ],
   "source": [
    "df = pd.read_csv(os.path.join('..', 'Dataset', 'whiluserdata.csv'))\n",
    "# In case I need to redo, I'm creating a method to get my original dataset:\n",
    "def original_df(df):\n",
    "    df = pd.read_csv(os.path.join('..', 'Dataset', 'whiluserdata.csv'))\n",
    "    # Beautification\n",
    "    df.drop(['ID'], axis = 1, inplace = True)\n",
    "    df.rename(columns = {'sessions_completed': 'sessions',\n",
    "                        'series_completed': 'series',\n",
    "                        'focus_n': 'focus',\n",
    "                        'gender_n': 'gender'}, inplace = True)\n",
    "    return df\n",
    "df = original_df(df)\n",
    "df.head()"
   ]
  },
  {
   "cell_type": "markdown",
   "metadata": {},
   "source": [
    "<h3><i>Dummy variables for experience</i></h3>"
   ]
  },
  {
   "cell_type": "markdown",
   "metadata": {},
   "source": [
    "<i>I believe experiense level should influence user's subscription. In order to see how subscription changes depending on experience, let's convert experience level into categorial variarbles:</i>"
   ]
  },
  {
   "cell_type": "code",
   "execution_count": 195,
   "metadata": {
    "collapsed": false
   },
   "outputs": [
    {
     "data": {
      "text/html": [
       "<div>\n",
       "<table border=\"1\" class=\"dataframe\">\n",
       "  <thead>\n",
       "    <tr style=\"text-align: right;\">\n",
       "      <th></th>\n",
       "      <th>subscribedYN</th>\n",
       "      <th>sec</th>\n",
       "      <th>sessions</th>\n",
       "      <th>series</th>\n",
       "      <th>focus</th>\n",
       "      <th>...</th>\n",
       "      <th>dob_given</th>\n",
       "      <th>exp_1</th>\n",
       "      <th>exp_2</th>\n",
       "      <th>exp_3</th>\n",
       "      <th>exp_4</th>\n",
       "    </tr>\n",
       "  </thead>\n",
       "  <tbody>\n",
       "    <tr>\n",
       "      <th>0</th>\n",
       "      <td>1</td>\n",
       "      <td>225</td>\n",
       "      <td>1</td>\n",
       "      <td>0</td>\n",
       "      <td>0</td>\n",
       "      <td>...</td>\n",
       "      <td>1</td>\n",
       "      <td>0.0</td>\n",
       "      <td>1.0</td>\n",
       "      <td>0.0</td>\n",
       "      <td>0.0</td>\n",
       "    </tr>\n",
       "    <tr>\n",
       "      <th>1</th>\n",
       "      <td>0</td>\n",
       "      <td>1795</td>\n",
       "      <td>1</td>\n",
       "      <td>0</td>\n",
       "      <td>1</td>\n",
       "      <td>...</td>\n",
       "      <td>1</td>\n",
       "      <td>0.0</td>\n",
       "      <td>0.0</td>\n",
       "      <td>1.0</td>\n",
       "      <td>0.0</td>\n",
       "    </tr>\n",
       "    <tr>\n",
       "      <th>2</th>\n",
       "      <td>1</td>\n",
       "      <td>3750</td>\n",
       "      <td>9</td>\n",
       "      <td>2</td>\n",
       "      <td>0</td>\n",
       "      <td>...</td>\n",
       "      <td>1</td>\n",
       "      <td>0.0</td>\n",
       "      <td>0.0</td>\n",
       "      <td>0.0</td>\n",
       "      <td>1.0</td>\n",
       "    </tr>\n",
       "    <tr>\n",
       "      <th>3</th>\n",
       "      <td>0</td>\n",
       "      <td>635</td>\n",
       "      <td>2</td>\n",
       "      <td>0</td>\n",
       "      <td>0</td>\n",
       "      <td>...</td>\n",
       "      <td>1</td>\n",
       "      <td>0.0</td>\n",
       "      <td>0.0</td>\n",
       "      <td>1.0</td>\n",
       "      <td>0.0</td>\n",
       "    </tr>\n",
       "    <tr>\n",
       "      <th>4</th>\n",
       "      <td>1</td>\n",
       "      <td>810</td>\n",
       "      <td>4</td>\n",
       "      <td>0</td>\n",
       "      <td>0</td>\n",
       "      <td>...</td>\n",
       "      <td>1</td>\n",
       "      <td>0.0</td>\n",
       "      <td>0.0</td>\n",
       "      <td>0.0</td>\n",
       "      <td>1.0</td>\n",
       "    </tr>\n",
       "  </tbody>\n",
       "</table>\n",
       "<p>5 rows × 11 columns</p>\n",
       "</div>"
      ],
      "text/plain": [
       "   subscribedYN   sec  sessions  series  focus  ...    dob_given  exp_1  \\\n",
       "0             1   225         1       0      0  ...            1    0.0   \n",
       "1             0  1795         1       0      1  ...            1    0.0   \n",
       "2             1  3750         9       2      0  ...            1    0.0   \n",
       "3             0   635         2       0      0  ...            1    0.0   \n",
       "4             1   810         4       0      0  ...            1    0.0   \n",
       "\n",
       "   exp_2  exp_3  exp_4  \n",
       "0    1.0    0.0    0.0  \n",
       "1    0.0    1.0    0.0  \n",
       "2    0.0    0.0    1.0  \n",
       "3    0.0    1.0    0.0  \n",
       "4    0.0    0.0    1.0  \n",
       "\n",
       "[5 rows x 11 columns]"
      ]
     },
     "execution_count": 195,
     "metadata": {},
     "output_type": "execute_result"
    }
   ],
   "source": [
    "experience_df = pd.get_dummies(df.experience, prefix = 'exp')\n",
    "\n",
    "experience_df.rename(columns = {'exp_1.0': 'exp_1',\n",
    "                              'exp_2.0': 'exp_2',\n",
    "                              'exp_3.0': 'exp_3',\n",
    "                              'exp_4.0': 'exp_4'}, inplace = True)\n",
    "df = df.join(experience_df)\n",
    "df.drop(['experience'], axis = 1, inplace = True)\n",
    "df.head()"
   ]
  },
  {
   "cell_type": "markdown",
   "metadata": {},
   "source": [
    "<h3><i>Most important variables:</i></h3>"
   ]
  },
  {
   "cell_type": "markdown",
   "metadata": {},
   "source": [
    "<i>Once again, the variables that seem to predict outcome well:</i>"
   ]
  },
  {
   "cell_type": "code",
   "execution_count": 196,
   "metadata": {
    "collapsed": false
   },
   "outputs": [
    {
     "data": {
      "text/plain": [
       "subscribedYN    1.000000\n",
       "sec             0.459421\n",
       "sessions        0.358653\n",
       "exp_4           0.230294\n",
       "series          0.192762\n",
       "exp_3           0.096201\n",
       "focus           0.050908\n",
       "Name: subscribedYN, dtype: float64"
      ]
     },
     "execution_count": 196,
     "metadata": {},
     "output_type": "execute_result"
    }
   ],
   "source": [
    "df.corr().subscribedYN.sort_values(ascending = False)[:7]"
   ]
  },
  {
   "cell_type": "markdown",
   "metadata": {},
   "source": [
    "<i>But from EDA, looks like sec and sessions are colinear, so I only use one of these variables:</i>"
   ]
  },
  {
   "cell_type": "markdown",
   "metadata": {},
   "source": [
    "<i>I used Decision Tree to see the most important features too. The most important variables were: sec, experience, and dob_given.</i>"
   ]
  },
  {
   "cell_type": "markdown",
   "metadata": {},
   "source": [
    "<h3><i>Logistic Regression model</i></h4>"
   ]
  },
  {
   "cell_type": "markdown",
   "metadata": {},
   "source": [
    "<i>Let's try to build a model. I am going to add all variables and then subscract them one by one from the model. Not sure Logistic Regression is a good choice because of the data distribution (it's scewed to the left, not normally distributed), but let's see.</i>"
   ]
  },
  {
   "cell_type": "code",
   "execution_count": 197,
   "metadata": {
    "collapsed": false
   },
   "outputs": [
    {
     "name": "stdout",
     "output_type": "stream",
     "text": [
      "Optimization terminated successfully.\n",
      "         Current function value: 0.161421\n",
      "         Iterations 9\n"
     ]
    }
   ],
   "source": [
    "model = smf.logit(formula = 'subscribedYN ~ sessions + series + \\\n",
    "                focus + gender + dob_given + exp_2 + exp_3 + exp_4',\\\n",
    "                data = df).fit()"
   ]
  },
  {
   "cell_type": "code",
   "execution_count": 198,
   "metadata": {
    "collapsed": false
   },
   "outputs": [
    {
     "data": {
      "text/html": [
       "<table class=\"simpletable\">\n",
       "<caption>Logit Regression Results</caption>\n",
       "<tr>\n",
       "  <th>Dep. Variable:</th>   <td>subscribedYN</td>   <th>  No. Observations:  </th>  <td> 18730</td> \n",
       "</tr>\n",
       "<tr>\n",
       "  <th>Model:</th>               <td>Logit</td>      <th>  Df Residuals:      </th>  <td> 18721</td> \n",
       "</tr>\n",
       "<tr>\n",
       "  <th>Method:</th>               <td>MLE</td>       <th>  Df Model:          </th>  <td>     8</td> \n",
       "</tr>\n",
       "<tr>\n",
       "  <th>Date:</th>          <td>Sun, 13 Nov 2016</td> <th>  Pseudo R-squ.:     </th>  <td>0.2771</td> \n",
       "</tr>\n",
       "<tr>\n",
       "  <th>Time:</th>              <td>23:21:49</td>     <th>  Log-Likelihood:    </th> <td> -3023.4</td>\n",
       "</tr>\n",
       "<tr>\n",
       "  <th>converged:</th>           <td>True</td>       <th>  LL-Null:           </th> <td> -4182.6</td>\n",
       "</tr>\n",
       "<tr>\n",
       "  <th> </th>                      <td> </td>        <th>  LLR p-value:       </th>  <td> 0.000</td> \n",
       "</tr>\n",
       "</table>\n",
       "<table class=\"simpletable\">\n",
       "<tr>\n",
       "      <td></td>         <th>coef</th>     <th>std err</th>      <th>z</th>      <th>P>|z|</th> <th>[95.0% Conf. Int.]</th> \n",
       "</tr>\n",
       "<tr>\n",
       "  <th>Intercept</th> <td>   -5.7026</td> <td>    0.145</td> <td>  -39.322</td> <td> 0.000</td> <td>   -5.987    -5.418</td>\n",
       "</tr>\n",
       "<tr>\n",
       "  <th>sessions</th>  <td>    0.1427</td> <td>    0.005</td> <td>   28.604</td> <td> 0.000</td> <td>    0.133     0.153</td>\n",
       "</tr>\n",
       "<tr>\n",
       "  <th>series</th>    <td>   -0.0266</td> <td>    0.040</td> <td>   -0.673</td> <td> 0.501</td> <td>   -0.104     0.051</td>\n",
       "</tr>\n",
       "<tr>\n",
       "  <th>focus</th>     <td>    0.2743</td> <td>    0.101</td> <td>    2.723</td> <td> 0.006</td> <td>    0.077     0.472</td>\n",
       "</tr>\n",
       "<tr>\n",
       "  <th>gender</th>    <td>   -0.1707</td> <td>    0.076</td> <td>   -2.240</td> <td> 0.025</td> <td>   -0.320    -0.021</td>\n",
       "</tr>\n",
       "<tr>\n",
       "  <th>dob_given</th> <td>    0.6939</td> <td>    0.072</td> <td>    9.623</td> <td> 0.000</td> <td>    0.553     0.835</td>\n",
       "</tr>\n",
       "<tr>\n",
       "  <th>exp_2</th>     <td>    1.1289</td> <td>    0.151</td> <td>    7.456</td> <td> 0.000</td> <td>    0.832     1.426</td>\n",
       "</tr>\n",
       "<tr>\n",
       "  <th>exp_3</th>     <td>    2.0653</td> <td>    0.137</td> <td>   15.073</td> <td> 0.000</td> <td>    1.797     2.334</td>\n",
       "</tr>\n",
       "<tr>\n",
       "  <th>exp_4</th>     <td>    3.7029</td> <td>    0.154</td> <td>   24.068</td> <td> 0.000</td> <td>    3.401     4.004</td>\n",
       "</tr>\n",
       "</table>"
      ],
      "text/plain": [
       "<class 'statsmodels.iolib.summary.Summary'>\n",
       "\"\"\"\n",
       "                           Logit Regression Results                           \n",
       "==============================================================================\n",
       "Dep. Variable:           subscribedYN   No. Observations:                18730\n",
       "Model:                          Logit   Df Residuals:                    18721\n",
       "Method:                           MLE   Df Model:                            8\n",
       "Date:                Sun, 13 Nov 2016   Pseudo R-squ.:                  0.2771\n",
       "Time:                        23:21:49   Log-Likelihood:                -3023.4\n",
       "converged:                       True   LL-Null:                       -4182.6\n",
       "                                        LLR p-value:                     0.000\n",
       "==============================================================================\n",
       "                 coef    std err          z      P>|z|      [95.0% Conf. Int.]\n",
       "------------------------------------------------------------------------------\n",
       "Intercept     -5.7026      0.145    -39.322      0.000        -5.987    -5.418\n",
       "sessions       0.1427      0.005     28.604      0.000         0.133     0.153\n",
       "series        -0.0266      0.040     -0.673      0.501        -0.104     0.051\n",
       "focus          0.2743      0.101      2.723      0.006         0.077     0.472\n",
       "gender        -0.1707      0.076     -2.240      0.025        -0.320    -0.021\n",
       "dob_given      0.6939      0.072      9.623      0.000         0.553     0.835\n",
       "exp_2          1.1289      0.151      7.456      0.000         0.832     1.426\n",
       "exp_3          2.0653      0.137     15.073      0.000         1.797     2.334\n",
       "exp_4          3.7029      0.154     24.068      0.000         3.401     4.004\n",
       "==============================================================================\n",
       "\"\"\""
      ]
     },
     "execution_count": 198,
     "metadata": {},
     "output_type": "execute_result"
    }
   ],
   "source": [
    "model.summary()"
   ]
  },
  {
   "cell_type": "markdown",
   "metadata": {},
   "source": [
    "<i>After subsctracting variables one by one, I got this model:</i>"
   ]
  },
  {
   "cell_type": "code",
   "execution_count": 199,
   "metadata": {
    "collapsed": false
   },
   "outputs": [
    {
     "name": "stdout",
     "output_type": "stream",
     "text": [
      "Optimization terminated successfully.\n",
      "         Current function value: 0.161433\n",
      "         Iterations 9\n"
     ]
    },
    {
     "data": {
      "text/plain": [
       "0.94410037373198075"
      ]
     },
     "execution_count": 199,
     "metadata": {},
     "output_type": "execute_result"
    }
   ],
   "source": [
    "model = smf.logit(formula = 'subscribedYN ~ sessions + \\\n",
    "                 + focus + gender + dob_given + exp_2 + exp_3 + exp_4',\\\n",
    "                data = df).fit()\n",
    "#model.summary()\n",
    "\n",
    "X = df[['sessions', 'focus', 'gender', 'dob_given', \n",
    "         'exp_2', 'exp_3', 'exp_4']]\n",
    "X = sm.add_constant(X) \n",
    "c = df.subscribedYN\n",
    "\n",
    "(pd.Series(model.predict(X)).round() == c).mean()"
   ]
  },
  {
   "cell_type": "code",
   "execution_count": 200,
   "metadata": {
    "collapsed": false
   },
   "outputs": [
    {
     "data": {
      "text/html": [
       "<table class=\"simpletable\">\n",
       "<caption>Logit Regression Results</caption>\n",
       "<tr>\n",
       "  <th>Dep. Variable:</th>   <td>subscribedYN</td>   <th>  No. Observations:  </th>  <td> 18730</td> \n",
       "</tr>\n",
       "<tr>\n",
       "  <th>Model:</th>               <td>Logit</td>      <th>  Df Residuals:      </th>  <td> 18722</td> \n",
       "</tr>\n",
       "<tr>\n",
       "  <th>Method:</th>               <td>MLE</td>       <th>  Df Model:          </th>  <td>     7</td> \n",
       "</tr>\n",
       "<tr>\n",
       "  <th>Date:</th>          <td>Sun, 13 Nov 2016</td> <th>  Pseudo R-squ.:     </th>  <td>0.2771</td> \n",
       "</tr>\n",
       "<tr>\n",
       "  <th>Time:</th>              <td>23:21:49</td>     <th>  Log-Likelihood:    </th> <td> -3023.6</td>\n",
       "</tr>\n",
       "<tr>\n",
       "  <th>converged:</th>           <td>True</td>       <th>  LL-Null:           </th> <td> -4182.6</td>\n",
       "</tr>\n",
       "<tr>\n",
       "  <th> </th>                      <td> </td>        <th>  LLR p-value:       </th>  <td> 0.000</td> \n",
       "</tr>\n",
       "</table>\n",
       "<table class=\"simpletable\">\n",
       "<tr>\n",
       "      <td></td>         <th>coef</th>     <th>std err</th>      <th>z</th>      <th>P>|z|</th> <th>[95.0% Conf. Int.]</th> \n",
       "</tr>\n",
       "<tr>\n",
       "  <th>Intercept</th> <td>   -5.7021</td> <td>    0.145</td> <td>  -39.260</td> <td> 0.000</td> <td>   -5.987    -5.417</td>\n",
       "</tr>\n",
       "<tr>\n",
       "  <th>sessions</th>  <td>    0.1412</td> <td>    0.004</td> <td>   31.925</td> <td> 0.000</td> <td>    0.133     0.150</td>\n",
       "</tr>\n",
       "<tr>\n",
       "  <th>focus</th>     <td>    0.2712</td> <td>    0.101</td> <td>    2.695</td> <td> 0.007</td> <td>    0.074     0.469</td>\n",
       "</tr>\n",
       "<tr>\n",
       "  <th>gender</th>    <td>   -0.1684</td> <td>    0.076</td> <td>   -2.213</td> <td> 0.027</td> <td>   -0.318    -0.019</td>\n",
       "</tr>\n",
       "<tr>\n",
       "  <th>dob_given</th> <td>    0.6933</td> <td>    0.072</td> <td>    9.616</td> <td> 0.000</td> <td>    0.552     0.835</td>\n",
       "</tr>\n",
       "<tr>\n",
       "  <th>exp_2</th>     <td>    1.1345</td> <td>    0.151</td> <td>    7.495</td> <td> 0.000</td> <td>    0.838     1.431</td>\n",
       "</tr>\n",
       "<tr>\n",
       "  <th>exp_3</th>     <td>    2.0714</td> <td>    0.137</td> <td>   15.126</td> <td> 0.000</td> <td>    1.803     2.340</td>\n",
       "</tr>\n",
       "<tr>\n",
       "  <th>exp_4</th>     <td>    3.7077</td> <td>    0.154</td> <td>   24.098</td> <td> 0.000</td> <td>    3.406     4.009</td>\n",
       "</tr>\n",
       "</table>"
      ],
      "text/plain": [
       "<class 'statsmodels.iolib.summary.Summary'>\n",
       "\"\"\"\n",
       "                           Logit Regression Results                           \n",
       "==============================================================================\n",
       "Dep. Variable:           subscribedYN   No. Observations:                18730\n",
       "Model:                          Logit   Df Residuals:                    18722\n",
       "Method:                           MLE   Df Model:                            7\n",
       "Date:                Sun, 13 Nov 2016   Pseudo R-squ.:                  0.2771\n",
       "Time:                        23:21:49   Log-Likelihood:                -3023.6\n",
       "converged:                       True   LL-Null:                       -4182.6\n",
       "                                        LLR p-value:                     0.000\n",
       "==============================================================================\n",
       "                 coef    std err          z      P>|z|      [95.0% Conf. Int.]\n",
       "------------------------------------------------------------------------------\n",
       "Intercept     -5.7021      0.145    -39.260      0.000        -5.987    -5.417\n",
       "sessions       0.1412      0.004     31.925      0.000         0.133     0.150\n",
       "focus          0.2712      0.101      2.695      0.007         0.074     0.469\n",
       "gender        -0.1684      0.076     -2.213      0.027        -0.318    -0.019\n",
       "dob_given      0.6933      0.072      9.616      0.000         0.552     0.835\n",
       "exp_2          1.1345      0.151      7.495      0.000         0.838     1.431\n",
       "exp_3          2.0714      0.137     15.126      0.000         1.803     2.340\n",
       "exp_4          3.7077      0.154     24.098      0.000         3.406     4.009\n",
       "==============================================================================\n",
       "\"\"\""
      ]
     },
     "execution_count": 200,
     "metadata": {},
     "output_type": "execute_result"
    }
   ],
   "source": [
    "model.summary()"
   ]
  },
  {
   "cell_type": "code",
   "execution_count": 201,
   "metadata": {
    "collapsed": false
   },
   "outputs": [
    {
     "data": {
      "text/plain": [
       "Intercept     0.003339\n",
       "sessions      1.151649\n",
       "focus         1.311601\n",
       "gender        0.844982\n",
       "dob_given     2.000255\n",
       "exp_2         3.109703\n",
       "exp_3         7.935686\n",
       "exp_4        40.759801\n",
       "dtype: float64"
      ]
     },
     "execution_count": 201,
     "metadata": {},
     "output_type": "execute_result"
    }
   ],
   "source": [
    "np.exp(model.params)"
   ]
  },
  {
   "cell_type": "markdown",
   "metadata": {},
   "source": [
    "<i>Making predictions. For 3rd and 4th predictions, I will input the same data, except for experience level:</i>"
   ]
  },
  {
   "cell_type": "code",
   "execution_count": 202,
   "metadata": {
    "collapsed": false
   },
   "outputs": [
    {
     "data": {
      "text/plain": [
       "array([ 0.00383072,  0.02060182,  0.47165033,  0.82095131])"
      ]
     },
     "execution_count": 202,
     "metadata": {},
     "output_type": "execute_result"
    }
   ],
   "source": [
    "predict_X = pd.DataFrame({'Intercept': [1,1,1,1],\n",
    "        'sessions': [1,5,20,20],\n",
    "        'focus':[0,0,0,0],\n",
    "        'gender':[0,0,0,0],\n",
    "        'dob_given':[0,0,1,1],\n",
    "        'exp_2': [0,1,0,0],\n",
    "        'exp_3': [0,0,1,0],\n",
    "        'exp_4': [0,0,0,1]})\n",
    "model.predict(predict_X)"
   ]
  },
  {
   "cell_type": "markdown",
   "metadata": {},
   "source": [
    "<i>We can see that for a user with the same amount of sessions (20), same focus(0-mindfulness), gender(0) and dob_given(1), changing experience level from 3 to 4 increased the probability of subscribtion from 47% to 82%.</i>"
   ]
  },
  {
   "cell_type": "markdown",
   "metadata": {},
   "source": [
    "<h3><i>Let's compate with sklearn Logistic regression model and also split the dataset into test and train data:</i></h3>"
   ]
  },
  {
   "cell_type": "code",
   "execution_count": 203,
   "metadata": {
    "collapsed": false
   },
   "outputs": [],
   "source": [
    "# model = smf.logit(formula = 'subscribedYN ~ sessions + \\\n",
    "#                 + focus + gender + dob_given + exp_2 + exp_3 + exp_4',\\\n",
    "#                data = df).fit()\n",
    "    \n",
    "X = df[['sessions', 'focus', 'gender', 'dob_given', \n",
    "         'exp_2', 'exp_3', 'exp_4']]\n",
    "c = df.subscribedYN\n",
    "model = linear_model.LogisticRegression(C=10**2).fit(X,c)"
   ]
  },
  {
   "cell_type": "code",
   "execution_count": 204,
   "metadata": {
    "collapsed": false
   },
   "outputs": [
    {
     "data": {
      "text/plain": [
       "0.94410037373198075"
      ]
     },
     "execution_count": 204,
     "metadata": {},
     "output_type": "execute_result"
    }
   ],
   "source": [
    "model.score(X,c)"
   ]
  },
  {
   "cell_type": "code",
   "execution_count": 205,
   "metadata": {
    "collapsed": false
   },
   "outputs": [
    {
     "name": "stdout",
     "output_type": "stream",
     "text": [
      "[-5.69645682]\n",
      "[[ 0.14115515  0.27125948 -0.16870554  0.69291248  1.12870927  2.0663677\n",
      "   3.70207936]]\n"
     ]
    }
   ],
   "source": [
    "print model.intercept_\n",
    "print model.coef_"
   ]
  },
  {
   "cell_type": "markdown",
   "metadata": {},
   "source": [
    "<i>These coeficients are very close to the previous logistic regression model built with statsmodels.</i>"
   ]
  },
  {
   "cell_type": "code",
   "execution_count": 206,
   "metadata": {
    "collapsed": false
   },
   "outputs": [],
   "source": [
    "predict_X.drop('Intercept', axis = 1, inplace = True)"
   ]
  },
  {
   "cell_type": "code",
   "execution_count": 207,
   "metadata": {
    "collapsed": true
   },
   "outputs": [],
   "source": [
    "predict_X = pd.DataFrame({\n",
    "        'sessions': [1,5,20,20],\n",
    "        'focus':[0,0,0,0],\n",
    "        'gender':[0,0,0,0],\n",
    "        'dob_given':[0,0,1,1],\n",
    "        'exp_2': [0,1,0,0],\n",
    "        'exp_3': [0,0,1,0],\n",
    "        'exp_4': [0,0,0,1]})\n",
    "\n",
    "X = df[['sessions', 'focus', 'gender', 'dob_given', \n",
    "         'exp_2', 'exp_3', 'exp_4']]"
   ]
  },
  {
   "cell_type": "code",
   "execution_count": 208,
   "metadata": {
    "collapsed": false
   },
   "outputs": [
    {
     "data": {
      "text/plain": [
       "array([[ 0.99614799,  0.00385201]])"
      ]
     },
     "execution_count": 208,
     "metadata": {},
     "output_type": "execute_result"
    }
   ],
   "source": [
    "model.predict_proba([[1, 0, 0, 0, 0, 0, 0]])"
   ]
  },
  {
   "cell_type": "code",
   "execution_count": 209,
   "metadata": {
    "collapsed": false
   },
   "outputs": [
    {
     "data": {
      "text/plain": [
       "array([[ 0.97940651,  0.02059349]])"
      ]
     },
     "execution_count": 209,
     "metadata": {},
     "output_type": "execute_result"
    }
   ],
   "source": [
    "model.predict_proba([[5, 0, 0, 0, 1, 0, 0]])"
   ]
  },
  {
   "cell_type": "code",
   "execution_count": 210,
   "metadata": {
    "collapsed": false
   },
   "outputs": [
    {
     "data": {
      "text/plain": [
       "array([[ 0.52848751,  0.47151249]])"
      ]
     },
     "execution_count": 210,
     "metadata": {},
     "output_type": "execute_result"
    }
   ],
   "source": [
    "model.predict_proba([[20, 0, 0, 1, 0, 1, 0]])"
   ]
  },
  {
   "cell_type": "code",
   "execution_count": 211,
   "metadata": {
    "collapsed": false
   },
   "outputs": [
    {
     "data": {
      "text/plain": [
       "array([[ 0.17922043,  0.82077957]])"
      ]
     },
     "execution_count": 211,
     "metadata": {},
     "output_type": "execute_result"
    }
   ],
   "source": [
    "model.predict_proba([[20, 0, 0, 1, 0, 0, 1]])"
   ]
  },
  {
   "cell_type": "code",
   "execution_count": 212,
   "metadata": {
    "collapsed": false
   },
   "outputs": [],
   "source": [
    "predict_X = predict_X[['sessions', 'focus', 'gender', 'dob_given', \n",
    "         'exp_2', 'exp_3', 'exp_4']]"
   ]
  },
  {
   "cell_type": "code",
   "execution_count": 213,
   "metadata": {
    "collapsed": false
   },
   "outputs": [
    {
     "data": {
      "text/html": [
       "<div>\n",
       "<table border=\"1\" class=\"dataframe\">\n",
       "  <thead>\n",
       "    <tr style=\"text-align: right;\">\n",
       "      <th></th>\n",
       "      <th>sessions</th>\n",
       "      <th>focus</th>\n",
       "      <th>gender</th>\n",
       "      <th>dob_given</th>\n",
       "      <th>exp_2</th>\n",
       "      <th>exp_3</th>\n",
       "      <th>exp_4</th>\n",
       "    </tr>\n",
       "  </thead>\n",
       "  <tbody>\n",
       "    <tr>\n",
       "      <th>0</th>\n",
       "      <td>1</td>\n",
       "      <td>0</td>\n",
       "      <td>0</td>\n",
       "      <td>0</td>\n",
       "      <td>0</td>\n",
       "      <td>0</td>\n",
       "      <td>0</td>\n",
       "    </tr>\n",
       "    <tr>\n",
       "      <th>1</th>\n",
       "      <td>5</td>\n",
       "      <td>0</td>\n",
       "      <td>0</td>\n",
       "      <td>0</td>\n",
       "      <td>1</td>\n",
       "      <td>0</td>\n",
       "      <td>0</td>\n",
       "    </tr>\n",
       "    <tr>\n",
       "      <th>2</th>\n",
       "      <td>20</td>\n",
       "      <td>0</td>\n",
       "      <td>0</td>\n",
       "      <td>1</td>\n",
       "      <td>0</td>\n",
       "      <td>1</td>\n",
       "      <td>0</td>\n",
       "    </tr>\n",
       "    <tr>\n",
       "      <th>3</th>\n",
       "      <td>20</td>\n",
       "      <td>0</td>\n",
       "      <td>0</td>\n",
       "      <td>1</td>\n",
       "      <td>0</td>\n",
       "      <td>0</td>\n",
       "      <td>1</td>\n",
       "    </tr>\n",
       "  </tbody>\n",
       "</table>\n",
       "</div>"
      ],
      "text/plain": [
       "   sessions  focus  gender  dob_given  exp_2  exp_3  exp_4\n",
       "0         1      0       0          0      0      0      0\n",
       "1         5      0       0          0      1      0      0\n",
       "2        20      0       0          1      0      1      0\n",
       "3        20      0       0          1      0      0      1"
      ]
     },
     "execution_count": 213,
     "metadata": {},
     "output_type": "execute_result"
    }
   ],
   "source": [
    "predict_X"
   ]
  },
  {
   "cell_type": "code",
   "execution_count": 214,
   "metadata": {
    "collapsed": false
   },
   "outputs": [
    {
     "data": {
      "text/plain": [
       "array([[ 0.88020548,  0.11979452]])"
      ]
     },
     "execution_count": 214,
     "metadata": {},
     "output_type": "execute_result"
    }
   ],
   "source": [
    "model.predict_proba([[0, 0, 0, 0, 0, 0, 1]])"
   ]
  },
  {
   "cell_type": "code",
   "execution_count": 215,
   "metadata": {
    "collapsed": false
   },
   "outputs": [
    {
     "name": "stdout",
     "output_type": "stream",
     "text": [
      "[0 0 0 1]\n",
      "[[ 0.9961  0.0039]\n",
      " [ 0.9794  0.0206]\n",
      " [ 0.5285  0.4715]\n",
      " [ 0.1792  0.8208]]\n"
     ]
    }
   ],
   "source": [
    "print model.predict(predict_X)\n",
    "print model.predict_proba(predict_X).round(4)"
   ]
  },
  {
   "cell_type": "code",
   "execution_count": 216,
   "metadata": {
    "collapsed": true
   },
   "outputs": [],
   "source": [
    "model_Subs = linear_model.LogisticRegression(C=10**2).fit(X, c)\n",
    "c_hat_subscribed = model_Subs.predict(X)"
   ]
  },
  {
   "cell_type": "code",
   "execution_count": 217,
   "metadata": {
    "collapsed": false
   },
   "outputs": [
    {
     "data": {
      "image/png": "[encoded data removed]",
      "text/plain": [
       "<matplotlib.figure.Figure at 0x11d053090>"
      ]
     },
     "metadata": {},
     "output_type": "display_data"
    }
   ],
   "source": [
    "fpr, tpr, thresholds = metrics.roc_curve(c, c_hat_subscribed)\n",
    "\n",
    "plt.figure()\n",
    "plt.plot(fpr, tpr, label = 'ROC curve (area = %0.2f)' % metrics.auc(fpr, tpr))\n",
    "plt.plot([0, 1], [0, 1], 'k--')\n",
    "plt.xlim([0, 1.01])\n",
    "plt.ylim([0, 1.01])\n",
    "plt.xlabel('FPR/Fall-out')\n",
    "plt.ylabel('TPR/Sensitivity')\n",
    "plt.title(\"Subscribed's ROC\")\n",
    "plt.legend(loc = 'lower right')\n",
    "plt.show()"
   ]
  },
  {
   "cell_type": "markdown",
   "metadata": {},
   "source": [
    "<i>AUC is pretty small, but still let's count the model's accuracy with test and train data.</i>"
   ]
  },
  {
   "cell_type": "markdown",
   "metadata": {},
   "source": [
    "<h3><i>Let's split the dataset into train and test data, and check model's accuracy:</i></h3>"
   ]
  },
  {
   "cell_type": "code",
   "execution_count": 218,
   "metadata": {
    "collapsed": true
   },
   "outputs": [],
   "source": [
    "train_df = df.sample(frac = .6)\n",
    "test_df = df.drop(train_df.index)"
   ]
  },
  {
   "cell_type": "markdown",
   "metadata": {},
   "source": [
    "<i>Using same features:</i>"
   ]
  },
  {
   "cell_type": "code",
   "execution_count": 219,
   "metadata": {
    "collapsed": false
   },
   "outputs": [],
   "source": [
    "features = ['sessions', 'dob_given', 'focus', 'gender', \n",
    "            'exp_2', 'exp_3', 'exp_4']\n",
    "def X_subs(df):\n",
    "    X = df[features]\n",
    "    subs = df.subscribedYN\n",
    "    return X, subs\n",
    "\n",
    "train_X, train_subs = X_subs(train_df)\n",
    "test_X, test_subs = X_subs(test_df)"
   ]
  },
  {
   "cell_type": "code",
   "execution_count": 220,
   "metadata": {
    "collapsed": false
   },
   "outputs": [
    {
     "name": "stdout",
     "output_type": "stream",
     "text": [
      "[-5.72196608]\n",
      "[[ 0.14159032  0.71985555  0.23009094 -0.1279897   1.24892932  2.03874205\n",
      "   3.72013151]]\n"
     ]
    }
   ],
   "source": [
    "model = linear_model.LogisticRegression(C=10**2).fit(train_X,train_subs)\n",
    "print model.intercept_\n",
    "print model.coef_"
   ]
  },
  {
   "cell_type": "code",
   "execution_count": 221,
   "metadata": {
    "collapsed": false
   },
   "outputs": [
    {
     "name": "stdout",
     "output_type": "stream",
     "text": [
      "training data model accuracy:  0.944118170493\n",
      "testing data model accuracy:  0.943940202883\n",
      "training err:  0.055881829507\n",
      "testing err:  0.0560597971169\n"
     ]
    }
   ],
   "source": [
    "print 'training data model accuracy: ', model.score(train_X,train_subs)\n",
    "print 'testing data model accuracy: ', model.score(test_X,test_subs)\n",
    "print 'training err: ', 1 - model.score(train_X,train_subs)\n",
    "print 'testing err: ', 1 - model.score(test_X,test_subs)"
   ]
  },
  {
   "cell_type": "markdown",
   "metadata": {},
   "source": [
    "<i>Although the model shows a good score, I think, it's overfitting. AUC is 0.58 which is low. Predictions don't seem to be very accurate. My guess, is that the problem related to the low amount of subscribed users. <br>I will try to build a k-NN model and then, propably, will have to sample the data I have.</i>"
   ]
  },
  {
   "cell_type": "markdown",
   "metadata": {},
   "source": [
    "<h4><i>Let's try k-NN (there's no assumption of disctribution):</i></h4>"
   ]
  },
  {
   "cell_type": "code",
   "execution_count": 222,
   "metadata": {
    "collapsed": false
   },
   "outputs": [
    {
     "data": {
      "text/html": [
       "<div>\n",
       "<table border=\"1\" class=\"dataframe\">\n",
       "  <thead>\n",
       "    <tr style=\"text-align: right;\">\n",
       "      <th></th>\n",
       "      <th>subscribedYN</th>\n",
       "      <th>sec</th>\n",
       "      <th>sessions</th>\n",
       "      <th>series</th>\n",
       "      <th>experience</th>\n",
       "      <th>focus</th>\n",
       "      <th>gender</th>\n",
       "      <th>dob_given</th>\n",
       "    </tr>\n",
       "  </thead>\n",
       "  <tbody>\n",
       "    <tr>\n",
       "      <th>0</th>\n",
       "      <td>1</td>\n",
       "      <td>225</td>\n",
       "      <td>1</td>\n",
       "      <td>0</td>\n",
       "      <td>2</td>\n",
       "      <td>0</td>\n",
       "      <td>1</td>\n",
       "      <td>1</td>\n",
       "    </tr>\n",
       "    <tr>\n",
       "      <th>1</th>\n",
       "      <td>0</td>\n",
       "      <td>1795</td>\n",
       "      <td>1</td>\n",
       "      <td>0</td>\n",
       "      <td>3</td>\n",
       "      <td>1</td>\n",
       "      <td>0</td>\n",
       "      <td>1</td>\n",
       "    </tr>\n",
       "    <tr>\n",
       "      <th>2</th>\n",
       "      <td>1</td>\n",
       "      <td>3750</td>\n",
       "      <td>9</td>\n",
       "      <td>2</td>\n",
       "      <td>4</td>\n",
       "      <td>0</td>\n",
       "      <td>0</td>\n",
       "      <td>1</td>\n",
       "    </tr>\n",
       "    <tr>\n",
       "      <th>3</th>\n",
       "      <td>0</td>\n",
       "      <td>635</td>\n",
       "      <td>2</td>\n",
       "      <td>0</td>\n",
       "      <td>3</td>\n",
       "      <td>0</td>\n",
       "      <td>0</td>\n",
       "      <td>1</td>\n",
       "    </tr>\n",
       "    <tr>\n",
       "      <th>4</th>\n",
       "      <td>1</td>\n",
       "      <td>810</td>\n",
       "      <td>4</td>\n",
       "      <td>0</td>\n",
       "      <td>4</td>\n",
       "      <td>0</td>\n",
       "      <td>0</td>\n",
       "      <td>1</td>\n",
       "    </tr>\n",
       "  </tbody>\n",
       "</table>\n",
       "</div>"
      ],
      "text/plain": [
       "   subscribedYN   sec  sessions  series  experience  focus  gender  dob_given\n",
       "0             1   225         1       0           2      0       1          1\n",
       "1             0  1795         1       0           3      1       0          1\n",
       "2             1  3750         9       2           4      0       0          1\n",
       "3             0   635         2       0           3      0       0          1\n",
       "4             1   810         4       0           4      0       0          1"
      ]
     },
     "execution_count": 222,
     "metadata": {},
     "output_type": "execute_result"
    }
   ],
   "source": [
    "df = original_df(df)\n",
    "df.head()"
   ]
  },
  {
   "cell_type": "code",
   "execution_count": 223,
   "metadata": {
    "collapsed": true
   },
   "outputs": [],
   "source": [
    "X = df [ ['sessions', 'experience', 'dob_given', 'focus'] ]\n",
    "c = df.subscribedYN"
   ]
  },
  {
   "cell_type": "markdown",
   "metadata": {},
   "source": [
    "<i>Splitting into train and test data:</i>"
   ]
  },
  {
   "cell_type": "code",
   "execution_count": 224,
   "metadata": {
    "collapsed": true
   },
   "outputs": [],
   "source": [
    "train_X, test_X, train_c, test_c = cross_validation.train_test_split(X, c, train_size = .6)"
   ]
  },
  {
   "cell_type": "code",
   "execution_count": 225,
   "metadata": {
    "collapsed": false
   },
   "outputs": [
    {
     "data": {
      "text/plain": [
       "0.94678768464139529"
      ]
     },
     "execution_count": 225,
     "metadata": {},
     "output_type": "execute_result"
    }
   ],
   "source": [
    "#train_X = train_df[ ['sessions', 'experience', 'dob_given', 'focus'] ]\n",
    "#train_c = train_df.subscribedYN\n",
    "\n",
    "scaler = preprocessing.MinMaxScaler().fit(train_X)\n",
    "train_X = scaler.transform(train_X)\n",
    "\n",
    "model = neighbors.KNeighborsClassifier(n_neighbors = 5, weights = 'uniform').fit(train_X, train_c)\n",
    "\n",
    "model.score(train_X, train_c)"
   ]
  },
  {
   "cell_type": "code",
   "execution_count": 226,
   "metadata": {
    "collapsed": false
   },
   "outputs": [
    {
     "data": {
      "text/plain": [
       "0.94327282434596904"
      ]
     },
     "execution_count": 226,
     "metadata": {},
     "output_type": "execute_result"
    }
   ],
   "source": [
    "test_X = scaler.transform(test_X)\n",
    "model.score(test_X, test_c)"
   ]
  },
  {
   "cell_type": "code",
   "execution_count": 227,
   "metadata": {
    "collapsed": true
   },
   "outputs": [],
   "source": [
    "model_Subs = neighbors.KNeighborsClassifier(n_neighbors = 5, weights = 'uniform').fit(X, c)\n",
    "c_hat_subscribed = model_Subs.predict(X)"
   ]
  },
  {
   "cell_type": "code",
   "execution_count": 228,
   "metadata": {
    "collapsed": false
   },
   "outputs": [
    {
     "data": {
      "image/png": "[encoded data removed]",
      "text/plain": [
       "<matplotlib.figure.Figure at 0x118b7b450>"
      ]
     },
     "metadata": {},
     "output_type": "display_data"
    }
   ],
   "source": [
    "fpr, tpr, thresholds = metrics.roc_curve(c, c_hat_subscribed)\n",
    "\n",
    "plt.figure()\n",
    "plt.plot(fpr, tpr, label = 'ROC curve (area = %0.2f)' % metrics.auc(fpr, tpr))\n",
    "plt.plot([0, 1], [0, 1], 'k--')\n",
    "plt.xlim([0, 1.01])\n",
    "plt.ylim([0, 1.01])\n",
    "plt.xlabel('FPR/Fall-out')\n",
    "plt.ylabel('TPR/Sensitivity')\n",
    "plt.title(\"Subscribed's ROC\")\n",
    "plt.legend(loc = 'lower right')\n",
    "plt.show()"
   ]
  },
  {
   "cell_type": "markdown",
   "metadata": {},
   "source": [
    "<i>Before starting optimizing the model, let's check the predictions:</i>"
   ]
  },
  {
   "cell_type": "code",
   "execution_count": 229,
   "metadata": {
    "collapsed": false
   },
   "outputs": [
    {
     "data": {
      "text/plain": [
       "array([0, 0, 1, 1])"
      ]
     },
     "execution_count": 229,
     "metadata": {},
     "output_type": "execute_result"
    }
   ],
   "source": [
    "predict_X = pd.DataFrame({'sessions': [1,10,50,2000000],\n",
    "        'experience': [1,2,3,4],\n",
    "        'dob_given':[0,0,1,1],\n",
    "        'focus':[0,0,0,0]})\n",
    "\n",
    "predict_X = predict_X[  ['sessions', 'experience', 'dob_given', 'focus'] ]\n",
    "\n",
    "predict_X = scaler.transform(predict_X)\n",
    "\n",
    "predict_c = model.predict(predict_X)\n",
    "predict_c"
   ]
  },
  {
   "cell_type": "markdown",
   "metadata": {},
   "source": [
    "<i>This model looks better, predictions seems to be more accurate, but AUC = 0.65 which is still low. \n",
    "<br>Model accuracy is about 95%, probably those are mine 'not-subscribed' users. \n",
    "<br><h3>Let's try to sample the data, so we have even amount of subscribed and not-subscribed users:</h3></i>"
   ]
  },
  {
   "cell_type": "code",
   "execution_count": 230,
   "metadata": {
    "collapsed": false
   },
   "outputs": [
    {
     "data": {
      "text/plain": [
       "(1099, 8)"
      ]
     },
     "execution_count": 230,
     "metadata": {},
     "output_type": "execute_result"
    }
   ],
   "source": [
    "df = original_df(df)\n",
    "s_df = df[df.subscribedYN==1]\n",
    "s_df.shape"
   ]
  },
  {
   "cell_type": "code",
   "execution_count": 231,
   "metadata": {
    "collapsed": false
   },
   "outputs": [
    {
     "data": {
      "text/plain": [
       "(1099, 8)"
      ]
     },
     "execution_count": 231,
     "metadata": {},
     "output_type": "execute_result"
    }
   ],
   "source": [
    "ns_df = df[df.subscribedYN==0].sample(n=1099, random_state = 0)\n",
    "ns_df.shape"
   ]
  },
  {
   "cell_type": "code",
   "execution_count": 232,
   "metadata": {
    "collapsed": false
   },
   "outputs": [],
   "source": [
    "df = pd.concat([s_df, ns_df])"
   ]
  },
  {
   "cell_type": "markdown",
   "metadata": {},
   "source": [
    "<i>We received a new data frame with even amount of subscribed and not subscribed users.</i>"
   ]
  },
  {
   "cell_type": "code",
   "execution_count": 233,
   "metadata": {
    "collapsed": false
   },
   "outputs": [
    {
     "data": {
      "text/plain": [
       "(2198, 8)"
      ]
     },
     "execution_count": 233,
     "metadata": {},
     "output_type": "execute_result"
    }
   ],
   "source": [
    "df.shape"
   ]
  },
  {
   "cell_type": "markdown",
   "metadata": {},
   "source": [
    "<h3><i>New k-NN (subscribed users data + sample data for not subscribed users):</i></h3>\n",
    "<i>Let's try again:</i>"
   ]
  },
  {
   "cell_type": "code",
   "execution_count": 234,
   "metadata": {
    "collapsed": false
   },
   "outputs": [
    {
     "data": {
      "text/plain": [
       "0.81866464339908951"
      ]
     },
     "execution_count": 234,
     "metadata": {},
     "output_type": "execute_result"
    }
   ],
   "source": [
    "#Rebuilding:\n",
    "X = df[['sessions', 'experience', 'dob_given', 'focus']]\n",
    "c = df.subscribedYN\n",
    "\n",
    "train_X, test_X, train_c, test_c = cross_validation.train_test_split(X, c, train_size = .6, random_state = 0)\n",
    "\n",
    "scaler = preprocessing.MinMaxScaler().fit(train_X)\n",
    "\n",
    "train_X = scaler.transform(train_X)\n",
    "\n",
    "model = neighbors.KNeighborsClassifier(n_neighbors = 9, weights = 'uniform').fit(train_X, train_c)\n",
    "model.score(train_X, train_c)"
   ]
  },
  {
   "cell_type": "markdown",
   "metadata": {},
   "source": [
    "<h4><i>Grid search:</i></h4>"
   ]
  },
  {
   "cell_type": "code",
   "execution_count": 235,
   "metadata": {
    "collapsed": false
   },
   "outputs": [
    {
     "data": {
      "text/html": [
       "<div>\n",
       "<table border=\"1\" class=\"dataframe\">\n",
       "  <thead>\n",
       "    <tr style=\"text-align: right;\">\n",
       "      <th></th>\n",
       "      <th>k</th>\n",
       "      <th>score</th>\n",
       "      <th>weights</th>\n",
       "    </tr>\n",
       "  </thead>\n",
       "  <tbody>\n",
       "    <tr>\n",
       "      <th>0</th>\n",
       "      <td>1</td>\n",
       "      <td>0.667880</td>\n",
       "      <td>uniform</td>\n",
       "    </tr>\n",
       "    <tr>\n",
       "      <th>1</th>\n",
       "      <td>1</td>\n",
       "      <td>0.667880</td>\n",
       "      <td>distance</td>\n",
       "    </tr>\n",
       "    <tr>\n",
       "      <th>2</th>\n",
       "      <td>2</td>\n",
       "      <td>0.659691</td>\n",
       "      <td>uniform</td>\n",
       "    </tr>\n",
       "    <tr>\n",
       "      <th>3</th>\n",
       "      <td>2</td>\n",
       "      <td>0.669700</td>\n",
       "      <td>distance</td>\n",
       "    </tr>\n",
       "    <tr>\n",
       "      <th>4</th>\n",
       "      <td>3</td>\n",
       "      <td>0.681984</td>\n",
       "      <td>uniform</td>\n",
       "    </tr>\n",
       "    <tr>\n",
       "      <th>...</th>\n",
       "      <td>...</td>\n",
       "      <td>...</td>\n",
       "      <td>...</td>\n",
       "    </tr>\n",
       "    <tr>\n",
       "      <th>47</th>\n",
       "      <td>24</td>\n",
       "      <td>0.735669</td>\n",
       "      <td>distance</td>\n",
       "    </tr>\n",
       "    <tr>\n",
       "      <th>48</th>\n",
       "      <td>25</td>\n",
       "      <td>0.731119</td>\n",
       "      <td>uniform</td>\n",
       "    </tr>\n",
       "    <tr>\n",
       "      <th>49</th>\n",
       "      <td>25</td>\n",
       "      <td>0.731574</td>\n",
       "      <td>distance</td>\n",
       "    </tr>\n",
       "    <tr>\n",
       "      <th>50</th>\n",
       "      <td>26</td>\n",
       "      <td>0.729754</td>\n",
       "      <td>uniform</td>\n",
       "    </tr>\n",
       "    <tr>\n",
       "      <th>51</th>\n",
       "      <td>26</td>\n",
       "      <td>0.735669</td>\n",
       "      <td>distance</td>\n",
       "    </tr>\n",
       "  </tbody>\n",
       "</table>\n",
       "<p>52 rows × 3 columns</p>\n",
       "</div>"
      ],
      "text/plain": [
       "     k     score   weights\n",
       "0    1  0.667880   uniform\n",
       "1    1  0.667880  distance\n",
       "2    2  0.659691   uniform\n",
       "3    2  0.669700  distance\n",
       "4    3  0.681984   uniform\n",
       "..  ..       ...       ...\n",
       "47  24  0.735669  distance\n",
       "48  25  0.731119   uniform\n",
       "49  25  0.731574  distance\n",
       "50  26  0.729754   uniform\n",
       "51  26  0.735669  distance\n",
       "\n",
       "[52 rows x 3 columns]"
      ]
     },
     "execution_count": 235,
     "metadata": {},
     "output_type": "execute_result"
    }
   ],
   "source": [
    "k_cv = 10 # 10-fold CV\n",
    "k_nn = range(1, 30 * (k_cv - 1) / k_cv) # k-NN\n",
    "\n",
    "gs = grid_search.GridSearchCV(\n",
    "    estimator = neighbors.KNeighborsClassifier(),\n",
    "    param_grid = {'n_neighbors': k_nn, 'weights': ['uniform', 'distance']},\n",
    "    cv = cross_validation.KFold(df.shape[0], n_folds = k_cv)\n",
    ")\n",
    "\n",
    "gs.fit(X, c)\n",
    "\n",
    "score_df = pd.DataFrame({'k': [score.parameters['n_neighbors'] for score in gs.grid_scores_],\n",
    "    'score': [score.mean_validation_score for score in gs.grid_scores_],\n",
    "    'weights': [score.parameters['weights'] for score in gs.grid_scores_]})\n",
    "\n",
    "score_df"
   ]
  },
  {
   "cell_type": "code",
   "execution_count": 236,
   "metadata": {
    "collapsed": false
   },
   "outputs": [
    {
     "data": {
      "text/html": [
       "<div>\n",
       "<table border=\"1\" class=\"dataframe\">\n",
       "  <thead>\n",
       "    <tr style=\"text-align: right;\">\n",
       "      <th></th>\n",
       "      <th>k</th>\n",
       "      <th>score</th>\n",
       "      <th>weights</th>\n",
       "    </tr>\n",
       "  </thead>\n",
       "  <tbody>\n",
       "    <tr>\n",
       "      <th>24</th>\n",
       "      <td>13</td>\n",
       "      <td>0.741128</td>\n",
       "      <td>uniform</td>\n",
       "    </tr>\n",
       "  </tbody>\n",
       "</table>\n",
       "</div>"
      ],
      "text/plain": [
       "     k     score  weights\n",
       "24  13  0.741128  uniform"
      ]
     },
     "execution_count": 236,
     "metadata": {},
     "output_type": "execute_result"
    }
   ],
   "source": [
    "score_df[score_df.score == score_df.score.max()]"
   ]
  },
  {
   "cell_type": "markdown",
   "metadata": {},
   "source": [
    "<h4><i>Let's use k = 13, weights = 'uniform': </i></h4>"
   ]
  },
  {
   "cell_type": "code",
   "execution_count": 237,
   "metadata": {
    "collapsed": false
   },
   "outputs": [
    {
     "data": {
      "text/plain": [
       "0.81790591805766311"
      ]
     },
     "execution_count": 237,
     "metadata": {},
     "output_type": "execute_result"
    }
   ],
   "source": [
    "#Rebuilding:\n",
    "X = df[['sessions', 'experience', 'dob_given', 'focus']]\n",
    "c = df.subscribedYN\n",
    "\n",
    "train_X, test_X, train_c, test_c = cross_validation.train_test_split(X, c, train_size = .6, random_state = 0)\n",
    "\n",
    "scaler = preprocessing.MinMaxScaler().fit(train_X)\n",
    "\n",
    "train_X = scaler.transform(train_X)\n",
    "\n",
    "model = neighbors.KNeighborsClassifier(n_neighbors = 13, weights = 'uniform').fit(train_X, train_c)\n",
    "model.score(train_X, train_c)"
   ]
  },
  {
   "cell_type": "markdown",
   "metadata": {},
   "source": [
    "<i>k = 13 shows the best result with an accuracy close to 81,8%. \n",
    "This accuracy is a little lower than with k = 9, but it is more reliable.</i>"
   ]
  },
  {
   "cell_type": "markdown",
   "metadata": {},
   "source": [
    "<h4><i>AUC:</i></h4>"
   ]
  },
  {
   "cell_type": "code",
   "execution_count": 238,
   "metadata": {
    "collapsed": true
   },
   "outputs": [],
   "source": [
    "model_Subs = neighbors.KNeighborsClassifier(n_neighbors = 13, weights = 'uniform').fit(X, c)\n",
    "c_hat_subscribed = model_Subs.predict(X)"
   ]
  },
  {
   "cell_type": "code",
   "execution_count": 239,
   "metadata": {
    "collapsed": false
   },
   "outputs": [
    {
     "data": {
      "image/png": "[encoded data removed]",
      "text/plain": [
       "<matplotlib.figure.Figure at 0x1187d4490>"
      ]
     },
     "metadata": {},
     "output_type": "display_data"
    }
   ],
   "source": [
    "fpr, tpr, thresholds = metrics.roc_curve(c, c_hat_subscribed)\n",
    "\n",
    "plt.figure()\n",
    "plt.plot(fpr, tpr, label = 'ROC curve (area = %0.2f)' % metrics.auc(fpr, tpr))\n",
    "plt.plot([0, 1], [0, 1], 'k--')\n",
    "plt.xlim([0, 1.01])\n",
    "plt.ylim([0, 1.01])\n",
    "plt.xlabel('FPR/Fall-out')\n",
    "plt.ylabel('TPR/Sensitivity')\n",
    "plt.title(\"Subscribed's ROC\")\n",
    "plt.legend(loc = 'lower right')\n",
    "plt.show()"
   ]
  },
  {
   "cell_type": "code",
   "execution_count": 240,
   "metadata": {
    "collapsed": false
   },
   "outputs": [
    {
     "data": {
      "text/plain": [
       "array([0, 0, 1, 1])"
      ]
     },
     "execution_count": 240,
     "metadata": {},
     "output_type": "execute_result"
    }
   ],
   "source": [
    "predict_X = pd.DataFrame({'sessions': [10,10,10,10],\n",
    "        'experience': [1,2,3,4],\n",
    "        'dob_given':[0,0,0,0],\n",
    "        'focus':[0,0,0,0]})\n",
    "predict_X = predict_X[  ['sessions', 'experience', 'dob_given', 'focus'] ]\n",
    "\n",
    "predict_X = scaler.transform(predict_X)\n",
    "\n",
    "\n",
    "predict_c = model.predict(predict_X)\n",
    "predict_c"
   ]
  },
  {
   "cell_type": "markdown",
   "metadata": {},
   "source": [
    "<i>Looks better. Note, for 2nd and 3rd prediction I used the same amount of sessions, same focus and dob_given, but I changed the experience level from 2 to 3. As a result, 2nd prediction is 0, and 3rd is 1. <br> Model works, and experience level obviously influence user's subscription.</i>"
   ]
  },
  {
   "cell_type": "markdown",
   "metadata": {},
   "source": [
    "<h3><i>New logistic regression model</i></h3>"
   ]
  },
  {
   "cell_type": "code",
   "execution_count": 241,
   "metadata": {
    "collapsed": false
   },
   "outputs": [
    {
     "data": {
      "text/html": [
       "<div>\n",
       "<table border=\"1\" class=\"dataframe\">\n",
       "  <thead>\n",
       "    <tr style=\"text-align: right;\">\n",
       "      <th></th>\n",
       "      <th>subscribedYN</th>\n",
       "      <th>sec</th>\n",
       "      <th>sessions</th>\n",
       "      <th>series</th>\n",
       "      <th>focus</th>\n",
       "      <th>...</th>\n",
       "      <th>dob_given</th>\n",
       "      <th>exp_1</th>\n",
       "      <th>exp_2</th>\n",
       "      <th>exp_3</th>\n",
       "      <th>exp_4</th>\n",
       "    </tr>\n",
       "  </thead>\n",
       "  <tbody>\n",
       "    <tr>\n",
       "      <th>0</th>\n",
       "      <td>1</td>\n",
       "      <td>225</td>\n",
       "      <td>1</td>\n",
       "      <td>0</td>\n",
       "      <td>0</td>\n",
       "      <td>...</td>\n",
       "      <td>1</td>\n",
       "      <td>0.0</td>\n",
       "      <td>1.0</td>\n",
       "      <td>0.0</td>\n",
       "      <td>0.0</td>\n",
       "    </tr>\n",
       "    <tr>\n",
       "      <th>2</th>\n",
       "      <td>1</td>\n",
       "      <td>3750</td>\n",
       "      <td>9</td>\n",
       "      <td>2</td>\n",
       "      <td>0</td>\n",
       "      <td>...</td>\n",
       "      <td>1</td>\n",
       "      <td>0.0</td>\n",
       "      <td>0.0</td>\n",
       "      <td>0.0</td>\n",
       "      <td>1.0</td>\n",
       "    </tr>\n",
       "    <tr>\n",
       "      <th>4</th>\n",
       "      <td>1</td>\n",
       "      <td>810</td>\n",
       "      <td>4</td>\n",
       "      <td>0</td>\n",
       "      <td>0</td>\n",
       "      <td>...</td>\n",
       "      <td>1</td>\n",
       "      <td>0.0</td>\n",
       "      <td>0.0</td>\n",
       "      <td>0.0</td>\n",
       "      <td>1.0</td>\n",
       "    </tr>\n",
       "    <tr>\n",
       "      <th>17</th>\n",
       "      <td>1</td>\n",
       "      <td>1605</td>\n",
       "      <td>5</td>\n",
       "      <td>0</td>\n",
       "      <td>0</td>\n",
       "      <td>...</td>\n",
       "      <td>1</td>\n",
       "      <td>0.0</td>\n",
       "      <td>0.0</td>\n",
       "      <td>0.0</td>\n",
       "      <td>1.0</td>\n",
       "    </tr>\n",
       "    <tr>\n",
       "      <th>20</th>\n",
       "      <td>1</td>\n",
       "      <td>355</td>\n",
       "      <td>1</td>\n",
       "      <td>0</td>\n",
       "      <td>0</td>\n",
       "      <td>...</td>\n",
       "      <td>1</td>\n",
       "      <td>0.0</td>\n",
       "      <td>0.0</td>\n",
       "      <td>1.0</td>\n",
       "      <td>0.0</td>\n",
       "    </tr>\n",
       "  </tbody>\n",
       "</table>\n",
       "<p>5 rows × 11 columns</p>\n",
       "</div>"
      ],
      "text/plain": [
       "    subscribedYN   sec  sessions  series  focus  ...    dob_given  exp_1  \\\n",
       "0              1   225         1       0      0  ...            1    0.0   \n",
       "2              1  3750         9       2      0  ...            1    0.0   \n",
       "4              1   810         4       0      0  ...            1    0.0   \n",
       "17             1  1605         5       0      0  ...            1    0.0   \n",
       "20             1   355         1       0      0  ...            1    0.0   \n",
       "\n",
       "    exp_2  exp_3  exp_4  \n",
       "0     1.0    0.0    0.0  \n",
       "2     0.0    0.0    1.0  \n",
       "4     0.0    0.0    1.0  \n",
       "17    0.0    0.0    1.0  \n",
       "20    0.0    1.0    0.0  \n",
       "\n",
       "[5 rows x 11 columns]"
      ]
     },
     "execution_count": 241,
     "metadata": {},
     "output_type": "execute_result"
    }
   ],
   "source": [
    "experience_df = pd.get_dummies(df.experience, prefix = 'exp')\n",
    "\n",
    "experience_df.rename(columns = {'exp_1.0': 'exp_1',\n",
    "                              'exp_2.0': 'exp_2',\n",
    "                              'exp_3.0': 'exp_3',\n",
    "                              'exp_4.0': 'exp_4'}, inplace = True)\n",
    "df = df.join(experience_df)\n",
    "df.drop(['experience'], axis = 1, inplace = True)\n",
    "df.head()"
   ]
  },
  {
   "cell_type": "code",
   "execution_count": 242,
   "metadata": {
    "collapsed": false
   },
   "outputs": [
    {
     "name": "stdout",
     "output_type": "stream",
     "text": [
      "Optimization terminated successfully.\n",
      "         Current function value: 0.437484\n",
      "         Iterations 7\n"
     ]
    },
    {
     "data": {
      "text/html": [
       "<table class=\"simpletable\">\n",
       "<caption>Logit Regression Results</caption>\n",
       "<tr>\n",
       "  <th>Dep. Variable:</th>   <td>subscribedYN</td>   <th>  No. Observations:  </th>   <td>  2198</td>  \n",
       "</tr>\n",
       "<tr>\n",
       "  <th>Model:</th>               <td>Logit</td>      <th>  Df Residuals:      </th>   <td>  2191</td>  \n",
       "</tr>\n",
       "<tr>\n",
       "  <th>Method:</th>               <td>MLE</td>       <th>  Df Model:          </th>   <td>     6</td>  \n",
       "</tr>\n",
       "<tr>\n",
       "  <th>Date:</th>          <td>Sun, 13 Nov 2016</td> <th>  Pseudo R-squ.:     </th>   <td>0.3688</td>  \n",
       "</tr>\n",
       "<tr>\n",
       "  <th>Time:</th>              <td>23:21:56</td>     <th>  Log-Likelihood:    </th>  <td> -961.59</td> \n",
       "</tr>\n",
       "<tr>\n",
       "  <th>converged:</th>           <td>True</td>       <th>  LL-Null:           </th>  <td> -1523.5</td> \n",
       "</tr>\n",
       "<tr>\n",
       "  <th> </th>                      <td> </td>        <th>  LLR p-value:       </th> <td>1.411e-239</td>\n",
       "</tr>\n",
       "</table>\n",
       "<table class=\"simpletable\">\n",
       "<tr>\n",
       "      <td></td>         <th>coef</th>     <th>std err</th>      <th>z</th>      <th>P>|z|</th> <th>[95.0% Conf. Int.]</th> \n",
       "</tr>\n",
       "<tr>\n",
       "  <th>Intercept</th> <td>   -3.7732</td> <td>    0.213</td> <td>  -17.687</td> <td> 0.000</td> <td>   -4.191    -3.355</td>\n",
       "</tr>\n",
       "<tr>\n",
       "  <th>sessions</th>  <td>    0.2245</td> <td>    0.012</td> <td>   17.979</td> <td> 0.000</td> <td>    0.200     0.249</td>\n",
       "</tr>\n",
       "<tr>\n",
       "  <th>dob_given</th> <td>    1.0283</td> <td>    0.118</td> <td>    8.728</td> <td> 0.000</td> <td>    0.797     1.259</td>\n",
       "</tr>\n",
       "<tr>\n",
       "  <th>focus</th>     <td>    0.5335</td> <td>    0.167</td> <td>    3.187</td> <td> 0.001</td> <td>    0.205     0.862</td>\n",
       "</tr>\n",
       "<tr>\n",
       "  <th>exp_2</th>     <td>    1.3050</td> <td>    0.206</td> <td>    6.342</td> <td> 0.000</td> <td>    0.902     1.708</td>\n",
       "</tr>\n",
       "<tr>\n",
       "  <th>exp_3</th>     <td>    1.9318</td> <td>    0.190</td> <td>   10.191</td> <td> 0.000</td> <td>    1.560     2.303</td>\n",
       "</tr>\n",
       "<tr>\n",
       "  <th>exp_4</th>     <td>    3.8488</td> <td>    0.251</td> <td>   15.321</td> <td> 0.000</td> <td>    3.356     4.341</td>\n",
       "</tr>\n",
       "</table>"
      ],
      "text/plain": [
       "<class 'statsmodels.iolib.summary.Summary'>\n",
       "\"\"\"\n",
       "                           Logit Regression Results                           \n",
       "==============================================================================\n",
       "Dep. Variable:           subscribedYN   No. Observations:                 2198\n",
       "Model:                          Logit   Df Residuals:                     2191\n",
       "Method:                           MLE   Df Model:                            6\n",
       "Date:                Sun, 13 Nov 2016   Pseudo R-squ.:                  0.3688\n",
       "Time:                        23:21:56   Log-Likelihood:                -961.59\n",
       "converged:                       True   LL-Null:                       -1523.5\n",
       "                                        LLR p-value:                1.411e-239\n",
       "==============================================================================\n",
       "                 coef    std err          z      P>|z|      [95.0% Conf. Int.]\n",
       "------------------------------------------------------------------------------\n",
       "Intercept     -3.7732      0.213    -17.687      0.000        -4.191    -3.355\n",
       "sessions       0.2245      0.012     17.979      0.000         0.200     0.249\n",
       "dob_given      1.0283      0.118      8.728      0.000         0.797     1.259\n",
       "focus          0.5335      0.167      3.187      0.001         0.205     0.862\n",
       "exp_2          1.3050      0.206      6.342      0.000         0.902     1.708\n",
       "exp_3          1.9318      0.190     10.191      0.000         1.560     2.303\n",
       "exp_4          3.8488      0.251     15.321      0.000         3.356     4.341\n",
       "==============================================================================\n",
       "\"\"\""
      ]
     },
     "execution_count": 242,
     "metadata": {},
     "output_type": "execute_result"
    }
   ],
   "source": [
    "model = smf.logit(formula = 'subscribedYN ~ sessions + \\\n",
    "                dob_given + focus + exp_2 + exp_3 + exp_4', data = df).fit()\n",
    "model.summary()"
   ]
  },
  {
   "cell_type": "code",
   "execution_count": 243,
   "metadata": {
    "collapsed": false
   },
   "outputs": [
    {
     "data": {
      "text/plain": [
       "Intercept     0.022979\n",
       "sessions      1.251758\n",
       "dob_given     2.796174\n",
       "focus         1.704935\n",
       "exp_2         3.687559\n",
       "exp_3         6.902214\n",
       "exp_4        46.936913\n",
       "dtype: float64"
      ]
     },
     "execution_count": 243,
     "metadata": {},
     "output_type": "execute_result"
    }
   ],
   "source": [
    "np.exp(model.params)"
   ]
  },
  {
   "cell_type": "code",
   "execution_count": 244,
   "metadata": {
    "collapsed": false
   },
   "outputs": [
    {
     "data": {
      "text/plain": [
       "array([ 0.37767037,  0.6911533 ,  0.92791795,  0.98870572])"
      ]
     },
     "execution_count": 244,
     "metadata": {},
     "output_type": "execute_result"
    }
   ],
   "source": [
    "predict_X = pd.DataFrame({'intercept': [1,1,1,1],\n",
    "        'sessions': [10,10,15,15],\n",
    "        'focus':[0,0,0,0],\n",
    "        'dob_given':[1,1,1,1],\n",
    "        'exp_2': [0,1,0,0],\n",
    "        'exp_3': [0,0,1,0],\n",
    "        'exp_4': [0,0,0,1]})\n",
    "model.predict(predict_X)"
   ]
  },
  {
   "cell_type": "markdown",
   "metadata": {},
   "source": [
    "<h3><i>Sklearn</i></h3>"
   ]
  },
  {
   "cell_type": "code",
   "execution_count": 245,
   "metadata": {
    "collapsed": false
   },
   "outputs": [
    {
     "name": "stdout",
     "output_type": "stream",
     "text": [
      "Model score:  0.798908098271\n",
      "Intercept: [ 0.02326044]\n"
     ]
    },
    {
     "data": {
      "text/plain": [
       "[('sessions', 0.2242642381031674),\n",
       " ('dob_given', 1.026903534256836),\n",
       " ('focus', 0.53297409456266231),\n",
       " ('exp_2', 1.2947018758298643),\n",
       " ('exp_3', 1.9217662412994572),\n",
       " ('exp_4', 3.8375773807755045)]"
      ]
     },
     "execution_count": 245,
     "metadata": {},
     "output_type": "execute_result"
    }
   ],
   "source": [
    "X = df[ ['sessions', 'dob_given', 'focus', 'exp_2','exp_3','exp_4'] ]\n",
    "c = df.subscribedYN\n",
    "\n",
    "features = ['sessions', 'dob_given', 'focus', 'exp_2', 'exp_3', 'exp_4']\n",
    "\n",
    "model = linear_model.LogisticRegression(C=10**2).fit(X,c)\n",
    "\n",
    "print \"Model score: \",model.score(X,c)\n",
    "print \"Intercept:\", np.exp(model.intercept_)\n",
    "zip(features, model.coef_[0])"
   ]
  },
  {
   "cell_type": "markdown",
   "metadata": {},
   "source": [
    "<h4><i>AUC:</i></h4>"
   ]
  },
  {
   "cell_type": "code",
   "execution_count": 246,
   "metadata": {
    "collapsed": true
   },
   "outputs": [],
   "source": [
    "model_Subs = linear_model.LogisticRegression(C=10**2).fit(X, c)\n",
    "c_hat_subscribed = model_Subs.predict(X)"
   ]
  },
  {
   "cell_type": "code",
   "execution_count": 247,
   "metadata": {
    "collapsed": false
   },
   "outputs": [
    {
     "data": {
      "image/png": "[encoded data removed]",
      "text/plain": [
       "<matplotlib.figure.Figure at 0x11c7c1850>"
      ]
     },
     "metadata": {},
     "output_type": "display_data"
    }
   ],
   "source": [
    "fpr, tpr, thresholds = metrics.roc_curve(c, c_hat_subscribed)\n",
    "\n",
    "plt.figure()\n",
    "plt.plot(fpr, tpr, label = 'ROC curve (area = %0.2f)' % metrics.auc(fpr, tpr))\n",
    "plt.plot([0, 1], [0, 1], 'k--')\n",
    "plt.xlim([0, 1.01])\n",
    "plt.ylim([0, 1.01])\n",
    "plt.xlabel('FPR/Fall-out')\n",
    "plt.ylabel('TPR/Sensitivity')\n",
    "plt.title(\"Subscribed's ROC\")\n",
    "plt.legend(loc = 'lower right')\n",
    "plt.show()"
   ]
  },
  {
   "cell_type": "markdown",
   "metadata": {},
   "source": [
    "<h4><i>When I split the data:</i></h4>"
   ]
  },
  {
   "cell_type": "code",
   "execution_count": 248,
   "metadata": {
    "collapsed": true
   },
   "outputs": [],
   "source": [
    "train_df = df.sample(frac = .6)\n",
    "test_df = df.drop(train_df.index)\n",
    "\n",
    "train_X, train_subs = X_subs(train_df)\n",
    "test_X, test_subs = X_subs(test_df)"
   ]
  },
  {
   "cell_type": "code",
   "execution_count": 249,
   "metadata": {
    "collapsed": false
   },
   "outputs": [
    {
     "name": "stdout",
     "output_type": "stream",
     "text": [
      "training data model accuracy:  0.822592873389\n",
      "testing data model accuracy:  0.780432309443\n",
      "training err:  0.177407126611\n",
      "testing err:  0.219567690557\n"
     ]
    }
   ],
   "source": [
    "model = linear_model.LogisticRegression(C=10**2).fit(train_X,train_subs)\n",
    "\n",
    "print 'training data model accuracy: ', model.score(train_X,train_subs)\n",
    "print 'testing data model accuracy: ', model.score(test_X,test_subs)\n",
    "print 'training err: ', 1 - model.score(train_X,train_subs)\n",
    "print 'testing err: ', 1 - model.score(test_X,test_subs)"
   ]
  },
  {
   "cell_type": "markdown",
   "metadata": {},
   "source": [
    "<i>I get similar model accuracy: about 80%.</i>"
   ]
  },
  {
   "cell_type": "code",
   "execution_count": 250,
   "metadata": {
    "collapsed": false
   },
   "outputs": [
    {
     "name": "stdout",
     "output_type": "stream",
     "text": [
      "[0 1 1 1]\n",
      "[[ 0.7312  0.2688]\n",
      " [ 0.4515  0.5485]\n",
      " [ 0.1242  0.8758]\n",
      " [ 0.0154  0.9846]]\n"
     ]
    }
   ],
   "source": [
    "# predict_X.drop('intercept',axis = 1, inplace = True)\n",
    "predict_X = predict_X[['sessions', 'focus', 'dob_given', \n",
    "         'exp_2', 'exp_3', 'exp_4']]\n",
    "print model.predict(predict_X)\n",
    "print model.predict_proba(predict_X).round(4)"
   ]
  },
  {
   "cell_type": "markdown",
   "metadata": {},
   "source": [
    "<h3><i>Feature engineering</i></h3>"
   ]
  },
  {
   "cell_type": "code",
   "execution_count": 251,
   "metadata": {
    "collapsed": false
   },
   "outputs": [
    {
     "data": {
      "text/plain": [
       "Index([u'subscribedYN', u'sec', u'sessions', u'series', u'focus', u'gender',\n",
       "       u'dob_given', u'exp_1', u'exp_2', u'exp_3', u'exp_4'],\n",
       "      dtype='object')"
      ]
     },
     "execution_count": 251,
     "metadata": {},
     "output_type": "execute_result"
    }
   ],
   "source": [
    "df.columns"
   ]
  },
  {
   "cell_type": "code",
   "execution_count": 252,
   "metadata": {
    "collapsed": true
   },
   "outputs": [],
   "source": [
    "df ['SecPSession'] = df.sec/df.sessions"
   ]
  },
  {
   "cell_type": "markdown",
   "metadata": {},
   "source": [
    "<h4><i>Statsmodels and sklearn </i></h4>"
   ]
  },
  {
   "cell_type": "code",
   "execution_count": 253,
   "metadata": {
    "collapsed": false
   },
   "outputs": [
    {
     "name": "stdout",
     "output_type": "stream",
     "text": [
      "Optimization terminated successfully.\n",
      "         Current function value: 0.375269\n",
      "         Iterations 7\n"
     ]
    },
    {
     "data": {
      "text/html": [
       "<table class=\"simpletable\">\n",
       "<caption>Logit Regression Results</caption>\n",
       "<tr>\n",
       "  <th>Dep. Variable:</th>   <td>subscribedYN</td>   <th>  No. Observations:  </th>   <td>  2198</td>  \n",
       "</tr>\n",
       "<tr>\n",
       "  <th>Model:</th>               <td>Logit</td>      <th>  Df Residuals:      </th>   <td>  2191</td>  \n",
       "</tr>\n",
       "<tr>\n",
       "  <th>Method:</th>               <td>MLE</td>       <th>  Df Model:          </th>   <td>     6</td>  \n",
       "</tr>\n",
       "<tr>\n",
       "  <th>Date:</th>          <td>Sun, 13 Nov 2016</td> <th>  Pseudo R-squ.:     </th>   <td>0.4586</td>  \n",
       "</tr>\n",
       "<tr>\n",
       "  <th>Time:</th>              <td>23:21:56</td>     <th>  Log-Likelihood:    </th>  <td> -824.84</td> \n",
       "</tr>\n",
       "<tr>\n",
       "  <th>converged:</th>           <td>True</td>       <th>  LL-Null:           </th>  <td> -1523.5</td> \n",
       "</tr>\n",
       "<tr>\n",
       "  <th> </th>                      <td> </td>        <th>  LLR p-value:       </th> <td>8.886e-299</td>\n",
       "</tr>\n",
       "</table>\n",
       "<table class=\"simpletable\">\n",
       "<tr>\n",
       "       <td></td>          <th>coef</th>     <th>std err</th>      <th>z</th>      <th>P>|z|</th> <th>[95.0% Conf. Int.]</th> \n",
       "</tr>\n",
       "<tr>\n",
       "  <th>Intercept</th>   <td>   -4.6120</td> <td>    0.244</td> <td>  -18.905</td> <td> 0.000</td> <td>   -5.090    -4.134</td>\n",
       "</tr>\n",
       "<tr>\n",
       "  <th>sessions</th>    <td>    0.1972</td> <td>    0.013</td> <td>   15.654</td> <td> 0.000</td> <td>    0.173     0.222</td>\n",
       "</tr>\n",
       "<tr>\n",
       "  <th>SecPSession</th> <td>    0.0045</td> <td>    0.000</td> <td>   13.370</td> <td> 0.000</td> <td>    0.004     0.005</td>\n",
       "</tr>\n",
       "<tr>\n",
       "  <th>dob_given</th>   <td>    0.4748</td> <td>    0.133</td> <td>    3.581</td> <td> 0.000</td> <td>    0.215     0.735</td>\n",
       "</tr>\n",
       "<tr>\n",
       "  <th>exp_2</th>       <td>    1.3716</td> <td>    0.223</td> <td>    6.137</td> <td> 0.000</td> <td>    0.934     1.810</td>\n",
       "</tr>\n",
       "<tr>\n",
       "  <th>exp_3</th>       <td>    1.7275</td> <td>    0.207</td> <td>    8.327</td> <td> 0.000</td> <td>    1.321     2.134</td>\n",
       "</tr>\n",
       "<tr>\n",
       "  <th>exp_4</th>       <td>    3.5650</td> <td>    0.271</td> <td>   13.151</td> <td> 0.000</td> <td>    3.034     4.096</td>\n",
       "</tr>\n",
       "</table>"
      ],
      "text/plain": [
       "<class 'statsmodels.iolib.summary.Summary'>\n",
       "\"\"\"\n",
       "                           Logit Regression Results                           \n",
       "==============================================================================\n",
       "Dep. Variable:           subscribedYN   No. Observations:                 2198\n",
       "Model:                          Logit   Df Residuals:                     2191\n",
       "Method:                           MLE   Df Model:                            6\n",
       "Date:                Sun, 13 Nov 2016   Pseudo R-squ.:                  0.4586\n",
       "Time:                        23:21:56   Log-Likelihood:                -824.84\n",
       "converged:                       True   LL-Null:                       -1523.5\n",
       "                                        LLR p-value:                8.886e-299\n",
       "===============================================================================\n",
       "                  coef    std err          z      P>|z|      [95.0% Conf. Int.]\n",
       "-------------------------------------------------------------------------------\n",
       "Intercept      -4.6120      0.244    -18.905      0.000        -5.090    -4.134\n",
       "sessions        0.1972      0.013     15.654      0.000         0.173     0.222\n",
       "SecPSession     0.0045      0.000     13.370      0.000         0.004     0.005\n",
       "dob_given       0.4748      0.133      3.581      0.000         0.215     0.735\n",
       "exp_2           1.3716      0.223      6.137      0.000         0.934     1.810\n",
       "exp_3           1.7275      0.207      8.327      0.000         1.321     2.134\n",
       "exp_4           3.5650      0.271     13.151      0.000         3.034     4.096\n",
       "===============================================================================\n",
       "\"\"\""
      ]
     },
     "execution_count": 253,
     "metadata": {},
     "output_type": "execute_result"
    }
   ],
   "source": [
    "model = smf.logit(formula = 'subscribedYN ~ sessions +\\\n",
    "               SecPSession + dob_given + exp_2 + exp_3 + exp_4', data = df).fit()\n",
    "model.summary()"
   ]
  },
  {
   "cell_type": "code",
   "execution_count": 254,
   "metadata": {
    "collapsed": false
   },
   "outputs": [
    {
     "name": "stdout",
     "output_type": "stream",
     "text": [
      "Model score:  0.848043676069\n",
      "Intercept: [-4.56694098]\n"
     ]
    },
    {
     "data": {
      "text/plain": [
       "[('sessions', 0.19612109448989948),\n",
       " ('SecPSession', 0.0044763285344718252),\n",
       " ('dob_given', 0.47108441674119594),\n",
       " ('exp_2', 1.3403465287449012),\n",
       " ('exp_3', 1.6990181149319732),\n",
       " ('exp_4', 3.5253573187364653)]"
      ]
     },
     "execution_count": 254,
     "metadata": {},
     "output_type": "execute_result"
    }
   ],
   "source": [
    "X = df[ ['sessions', 'SecPSession', 'dob_given', 'exp_2','exp_3','exp_4'] ]\n",
    "c = df.subscribedYN\n",
    "\n",
    "features = ['sessions','SecPSession','dob_given', 'exp_2', 'exp_3', 'exp_4']\n",
    "\n",
    "model = linear_model.LogisticRegression(C=10**2).fit(X,c)\n",
    "\n",
    "print \"Model score: \", model.score(X,c)\n",
    "print \"Intercept:\", model.intercept_\n",
    "zip(features, model.coef_[0])"
   ]
  },
  {
   "cell_type": "markdown",
   "metadata": {},
   "source": [
    "<i>Splitting into train and test data:</i>"
   ]
  },
  {
   "cell_type": "code",
   "execution_count": 255,
   "metadata": {
    "collapsed": false
   },
   "outputs": [
    {
     "name": "stdout",
     "output_type": "stream",
     "text": [
      "Training data model accuracy:  0.836239575436\n",
      "Testing data model accuracy:  0.853242320819\n"
     ]
    }
   ],
   "source": [
    "train_df = df.sample(frac = .6)\n",
    "test_df = df.drop(train_df.index)\n",
    "\n",
    "def X_subs(df):\n",
    "    X = df[features]\n",
    "    subs = df.subscribedYN\n",
    "    return X, subs\n",
    "\n",
    "train_X, train_subs = X_subs(train_df)\n",
    "test_X, test_subs = X_subs(test_df)\n",
    "model = linear_model.LogisticRegression(C=10**2).fit(train_X,train_subs)\n",
    "print 'Training data model accuracy: ', model.score(train_X,train_subs)\n",
    "print 'Testing data model accuracy: ', model.score(test_X,test_subs)"
   ]
  },
  {
   "cell_type": "markdown",
   "metadata": {},
   "source": [
    "<i>AUC:</i>"
   ]
  },
  {
   "cell_type": "code",
   "execution_count": 256,
   "metadata": {
    "collapsed": true
   },
   "outputs": [],
   "source": [
    "model_Subs = linear_model.LogisticRegression(C=10**2).fit(X, c)\n",
    "c_hat_subscribed = model_Subs.predict(X)"
   ]
  },
  {
   "cell_type": "code",
   "execution_count": 257,
   "metadata": {
    "collapsed": false
   },
   "outputs": [
    {
     "data": {
      "image/png": "[encoded data removed]",
      "text/plain": [
       "<matplotlib.figure.Figure at 0x118778550>"
      ]
     },
     "metadata": {},
     "output_type": "display_data"
    }
   ],
   "source": [
    "fpr, tpr, thresholds = metrics.roc_curve(c, c_hat_subscribed)\n",
    "\n",
    "plt.figure()\n",
    "plt.plot(fpr, tpr, label = 'ROC curve (area = %0.2f)' % metrics.auc(fpr, tpr))\n",
    "plt.plot([0, 1], [0, 1], 'k--')\n",
    "plt.xlim([0, 1.01])\n",
    "plt.ylim([0, 1.01])\n",
    "plt.xlabel('FPR/Fall-out')\n",
    "plt.ylabel('TPR/Sensitivity')\n",
    "plt.title(\"Subscribed's ROC\")\n",
    "plt.legend(loc = 'lower right')\n",
    "plt.show()"
   ]
  },
  {
   "cell_type": "markdown",
   "metadata": {},
   "source": [
    "<h4><i>Odds Ratios:</i></h4>"
   ]
  },
  {
   "cell_type": "code",
   "execution_count": 258,
   "metadata": {
    "collapsed": false
   },
   "outputs": [
    {
     "data": {
      "text/plain": [
       "[('sessions', 1.1970128173657211),\n",
       " ('SecPSession', 1.0039810563951046),\n",
       " ('dob_given', 1.4777974334055577),\n",
       " ('exp_2', 2.9898312266810065),\n",
       " ('exp_3', 4.5136659935015953),\n",
       " ('exp_4', 41.742126609177262)]"
      ]
     },
     "execution_count": 258,
     "metadata": {},
     "output_type": "execute_result"
    }
   ],
   "source": [
    "zip(features, np.exp(model.coef_[0]))"
   ]
  },
  {
   "cell_type": "code",
   "execution_count": 259,
   "metadata": {
    "collapsed": false
   },
   "outputs": [
    {
     "name": "stdout",
     "output_type": "stream",
     "text": [
      "[0 0 1 1]\n",
      "[[ 0.7992  0.2008]\n",
      " [ 0.571   0.429 ]\n",
      " [ 0.4686  0.5314]\n",
      " [ 0.087   0.913 ]]\n"
     ]
    }
   ],
   "source": [
    "predict_X = pd.DataFrame({\n",
    "        'sessions': [10,10,10,10],\n",
    "        'SecPSession':[240,240,240,240],\n",
    "        'dob_given':[0,0,0,0],\n",
    "        'exp_2': [0,1,0,0],\n",
    "        'exp_3': [0,0,1,0],\n",
    "        'exp_4': [0,0,0,1]})\n",
    "model.predict(predict_X)\n",
    "predict_X = predict_X[['sessions', 'SecPSession', 'dob_given', \n",
    "         'exp_2', 'exp_3', 'exp_4']]\n",
    "print model.predict(predict_X)\n",
    "print model.predict_proba(predict_X).round(4)"
   ]
  },
  {
   "cell_type": "code",
   "execution_count": null,
   "metadata": {
    "collapsed": true
   },
   "outputs": [],
   "source": []
  },
  {
   "cell_type": "code",
   "execution_count": null,
   "metadata": {
    "collapsed": true
   },
   "outputs": [],
   "source": []
  },
  {
   "cell_type": "code",
   "execution_count": null,
   "metadata": {
    "collapsed": true
   },
   "outputs": [],
   "source": []
  },
  {
   "cell_type": "code",
   "execution_count": null,
   "metadata": {
    "collapsed": true
   },
   "outputs": [],
   "source": []
  }
 ],
 "metadata": {
  "anaconda-cloud": {},
  "kernelspec": {
   "display_name": "Python [Root]",
   "language": "python",
   "name": "Python [Root]"
  },
  "language_info": {
   "codemirror_mode": {
    "name": "ipython",
    "version": 2
   },
   "file_extension": ".py",
   "mimetype": "text/x-python",
   "name": "python",
   "nbconvert_exporter": "python",
   "pygments_lexer": "ipython2",
   "version": "2.7.12"
  }
 },
 "nbformat": 4,
 "nbformat_minor": 0
}
